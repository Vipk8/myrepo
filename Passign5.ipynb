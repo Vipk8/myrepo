{
 "cells": [
  {
   "cell_type": "code",
   "execution_count": 1,
   "id": "856ba7bb",
   "metadata": {},
   "outputs": [],
   "source": [
    "#1.Write a Python Program to Find LCM?"
   ]
  },
  {
   "cell_type": "code",
   "execution_count": 7,
   "id": "ec9a0da3",
   "metadata": {},
   "outputs": [
    {
     "name": "stdout",
     "output_type": "stream",
     "text": [
      "LCM is: 60\n"
     ]
    }
   ],
   "source": [
    "def lcm(x,y):\n",
    "    if x > y:\n",
    "        big = x\n",
    "    else:\n",
    "        big = y\n",
    "    while True:\n",
    "        if big % x == 0 and big % y == 0:\n",
    "            print(\"LCM is:\", big)\n",
    "            break\n",
    "        big += 1\n",
    "lcm(12,15)"
   ]
  },
  {
   "cell_type": "code",
   "execution_count": 2,
   "id": "2e832931",
   "metadata": {},
   "outputs": [],
   "source": [
    "#2.Write a Python Program to Find HCF?"
   ]
  },
  {
   "cell_type": "code",
   "execution_count": 10,
   "id": "4ce2c0e1",
   "metadata": {},
   "outputs": [
    {
     "data": {
      "text/plain": [
       "2"
      ]
     },
     "execution_count": 10,
     "metadata": {},
     "output_type": "execute_result"
    }
   ],
   "source": [
    "def hcf(x, y):\n",
    "    if x > y:\n",
    "        smaller = y\n",
    "    else:\n",
    "        smaller = x\n",
    "    for i in range(1, smaller+1):\n",
    "        if((x % i == 0) and (y % i == 0)):\n",
    "            hcf = i\n",
    "    return hcf\n",
    "hcf(12,14)"
   ]
  },
  {
   "cell_type": "code",
   "execution_count": 3,
   "id": "ed957e2f",
   "metadata": {},
   "outputs": [],
   "source": [
    "#3.Write a Python Program to Convert Decimal to Binary, Octal and Hexadecimal?"
   ]
  },
  {
   "cell_type": "code",
   "execution_count": 16,
   "id": "25ec382d",
   "metadata": {},
   "outputs": [
    {
     "name": "stdout",
     "output_type": "stream",
     "text": [
      "0b101\n",
      "0o5\n",
      "0x5\n"
     ]
    }
   ],
   "source": [
    "def con(x):\n",
    "    print(bin(x))\n",
    "    print(oct(x))\n",
    "    print(hex(x))\n",
    "    \n",
    "con(5)"
   ]
  },
  {
   "cell_type": "code",
   "execution_count": 4,
   "id": "e10313fc",
   "metadata": {},
   "outputs": [],
   "source": [
    "#4.Write a Python Program To Find ASCII value of a character?"
   ]
  },
  {
   "cell_type": "code",
   "execution_count": 22,
   "id": "b11c78ec",
   "metadata": {},
   "outputs": [
    {
     "name": "stdout",
     "output_type": "stream",
     "text": [
      "104\n"
     ]
    }
   ],
   "source": [
    "def asci(x):\n",
    "    if type(x)==str:\n",
    "        print(ord(x))\n",
    "    else:\n",
    "        print(\"enter a character.\")\n",
    "        \n",
    "asci(\"h\")"
   ]
  },
  {
   "cell_type": "code",
   "execution_count": 5,
   "id": "29e6a4b0",
   "metadata": {},
   "outputs": [],
   "source": [
    "#5.Write a Python Program to Make a Simple Calculator with 4 basic mathematical operations?"
   ]
  },
  {
   "cell_type": "code",
   "execution_count": 33,
   "id": "f1f5bd2d",
   "metadata": {},
   "outputs": [
    {
     "data": {
      "text/plain": [
       "2.0"
      ]
     },
     "execution_count": 33,
     "metadata": {},
     "output_type": "execute_result"
    }
   ],
   "source": [
    "def cal(x,y,m):\n",
    "    if m=='+':\n",
    "        return x+y\n",
    "    elif m=='-':\n",
    "        return x-y\n",
    "    elif m=='*':\n",
    "        return x*y\n",
    "    elif m=='/':\n",
    "        return x/y\n",
    "    else:\n",
    "        print(\"Invelid operation\")\n",
    "cal(4,2,'/')"
   ]
  }
 ],
 "metadata": {
  "kernelspec": {
   "display_name": "Python 3 (ipykernel)",
   "language": "python",
   "name": "python3"
  },
  "language_info": {
   "codemirror_mode": {
    "name": "ipython",
    "version": 3
   },
   "file_extension": ".py",
   "mimetype": "text/x-python",
   "name": "python",
   "nbconvert_exporter": "python",
   "pygments_lexer": "ipython3",
   "version": "3.9.12"
  }
 },
 "nbformat": 4,
 "nbformat_minor": 5
}
