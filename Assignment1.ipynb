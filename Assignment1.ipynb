{
 "cells": [
  {
   "cell_type": "markdown",
   "id": "765f090d",
   "metadata": {},
   "source": [
    "Q1. What is the purpose of Python&#39;s OOP?"
   ]
  },
  {
   "cell_type": "markdown",
   "id": "c39e4e53",
   "metadata": {},
   "source": [
    "The purpose of Python's Object-Oriented Programming (OOP) is to organize code into reusable and modular structures called objects, which encapsulate data and behavior. OOP promotes code reusability, modularity, and easier maintenance, making it easier to manage and scale complex software systems."
   ]
  },
  {
   "cell_type": "markdown",
   "id": "d5c0cc93",
   "metadata": {},
   "source": [
    "Q2. Where does an inheritance search look for an attribute?"
   ]
  },
  {
   "cell_type": "markdown",
   "id": "9fbbbad7",
   "metadata": {},
   "source": [
    "In Python's inheritance search, the attribute is looked for first in the instance itself, and if not found, it is searched for in the class it belongs to. If still not found, the search continues in the parent classes, following the inheritance hierarchy, until the attribute is found or the search reaches the topmost class."
   ]
  },
  {
   "cell_type": "markdown",
   "id": "c5e7000e",
   "metadata": {},
   "source": [
    "Q3. How do you distinguish between a class object and an instance object?"
   ]
  },
  {
   "cell_type": "markdown",
   "id": "85efdb63",
   "metadata": {},
   "source": [
    "A class object represents the blueprint or definition of a class. It describes the attributes and behaviors that instances of the class will have. An instance object, on the other hand, is a specific occurrence or individual realization of a class. It is created from the class and possesses the attributes and behaviors defined by the class."
   ]
  },
  {
   "cell_type": "markdown",
   "id": "e44dbf3d",
   "metadata": {},
   "source": [
    "Q4. What makes the first argument in a class’s method function special?"
   ]
  },
  {
   "cell_type": "markdown",
   "id": "34b1ce2e",
   "metadata": {},
   "source": [
    "The first argument in a class's method function, conventionally named self, refers to the instance of the class itself. It allows the method to access and manipulate the instance's attributes and behaviors. By using self, methods can differentiate between instance-level and class-level variables and perform operations specific to the instance."
   ]
  },
  {
   "cell_type": "markdown",
   "id": "1683470c",
   "metadata": {},
   "source": [
    "Q5. What is the purpose of the __init__ method?"
   ]
  },
  {
   "cell_type": "markdown",
   "id": "2941649c",
   "metadata": {},
   "source": [
    "The __init__ method in a class is used to initialize the object's attributes when it is created. It is called automatically when creating a new instance of the class and allows you to set initial values for the object's attributes."
   ]
  },
  {
   "cell_type": "markdown",
   "id": "59649551",
   "metadata": {},
   "source": [
    "Q6. What is the process for creating a class instance?"
   ]
  },
  {
   "cell_type": "markdown",
   "id": "1d8de431",
   "metadata": {},
   "source": [
    "To create a class instance in Python:\n",
    "\n",
    "Define the class with its attributes and methods.\n",
    "Use the class name followed by parentheses to call the class constructor, which is usually the __init__ method.\n",
    "Pass any required arguments to the constructor to initialize the instance's attributes.\n",
    "The constructor will be called, and a new instance of the class will be created.\n",
    "The instance can then be assigned to a variable and accessed to utilize its attributes and methods."
   ]
  },
  {
   "cell_type": "markdown",
   "id": "0d2437b2",
   "metadata": {},
   "source": [
    "Q7. What is the process for creating a class?"
   ]
  },
  {
   "cell_type": "markdown",
   "id": "be13c78e",
   "metadata": {},
   "source": [
    "\n",
    "To create a class in Python:\n",
    "\n",
    "Use the class keyword followed by the class name to define the class.\n",
    "Define the attributes and methods within the class block.\n",
    "Optionally, define a constructor method __init__() to initialize the object's attributes.\n",
    "Create instances of the class by calling the class name followed by parentheses, similar to calling a function.\n",
    "The instances can then be used to access the class's attributes and methods."
   ]
  },
  {
   "cell_type": "markdown",
   "id": "6b8395fe",
   "metadata": {},
   "source": [
    "Q8. How would you define the superclasses of a class?"
   ]
  },
  {
   "cell_type": "markdown",
   "id": "7974ea1b",
   "metadata": {},
   "source": [
    "To define the superclasses of a class in Python:\n",
    "\n",
    "Include the names of the superclass(es) inside parentheses after the class name during class declaration.\n",
    "Separate multiple superclasses with commas if the class has more than one.\n",
    "This is done using the syntax: class ClassName(Superclass1, Superclass2, ...)."
   ]
  },
  {
   "cell_type": "code",
   "execution_count": null,
   "id": "9563b523",
   "metadata": {},
   "outputs": [],
   "source": []
  }
 ],
 "metadata": {
  "kernelspec": {
   "display_name": "Python 3 (ipykernel)",
   "language": "python",
   "name": "python3"
  },
  "language_info": {
   "codemirror_mode": {
    "name": "ipython",
    "version": 3
   },
   "file_extension": ".py",
   "mimetype": "text/x-python",
   "name": "python",
   "nbconvert_exporter": "python",
   "pygments_lexer": "ipython3",
   "version": "3.10.9"
  }
 },
 "nbformat": 4,
 "nbformat_minor": 5
}
