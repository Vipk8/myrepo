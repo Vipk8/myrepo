{
 "cells": [
  {
   "cell_type": "code",
   "execution_count": 1,
   "id": "1cfc16a8",
   "metadata": {},
   "outputs": [],
   "source": [
    "#1. What is the name of the feature responsible for generating Regex objects?"
   ]
  },
  {
   "cell_type": "markdown",
   "id": "cf6b75bb",
   "metadata": {},
   "source": [
    "Ans- The feature responsible for generating regular expression Regex objects in Python is  're' module."
   ]
  },
  {
   "cell_type": "code",
   "execution_count": 2,
   "id": "72a34b9d",
   "metadata": {},
   "outputs": [],
   "source": [
    "#2. Why do raw strings often appear in Regex objects?"
   ]
  },
  {
   "cell_type": "markdown",
   "id": "b139e78c",
   "metadata": {},
   "source": [
    "Ans- because regular expressions use a lot of backslashes ('\\') to indicate special characters."
   ]
  },
  {
   "cell_type": "code",
   "execution_count": 3,
   "id": "1896da12",
   "metadata": {},
   "outputs": [],
   "source": [
    "#3. What is the return value of the search() method?"
   ]
  },
  {
   "cell_type": "markdown",
   "id": "90bdc356",
   "metadata": {},
   "source": [
    "Ans- search() not defined."
   ]
  },
  {
   "cell_type": "code",
   "execution_count": 4,
   "id": "3c5e1452",
   "metadata": {},
   "outputs": [],
   "source": [
    "#4. From a Match item, how do you get the actual strings that match the pattern?"
   ]
  },
  {
   "cell_type": "markdown",
   "id": "f761e03a",
   "metadata": {},
   "source": [
    "Ans- by calling group() method."
   ]
  },
  {
   "cell_type": "code",
   "execution_count": 5,
   "id": "7101b4c0",
   "metadata": {},
   "outputs": [],
   "source": [
    "#5. In the regex which created from the r'(\\d\\d\\d)-(\\d\\d\\d-\\d\\d\\d\\d)', what does group zero cover? Group 2? Group 1?"
   ]
  },
  {
   "cell_type": "code",
   "execution_count": null,
   "id": "d91e4859",
   "metadata": {},
   "outputs": [],
   "source": [
    "#Ans- In the above case:\n",
    "# Group 0 cover whole match\n",
    "# Group 1 cover first three digit and\n",
    "# Group 2 cover rest digit means 7 digit of the match."
   ]
  },
  {
   "cell_type": "code",
   "execution_count": 6,
   "id": "6e4b3d81",
   "metadata": {},
   "outputs": [],
   "source": [
    "#6. In standard expression syntax, parentheses and intervals have distinct meanings. How can you tell a regex that you want it to fit real parentheses and periods?"
   ]
  },
  {
   "cell_type": "markdown",
   "id": "df581c74",
   "metadata": {},
   "source": [
    "Ans- using a backslash '\\'."
   ]
  },
  {
   "cell_type": "code",
   "execution_count": 7,
   "id": "9207b05d",
   "metadata": {},
   "outputs": [],
   "source": [
    "#7. The findall() method returns a string list or a list of string tuples. What causes it to return one of the two options?"
   ]
  },
  {
   "cell_type": "markdown",
   "id": "6b1ac34e",
   "metadata": {},
   "source": [
    "Ans:- If the regular expression pattern contains no capturing groups i.e., no parentheses, then findall() method returns a list of strings and If the regular expression pattern contains one or more capturing groups i.e., one or more sets of parentheses, then findall() method returns a list of tuples."
   ]
  },
  {
   "cell_type": "code",
   "execution_count": 11,
   "id": "88390983",
   "metadata": {},
   "outputs": [],
   "source": [
    "#8. In standard expressions, what does the | character mean?"
   ]
  },
  {
   "cell_type": "markdown",
   "id": "dc250a12",
   "metadata": {},
   "source": [
    "Ans- character | stand for OR operator."
   ]
  },
  {
   "cell_type": "code",
   "execution_count": 12,
   "id": "71e0e958",
   "metadata": {},
   "outputs": [],
   "source": [
    "#9. In regular expressions, what does the character \".\" stand for?"
   ]
  },
  {
   "cell_type": "markdown",
   "id": "68e9a22f",
   "metadata": {},
   "source": [
    "Ans- the \".\" character in Python matches any single character except for a newline character (\\n)."
   ]
  },
  {
   "cell_type": "code",
   "execution_count": 13,
   "id": "f607d067",
   "metadata": {},
   "outputs": [],
   "source": [
    "#10.In regular expressions, what is the difference between the + and * characters?"
   ]
  },
  {
   "cell_type": "markdown",
   "id": "cbf3b4e3",
   "metadata": {},
   "source": [
    "Ans- The \"+\" character matches one or more occurrences of the preceding character or group. Where as \"*\" matches zero or more occurrences of the preceding character or group.\n"
   ]
  },
  {
   "cell_type": "code",
   "execution_count": 23,
   "id": "0c9bc428",
   "metadata": {},
   "outputs": [],
   "source": [
    "#11.What is the difference between {4} and {4,5} in regular expression?"
   ]
  },
  {
   "cell_type": "markdown",
   "id": "c529b02e",
   "metadata": {},
   "source": [
    "Ans- Here {4} it matches four times the given value where as {4,5} matches between four and five."
   ]
  },
  {
   "cell_type": "code",
   "execution_count": 24,
   "id": "3d9a9583",
   "metadata": {},
   "outputs": [],
   "source": [
    "#12. What do you mean by the \\d, \\w, and \\s shorthand character classes signify in regular expressions?"
   ]
  },
  {
   "cell_type": "markdown",
   "id": "a71c486f",
   "metadata": {},
   "source": [
    "Ans- \\d: Matches any digit character (0-9). \\w: matches any alphanumeric character (letters and digits) and underscores (_). \\s: matches any whitespace character (spaces, tabs, newlines, etc.)."
   ]
  },
  {
   "cell_type": "code",
   "execution_count": 25,
   "id": "02a88ce4",
   "metadata": {},
   "outputs": [],
   "source": [
    "#13. What do means by \\D, \\W, and \\S shorthand character classes signify in regular expressions?"
   ]
  },
  {
   "cell_type": "markdown",
   "id": "3b4370b8",
   "metadata": {},
   "source": [
    "Ans- \\D: Matches any non-digit character (not 0-9). \\W: Matches any non-word character, which includes any character that is not a letter (a-z or A-Z), not a digit (0-9), and not an underscore (_). \\S: Matches any non-whitespace character."
   ]
  },
  {
   "cell_type": "code",
   "execution_count": 26,
   "id": "82df452f",
   "metadata": {},
   "outputs": [],
   "source": [
    "#14. What is the difference between .*? and .*?"
   ]
  },
  {
   "cell_type": "markdown",
   "id": "bfd1d375",
   "metadata": {},
   "source": [
    "Ans- .* it will match the longest possible sequence of characters that satisfies the rest of the regular expression. Where as .*? it will match the shortest possible sequence of characters that satisfies the rest of the regular expression. "
   ]
  },
  {
   "cell_type": "code",
   "execution_count": 27,
   "id": "45c5f6b5",
   "metadata": {},
   "outputs": [],
   "source": [
    "#15. What is the syntax for matching both numbers and lowercase letters with a character class?"
   ]
  },
  {
   "cell_type": "markdown",
   "id": "57c038d0",
   "metadata": {},
   "source": [
    "Ans- pattern r\"[\\d[a-z]]+\"  "
   ]
  },
  {
   "cell_type": "code",
   "execution_count": 28,
   "id": "366dcedd",
   "metadata": {},
   "outputs": [],
   "source": [
    "#16. What is the procedure for making a normal expression in regax case insensitive?"
   ]
  },
  {
   "cell_type": "markdown",
   "id": "f714e564",
   "metadata": {},
   "source": [
    "Ans- re.IGNORECASE or re.I "
   ]
  },
  {
   "cell_type": "code",
   "execution_count": 29,
   "id": "3108dc67",
   "metadata": {},
   "outputs": [],
   "source": [
    "#17. What does the . character normally match? What does it match if re.DOTALL is passed as 2nd argument in re.compile()?"
   ]
  },
  {
   "cell_type": "markdown",
   "id": "4a2db3a0",
   "metadata": {},
   "source": [
    "Ans- the '.' character normally matches any character except for a newline character \\n. If the re.DOTAL is passed as the second argument to the re.compile() function in the regular expression pattern, then the '.' character matches any character, including newline characters"
   ]
  },
  {
   "cell_type": "code",
   "execution_count": 30,
   "id": "c5f2a774",
   "metadata": {},
   "outputs": [],
   "source": [
    "#18. If numReg = re.compile(r'\\d+'), what will numRegex.sub('X', '11 drummers, 10 pipers, five rings, 4 hen') return?"
   ]
  },
  {
   "cell_type": "markdown",
   "id": "dec98649",
   "metadata": {},
   "source": [
    "Ans- 'X drummers, X pipers, five rings, X hen' "
   ]
  },
  {
   "cell_type": "code",
   "execution_count": 31,
   "id": "9de35f8a",
   "metadata": {},
   "outputs": [],
   "source": [
    "#19. What does passing re.VERBOSE as the 2nd argument to re.compile() allow to do?"
   ]
  },
  {
   "cell_type": "markdown",
   "id": "3f0b9769",
   "metadata": {},
   "source": [
    "Ans- Verbose regular expressions make regular expressions more readable by allowing you to add comments and whitespace to the pattern."
   ]
  },
  {
   "cell_type": "code",
   "execution_count": 32,
   "id": "ec5b4e02",
   "metadata": {},
   "outputs": [],
   "source": [
    "#20. How would you write a regex that match a number with comma for every three digits? It must\n",
    "# match the given following:\n",
    "# '42'\n",
    "# '1,234'\n",
    "# '6,368,745'\n",
    "# but not the following:\n",
    "# '12,34,567' (which has only two digits between the commas)\n",
    "# '1234' (which lacks commas)"
   ]
  },
  {
   "cell_type": "code",
   "execution_count": 33,
   "id": "704820c0",
   "metadata": {},
   "outputs": [
    {
     "name": "stdout",
     "output_type": "stream",
     "text": [
      "['', ',234', ',745', '', ',567', '', '']\n"
     ]
    }
   ],
   "source": [
    "#Ans-\n",
    "import re\n",
    "\n",
    "text = \"42 1,234 6,368,745 12,34,567 ,1234\"\n",
    "pattern = re.compile(r'\\d{1,3}(,\\d{3})*')\n",
    "matches = pattern.findall(text)\n",
    "print(matches)"
   ]
  },
  {
   "cell_type": "code",
   "execution_count": 34,
   "id": "b81a7ab4",
   "metadata": {},
   "outputs": [],
   "source": [
    "#21. How would you write a regex that matches the full name of someone whose last name is Watanabe? You can assume that the first name that comes before it will always be one word that begins with a capital letter. The regex must match the following:\n",
    "# 'Haruto Watanabe'\n",
    "# 'Alice Watanabe'\n",
    "# 'RoboCop Watanabe'\n",
    "# but not the following:\n",
    "# 'haruto Watanabe' (where the first name is not capitalized)\n",
    "# 'Mr. Watanabe' (where the preceding word has a nonletter character)\n",
    "# 'Watanabe' (which has no first name)\n",
    "# 'Haruto watanabe' (where Watanabe is not capitalized)"
   ]
  },
  {
   "cell_type": "code",
   "execution_count": 35,
   "id": "e5d0aa02",
   "metadata": {},
   "outputs": [
    {
     "name": "stdout",
     "output_type": "stream",
     "text": [
      "Haruto Watanabe is a valid name\n",
      "Alice Watanabe is a valid name\n",
      "RoboCop Watanabe is not a valid name\n",
      "haruto Watanabe is not a valid name\n",
      "Mr. Watanabe is not a valid name\n",
      "Watanabe is not a valid name\n",
      "Haruto watanabe is not a valid name\n"
     ]
    }
   ],
   "source": [
    "#Ans-\n",
    "import re\n",
    "\n",
    "name_list = ['Haruto Watanabe', 'Alice Watanabe', 'RoboCop Watanabe', 'haruto Watanabe', 'Mr. Watanabe', 'Watanabe', 'Haruto watanabe']\n",
    "pattern = re.compile(r'^[A-Z][a-z]*\\sWatanabe$')\n",
    "for name in name_list:\n",
    "    if pattern.match(name):\n",
    "        print(f\"{name} is a valid name\")\n",
    "    else:\n",
    "        print(f\"{name} is not a valid name\")"
   ]
  },
  {
   "cell_type": "code",
   "execution_count": 36,
   "id": "04109a84",
   "metadata": {},
   "outputs": [],
   "source": [
    "#22. How would you write a regex that matches a sentence where the first word is either Alice, Bob, or Carol; the second word is either eats, pets, or throws; the third word is apples, cats, or baseballs; and the sentence ends with a period? This regex should be case-insensitive. It must match the following:\n",
    "# 'Alice eats apples.'\n",
    "# 'Bob pets cats.'\n",
    "# 'Carol throws baseballs.'\n",
    "# 'Alice throws Apples.'\n",
    "# 'BOB EATS CATS.'\n",
    "# but not the following:\n",
    "# 'RoboCop eats apples.'\n",
    "# 'ALICE THROWS FOOTBALLS.'\n",
    "# 'Carol eats 7 cats.'"
   ]
  },
  {
   "cell_type": "code",
   "execution_count": 37,
   "id": "638992ba",
   "metadata": {},
   "outputs": [
    {
     "name": "stdout",
     "output_type": "stream",
     "text": [
      "Alice eats apples. is a valid sentence\n",
      "Bob pets cats. is a valid sentence\n",
      "Carol throws baseballs. is a valid sentence\n",
      "Alice throws Apples. is a valid sentence\n",
      "BOB EATS CATS. is a valid sentence\n",
      "RoboCop eats apples. is not a valid sentence\n",
      "ALICE THROWS FOOTBALLS. is not a valid sentence\n",
      "Carol eats 7 cats. is not a valid sentence\n"
     ]
    }
   ],
   "source": [
    "#Ans-\n",
    "import re\n",
    "\n",
    "sentence_list = ['Alice eats apples.', 'Bob pets cats.', 'Carol throws baseballs.', 'Alice throws Apples.', 'BOB EATS CATS.', 'RoboCop eats apples.', 'ALICE THROWS FOOTBALLS.', 'Carol eats 7 cats.']\n",
    "pattern = re.compile(r'^(Alice|Bob|Carol)\\s+(eats|pets|throws)\\s+(apples|cats|baseballs)\\.$', re.IGNORECASE)\n",
    "for sentence in sentence_list:\n",
    "    if pattern.match(sentence):\n",
    "        print(f\"{sentence} is a valid sentence\")\n",
    "    else:\n",
    "        print(f\"{sentence} is not a valid sentence\")"
   ]
  }
 ],
 "metadata": {
  "kernelspec": {
   "display_name": "Python 3 (ipykernel)",
   "language": "python",
   "name": "python3"
  },
  "language_info": {
   "codemirror_mode": {
    "name": "ipython",
    "version": 3
   },
   "file_extension": ".py",
   "mimetype": "text/x-python",
   "name": "python",
   "nbconvert_exporter": "python",
   "pygments_lexer": "ipython3",
   "version": "3.9.12"
  }
 },
 "nbformat": 4,
 "nbformat_minor": 5
}
