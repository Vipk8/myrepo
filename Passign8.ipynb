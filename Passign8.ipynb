{
 "cells": [
  {
   "cell_type": "code",
   "execution_count": 1,
   "id": "1cc3b328",
   "metadata": {},
   "outputs": [],
   "source": [
    "#1.Write a Python Program to Add Two Matrices?"
   ]
  },
  {
   "cell_type": "code",
   "execution_count": 30,
   "id": "874aba95",
   "metadata": {},
   "outputs": [
    {
     "name": "stdout",
     "output_type": "stream",
     "text": [
      "[2, 6, 10]\n",
      "[6, 10, 14]\n",
      "[10, 14, 18]\n"
     ]
    }
   ],
   "source": [
    "X = [[1,2,3],\n",
    "    [4 ,5,6],\n",
    "    [7 ,8,9]]\n",
    " \n",
    "Y = [[1,4,7],\n",
    "    [2,5,8],\n",
    "    [3,6,9]]\n",
    "result = [[0,0,0],\n",
    "        [0,0,0],\n",
    "        [0,0,0]]\n",
    "for i in range(len(X)):\n",
    "    for j in range(len(X[0])):\n",
    "        result[i][j] = X[i][j] + Y[i][j]\n",
    "for r in result:\n",
    "    print(r)"
   ]
  },
  {
   "cell_type": "code",
   "execution_count": null,
   "id": "9c0fba6f",
   "metadata": {},
   "outputs": [],
   "source": [
    "#2.Write a Python Program to Multiply Two Matrices?"
   ]
  },
  {
   "cell_type": "code",
   "execution_count": 33,
   "id": "db5fa60c",
   "metadata": {},
   "outputs": [
    {
     "name": "stdout",
     "output_type": "stream",
     "text": [
      "[1, 8, 21]\n",
      "[8, 25, 48]\n",
      "[21, 48, 81]\n"
     ]
    }
   ],
   "source": [
    "X = [[1,2,3],\n",
    "    [4 ,5,6],\n",
    "    [7 ,8,9]]\n",
    " \n",
    "Y = [[1,4,7],\n",
    "    [2,5,8],\n",
    "    [3,6,9]]\n",
    "result = [[0,0,0],\n",
    "        [0,0,0],\n",
    "        [0,0,0]]\n",
    "for i in range(len(X)):\n",
    "    for j in range(len(X[0])):\n",
    "        result[i][j] = X[i][j] * Y[i][j]\n",
    "for r in result:\n",
    "    print(r)"
   ]
  },
  {
   "cell_type": "code",
   "execution_count": 5,
   "id": "8fe1e8ae",
   "metadata": {},
   "outputs": [],
   "source": [
    "#3.Write a Python Program to Transpose a Matrix?"
   ]
  },
  {
   "cell_type": "code",
   "execution_count": 46,
   "id": "2c43312b",
   "metadata": {},
   "outputs": [
    {
     "name": "stdout",
     "output_type": "stream",
     "text": [
      "Result matrix is\n",
      "1  2  3  1  2  3  1  2  3  1  2  3  \n"
     ]
    }
   ],
   "source": [
    "N = 4\n",
    "M = 3\n",
    "def transpose(A, B):\n",
    " \n",
    " for i in range(N):\n",
    "        for j in range(M):\n",
    "            B[i][j] = A[j][i]\n",
    "A = [ [1, 1, 1, 1],\n",
    "      [2, 2, 2, 2],\n",
    "      [3, 3, 3, 3]]\n",
    " \n",
    "B = [[0 for x in range(M)] for y in range(N)]\n",
    "\n",
    " \n",
    "transpose(A, B)\n",
    "print(\"Result matrix is\")\n",
    "for i in range(N):\n",
    "    for j in range(M):\n",
    "        print(B[i][j], \" \", end='')\n",
    "print()"
   ]
  },
  {
   "cell_type": "code",
   "execution_count": 4,
   "id": "96ee9525",
   "metadata": {},
   "outputs": [],
   "source": [
    "#4.Write a Python Program to Sort Words in Alphabetic Order?"
   ]
  },
  {
   "cell_type": "code",
   "execution_count": 79,
   "id": "7aff6d1a",
   "metadata": {},
   "outputs": [
    {
     "name": "stdout",
     "output_type": "stream",
     "text": [
      " apple is good for health\n",
      "apple for good health is\n"
     ]
    }
   ],
   "source": [
    "def Func():\n",
    "    S = input(\" \")\n",
    "    W = S.split(\" \")\n",
    "    for i in range(len(W)):\n",
    "        W[i]=W[i].lower() \n",
    "    S = sorted(W)\n",
    "    print(' '.join(S))\n",
    "Func()"
   ]
  },
  {
   "cell_type": "code",
   "execution_count": null,
   "id": "9fdd0f29",
   "metadata": {},
   "outputs": [],
   "source": [
    "#5.Write a Python Program to Remove Punctuation From a String?"
   ]
  },
  {
   "cell_type": "code",
   "execution_count": 93,
   "id": "848e59da",
   "metadata": {},
   "outputs": [
    {
     "name": "stdout",
     "output_type": "stream",
     "text": [
      "Apple is  good  for  health \n"
     ]
    }
   ],
   "source": [
    "test_str = \"Apple is; good: for, health.\"\n",
    "punc = '''\n",
    "          !()-[]{};:'\"\\,<>./?@#$%^&*_~\n",
    "          \n",
    "          '''\n",
    "for i in test_str:\n",
    "    if i in punc:\n",
    "        test_str = test_str.replace(i, \" \")\n",
    "print(test_str)"
   ]
  }
 ],
 "metadata": {
  "kernelspec": {
   "display_name": "Python 3 (ipykernel)",
   "language": "python",
   "name": "python3"
  },
  "language_info": {
   "codemirror_mode": {
    "name": "ipython",
    "version": 3
   },
   "file_extension": ".py",
   "mimetype": "text/x-python",
   "name": "python",
   "nbconvert_exporter": "python",
   "pygments_lexer": "ipython3",
   "version": "3.9.12"
  }
 },
 "nbformat": 4,
 "nbformat_minor": 5
}
