{
 "cells": [
  {
   "cell_type": "markdown",
   "id": "d905f0c0",
   "metadata": {},
   "source": [
    "Q1. Define the relationship between a class and its instances. Is it a one-to-one or a one-to-many partnership, for example?"
   ]
  },
  {
   "cell_type": "markdown",
   "id": "a108c6d3",
   "metadata": {},
   "source": [
    "In Python, the relationship between a class and its instances is a one-to-many partnership. A class serves as a blueprint or template that defines the attributes and behaviors of objects it can create. When an object is instantiated from a class, it becomes an instance of that class. Multiple instances can be created from the same class, and each instance maintains its unique state and behavior based on the class definition. This one-to-many relationship allows developers to create and manage multiple objects with the same characteristics, efficiently organizing and encapsulating data and functionality within the class."
   ]
  },
  {
   "cell_type": "markdown",
   "id": "d4d4da0c",
   "metadata": {},
   "source": [
    "Q2. What kind of data is held only in an instance?"
   ]
  },
  {
   "cell_type": "markdown",
   "id": "266d2902",
   "metadata": {},
   "source": [
    "Data held only in an instance, known as instance-specific data, includes attributes unique to each object created from a class. These attributes store specific values that vary between instances. They represent the state of the object and can differ from instance to instance, enabling each object to have its own distinct characteristics and behavior while following the blueprint defined by the class."
   ]
  },
  {
   "cell_type": "markdown",
   "id": "e731c9bc",
   "metadata": {},
   "source": [
    "Q3. What kind of knowledge is stored in a class?"
   ]
  },
  {
   "cell_type": "markdown",
   "id": "6a347e1f",
   "metadata": {},
   "source": [
    "In a class, knowledge is stored in the form of class-specific data and behaviors. This includes attributes, which represent the state of the objects created from the class, and methods, which define the operations or actions the class instances can perform. The class encapsulates this knowledge, providing a blueprint for creating objects with shared characteristics and functionality."
   ]
  },
  {
   "cell_type": "markdown",
   "id": "d35ce523",
   "metadata": {},
   "source": [
    "Q4. What exactly is a method, and how is it different from a regular function?"
   ]
  },
  {
   "cell_type": "markdown",
   "id": "fdc8f6fc",
   "metadata": {},
   "source": [
    "A method is a function defined within a class, and it operates on the class's instances. It takes the instance (usually named \"self\") as its first parameter, allowing it to access and modify instance-specific data. Regular functions, on the other hand, are not bound to any class and don't have access to instance-specific data unless explicitly passed as arguments."
   ]
  },
  {
   "cell_type": "markdown",
   "id": "241e881c",
   "metadata": {},
   "source": [
    "Q5. Is inheritance supported in Python, and if so, what is the syntax?"
   ]
  },
  {
   "cell_type": "markdown",
   "id": "9cb60790",
   "metadata": {},
   "source": [
    "# Yes, inheritance is supported in Python. To create a subclass that inherits from a superclass, use the following syntax:\n",
    "\n",
    " class SubClassName(SuperClassName):\n",
    "    \n",
    "# subclass-specific attributes and methods\n",
    "\n",
    "#The subclass will inherit attributes and methods from the superclass, enabling code reuse and allowing the subclass\n",
    "#to override or extend functionality as needed."
   ]
  },
  {
   "cell_type": "markdown",
   "id": "5506806b",
   "metadata": {},
   "source": [
    "Q6. How much encapsulation (making instance or class variables private) does Python support?"
   ]
  },
  {
   "cell_type": "markdown",
   "id": "a1e8cd09",
   "metadata": {},
   "source": [
    "In Python, encapsulation is supported through name mangling, making instance variables private by adding a double underscore prefix (e.g., `__private_variable`). However, this is a convention rather than strict enforcement, and variables can still be accessed from outside the class. There is no strict private access modifier like in some other languages."
   ]
  },
  {
   "cell_type": "markdown",
   "id": "1d308127",
   "metadata": {},
   "source": [
    "Q7. How do you distinguish between a class variable and an instance variable?"
   ]
  },
  {
   "cell_type": "markdown",
   "id": "04e45c62",
   "metadata": {},
   "source": [
    "A class variable is shared among all instances of a class and is defined within the class but outside any method. It remains constant across instances. An instance variable, on the other hand, is specific to each instance and is defined within a method using the `self` keyword. Each instance maintains its separate copy of the instance variable, allowing unique state for each object."
   ]
  },
  {
   "cell_type": "markdown",
   "id": "d9283d10",
   "metadata": {},
   "source": [
    "Q8. When, if ever, can self be included in a class's method definitions?"
   ]
  },
  {
   "cell_type": "markdown",
   "id": "c5bee527",
   "metadata": {},
   "source": [
    "The `self` parameter can be included in a class's method definitions whenever the method needs to access or modify instance-specific data or call other instance methods. It is a convention in Python to include `self` as the first parameter in instance methods to indicate that they operate on the instance invoking them."
   ]
  },
  {
   "cell_type": "markdown",
   "id": "132c84f5",
   "metadata": {},
   "source": [
    "Q9. What is the difference between the _ _add_ _ and the _ _radd_ _ methods?"
   ]
  },
  {
   "cell_type": "markdown",
   "id": "f86bd8d9",
   "metadata": {},
   "source": [
    "The `__add__` method is used to define the behavior of the `+` operator when applied to an instance of a class. It handles the addition when the object is on the left side of the `+` operator.\n",
    "\n",
    "The `__radd__` method, on the other hand, is used to handle the addition when the object is on the right side of the `+` operator and the left-side operand doesn't support the addition with the object's type."
   ]
  },
  {
   "cell_type": "markdown",
   "id": "56ccf73b",
   "metadata": {},
   "source": [
    "Q10. When is it necessary to use a reflection method? When do you not need it, even though you support the operation in question?"
   ]
  },
  {
   "cell_type": "markdown",
   "id": "4d23bf75",
   "metadata": {},
   "source": [
    "Reflection methods, such as `__getattr__` and `__setattr__`, are necessary when dynamically handling attribute access or assignment in Python classes. They allow custom behavior when accessing or setting attributes. However, if a class explicitly defines all attributes and doesn't require dynamic attribute handling, reflection methods may not be needed, and regular attribute access and assignment can be used directly."
   ]
  },
  {
   "cell_type": "markdown",
   "id": "39bf69ff",
   "metadata": {},
   "source": [
    "Q11. What is the _ _iadd_ _ method called?"
   ]
  },
  {
   "cell_type": "markdown",
   "id": "73a87603",
   "metadata": {},
   "source": [
    "The `__iadd__` method is called when the `+=` operator is used on an instance of a class. It allows the object to define the behavior of the in-place addition operation. If the `__iadd__` method is not defined, Python falls back to using the regular `__add__` method and assigns the result back to the original object, if possible."
   ]
  },
  {
   "cell_type": "markdown",
   "id": "12bdaf66",
   "metadata": {},
   "source": [
    "Q12. Is the _ _init_ _ method inherited by subclasses? What do you do if you need to customize its behavior within a subclass?"
   ]
  },
  {
   "cell_type": "markdown",
   "id": "c6320911",
   "metadata": {},
   "source": [
    "Yes, the `__init__` method is inherited by subclasses in Python. To customize its behavior within a subclass, you can override it by defining a new `__init__` method in the subclass. In the overridden method, you can call the parent class's `__init__` method using `super()` to ensure that the subclass's initialization logic includes the parent class's behavior before adding any additional customization."
   ]
  },
  {
   "cell_type": "code",
   "execution_count": null,
   "id": "4b9b3556",
   "metadata": {},
   "outputs": [],
   "source": []
  }
 ],
 "metadata": {
  "kernelspec": {
   "display_name": "Python 3 (ipykernel)",
   "language": "python",
   "name": "python3"
  },
  "language_info": {
   "codemirror_mode": {
    "name": "ipython",
    "version": 3
   },
   "file_extension": ".py",
   "mimetype": "text/x-python",
   "name": "python",
   "nbconvert_exporter": "python",
   "pygments_lexer": "ipython3",
   "version": "3.10.9"
  }
 },
 "nbformat": 4,
 "nbformat_minor": 5
}
