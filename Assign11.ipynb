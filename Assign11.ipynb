{
 "cells": [
  {
   "cell_type": "code",
   "execution_count": 1,
   "id": "028e029e",
   "metadata": {},
   "outputs": [],
   "source": [
    "#1. Create an assert statement that throws an AssertionError if the variable spam is a negative integer."
   ]
  },
  {
   "cell_type": "code",
   "execution_count": 5,
   "id": "7ebd1f8d",
   "metadata": {},
   "outputs": [],
   "source": [
    "#Ans- \n",
    "assert spam >= 0, \"spam must be a non-negative integer\""
   ]
  },
  {
   "cell_type": "code",
   "execution_count": null,
   "id": "aed3f4dd",
   "metadata": {},
   "outputs": [],
   "source": [
    "#2. Write an assert statement that triggers an AssertionError if the variables eggs and bacon contain strings that are the same as each other, even if their cases are different (that is, 'hello' and 'hello' are considered the same, and 'goodbye' and 'GOODbye' are also considered the same)."
   ]
  },
  {
   "cell_type": "code",
   "execution_count": 6,
   "id": "c8f5c56b",
   "metadata": {},
   "outputs": [],
   "source": [
    "#Ans- \n",
    "assert eggs.lower() != bacon.lower(), \"The strings in eggs and bacon must not be the same, even if their cases differ.\""
   ]
  },
  {
   "cell_type": "code",
   "execution_count": 4,
   "id": "0749ac0f",
   "metadata": {},
   "outputs": [],
   "source": [
    "#3. Create an assert statement that throws an AssertionError every time."
   ]
  },
  {
   "cell_type": "code",
   "execution_count": 7,
   "id": "234a1186",
   "metadata": {},
   "outputs": [],
   "source": [
    "#Ans-\n",
    "assert False, \"This assertion always fails.\""
   ]
  },
  {
   "cell_type": "code",
   "execution_count": 5,
   "id": "86fb6296",
   "metadata": {},
   "outputs": [],
   "source": [
    "#4. What are the two lines that must be present in your software in order to call logging.debug()?"
   ]
  },
  {
   "cell_type": "code",
   "execution_count": 8,
   "id": "e382f458",
   "metadata": {},
   "outputs": [],
   "source": [
    "#Ans-\n",
    "import logging\n",
    "logging.basicConfig(level=logging.DEBUG, format='%(asctime)s %(levelname)s %(message)s')"
   ]
  },
  {
   "cell_type": "code",
   "execution_count": 6,
   "id": "338ea960",
   "metadata": {},
   "outputs": [],
   "source": [
    "#5. What are the two lines that your program must have in order to have logging.debug() send a logging message to a file named programLog.txt?"
   ]
  },
  {
   "cell_type": "code",
   "execution_count": 10,
   "id": "9e092020",
   "metadata": {},
   "outputs": [],
   "source": [
    "#Ans- \n",
    "import logging\n",
    "logging.basicConfig(filename='programLog.txt', level=logging.DEBUG, format='%(asctime)s %(levelname)s %(message)s')"
   ]
  },
  {
   "cell_type": "code",
   "execution_count": 11,
   "id": "30725692",
   "metadata": {},
   "outputs": [],
   "source": [
    "#6. What are the five levels of logging?"
   ]
  },
  {
   "cell_type": "code",
   "execution_count": 13,
   "id": "394ffa64",
   "metadata": {},
   "outputs": [
    {
     "data": {
      "text/plain": [
       "('DEBUG', 'INFO', 'WARNING', 'ERROR', 'CRITICAL')"
      ]
     },
     "execution_count": 13,
     "metadata": {},
     "output_type": "execute_result"
    }
   ],
   "source": [
    "#Ans-\n",
    "'DEBUG','INFO','WARNING','ERROR','CRITICAL'"
   ]
  },
  {
   "cell_type": "code",
   "execution_count": 8,
   "id": "d3a79ca4",
   "metadata": {},
   "outputs": [],
   "source": [
    "#7. What line of code would you add to your software to disable all logging messages?"
   ]
  },
  {
   "cell_type": "code",
   "execution_count": 14,
   "id": "7f2929ad",
   "metadata": {},
   "outputs": [],
   "source": [
    "#Ans- \n",
    "logging.disable(logging.CRITICAL)"
   ]
  },
  {
   "cell_type": "code",
   "execution_count": 15,
   "id": "a2edb8e1",
   "metadata": {},
   "outputs": [],
   "source": [
    "#8.Why is using logging messages better than using print() to display the same message?"
   ]
  },
  {
   "cell_type": "code",
   "execution_count": 27,
   "id": "47defdad",
   "metadata": {},
   "outputs": [],
   "source": [
    "#Ans- Using logging messages is better than using print() to display the same message for several reasons-\n",
    "# Flexibility\n",
    "# Control\n",
    "# Performance\n",
    "# Integration"
   ]
  },
  {
   "cell_type": "code",
   "execution_count": 21,
   "id": "356b7fbd",
   "metadata": {},
   "outputs": [],
   "source": [
    "#9. What are the differences between the Step Over, Step In, and Step Out buttons in the debugger?"
   ]
  },
  {
   "cell_type": "markdown",
   "id": "a2863b8d",
   "metadata": {},
   "source": [
    "Ans- 1. Step Over: The Step Over button allows you to execute the next line of code in the program, without stepping into any function calls that might be on that line. \n",
    "2. Step In: The Step In button allows you to step into the next function call that is encountered in the program.\n",
    "3. Step Out: The Step Out button allows you to step out of the current function that is being executed and to return to the calling function."
   ]
  },
  {
   "cell_type": "code",
   "execution_count": 23,
   "id": "8e8356a1",
   "metadata": {},
   "outputs": [],
   "source": [
    "#10. After you click Continue, when will the debugger stop ?"
   ]
  },
  {
   "cell_type": "markdown",
   "id": "d6186405",
   "metadata": {},
   "source": [
    "Ans- \n",
    "when you click the Continue button in a debugger, the debugger will continue to run the program until it encounters a breakpoint, an exception is raised, or the program finishes executing."
   ]
  },
  {
   "cell_type": "code",
   "execution_count": 25,
   "id": "ded943f6",
   "metadata": {},
   "outputs": [],
   "source": [
    "#11. What is the concept of a breakpoint?"
   ]
  },
  {
   "cell_type": "markdown",
   "id": "9e686b61",
   "metadata": {},
   "source": [
    "Ans- \n",
    "a breakpoint is a point in your code where the debugger will pause execution so that you can examine the state of the program and debug any issues. They are a powerful tool for debugging complex programs and can be set at any point in your code where you want to pause execution."
   ]
  },
  {
   "cell_type": "code",
   "execution_count": null,
   "id": "167825ad",
   "metadata": {},
   "outputs": [],
   "source": []
  }
 ],
 "metadata": {
  "kernelspec": {
   "display_name": "Python 3 (ipykernel)",
   "language": "python",
   "name": "python3"
  },
  "language_info": {
   "codemirror_mode": {
    "name": "ipython",
    "version": 3
   },
   "file_extension": ".py",
   "mimetype": "text/x-python",
   "name": "python",
   "nbconvert_exporter": "python",
   "pygments_lexer": "ipython3",
   "version": "3.9.12"
  }
 },
 "nbformat": 4,
 "nbformat_minor": 5
}
