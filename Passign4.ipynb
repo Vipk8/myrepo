{
 "cells": [
  {
   "cell_type": "code",
   "execution_count": 1,
   "id": "3a3a8fe8",
   "metadata": {},
   "outputs": [],
   "source": [
    "#1.Write a Python Program to Find the Factorial of a Number?"
   ]
  },
  {
   "cell_type": "code",
   "execution_count": 40,
   "id": "89d7a05b",
   "metadata": {},
   "outputs": [
    {
     "name": "stdout",
     "output_type": "stream",
     "text": [
      "120\n"
     ]
    }
   ],
   "source": [
    "def facnum(x):\n",
    "    num = 1\n",
    "    for i in range(1,x+1):\n",
    "        num = num*i\n",
    "    print(num)\n",
    "    \n",
    "facnum(5)"
   ]
  },
  {
   "cell_type": "code",
   "execution_count": 3,
   "id": "c4ece499",
   "metadata": {},
   "outputs": [],
   "source": [
    "#2.Write a Python Program to Display the multiplication Table?"
   ]
  },
  {
   "cell_type": "code",
   "execution_count": 41,
   "id": "7ff63c60",
   "metadata": {},
   "outputs": [
    {
     "name": "stdout",
     "output_type": "stream",
     "text": [
      "2 x 1 = 2\n",
      "2 x 2 = 4\n",
      "2 x 3 = 6\n",
      "2 x 4 = 8\n",
      "2 x 5 = 10\n",
      "2 x 6 = 12\n",
      "2 x 7 = 14\n",
      "2 x 8 = 16\n",
      "2 x 9 = 18\n",
      "2 x 10 = 20\n"
     ]
    }
   ],
   "source": [
    "def multi(a):\n",
    "    for i in range(1,11):\n",
    "        print(a ,'x', i, '=', a*i)\n",
    "        \n",
    "multi(2)"
   ]
  },
  {
   "cell_type": "code",
   "execution_count": 5,
   "id": "e2fddbd5",
   "metadata": {},
   "outputs": [],
   "source": [
    "#3.Write a Python Program to Print the Fibonacci sequence?"
   ]
  },
  {
   "cell_type": "code",
   "execution_count": 42,
   "id": "f27fdbc7",
   "metadata": {},
   "outputs": [
    {
     "data": {
      "text/plain": [
       "55"
      ]
     },
     "execution_count": 42,
     "metadata": {},
     "output_type": "execute_result"
    }
   ],
   "source": [
    "def Fibo(x):\n",
    "    a=0\n",
    "    b=1\n",
    "    for i in range(1, x):\n",
    "        c = a + b\n",
    "        a = b\n",
    "        b = c\n",
    "    return b\n",
    "Fibo(10)"
   ]
  },
  {
   "cell_type": "code",
   "execution_count": 7,
   "id": "e7103474",
   "metadata": {},
   "outputs": [],
   "source": [
    "#4.Write a Python Program to Check Armstrong Number?"
   ]
  },
  {
   "cell_type": "code",
   "execution_count": 43,
   "id": "ef0b929f",
   "metadata": {},
   "outputs": [
    {
     "data": {
      "text/plain": [
       "True"
      ]
     },
     "execution_count": 43,
     "metadata": {},
     "output_type": "execute_result"
    }
   ],
   "source": [
    "def Armnum(x):\n",
    "    num = str(x)\n",
    "    y = len(str(x))\n",
    "    sum = 0\n",
    "    for i in num:\n",
    "        sum += int(i)**y\n",
    "    if sum==x:\n",
    "        return True\n",
    "    else:\n",
    "        return False\n",
    "Armnum(1634)"
   ]
  },
  {
   "cell_type": "code",
   "execution_count": 9,
   "id": "c318013e",
   "metadata": {},
   "outputs": [],
   "source": [
    "#5.Write a Python Program to Find Armstrong Number in an Interval?"
   ]
  },
  {
   "cell_type": "code",
   "execution_count": 45,
   "id": "584749e7",
   "metadata": {},
   "outputs": [
    {
     "data": {
      "text/plain": [
       "True"
      ]
     },
     "execution_count": 45,
     "metadata": {},
     "output_type": "execute_result"
    }
   ],
   "source": [
    "def Arm(x):\n",
    "    num = str(x)\n",
    "    y = len(str(x))\n",
    "    sum = 0\n",
    "    for i in range(num,num+1,2):\n",
    "        sum += int(i)**y\n",
    "    if sum==x:\n",
    "        return True\n",
    "    else:\n",
    "        return False\n",
    "Armnum(1634)"
   ]
  },
  {
   "cell_type": "code",
   "execution_count": 11,
   "id": "96efb8e3",
   "metadata": {},
   "outputs": [],
   "source": [
    "#6.Write a Python Program to Find the Sum of Natural Numbers?"
   ]
  },
  {
   "cell_type": "code",
   "execution_count": 46,
   "id": "2a031f87",
   "metadata": {},
   "outputs": [
    {
     "data": {
      "text/plain": [
       "45"
      ]
     },
     "execution_count": 46,
     "metadata": {},
     "output_type": "execute_result"
    }
   ],
   "source": [
    "def natsum(x):\n",
    "    a = 0\n",
    "    for i in range(1,x):\n",
    "        if i>0:\n",
    "            a += i\n",
    "    return a\n",
    "natsum(10)"
   ]
  },
  {
   "cell_type": "code",
   "execution_count": null,
   "id": "09a4de9a",
   "metadata": {},
   "outputs": [],
   "source": []
  }
 ],
 "metadata": {
  "kernelspec": {
   "display_name": "Python 3 (ipykernel)",
   "language": "python",
   "name": "python3"
  },
  "language_info": {
   "codemirror_mode": {
    "name": "ipython",
    "version": 3
   },
   "file_extension": ".py",
   "mimetype": "text/x-python",
   "name": "python",
   "nbconvert_exporter": "python",
   "pygments_lexer": "ipython3",
   "version": "3.9.12"
  }
 },
 "nbformat": 4,
 "nbformat_minor": 5
}
