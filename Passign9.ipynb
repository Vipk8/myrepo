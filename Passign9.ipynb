{
 "cells": [
  {
   "cell_type": "code",
   "execution_count": 1,
   "id": "58d2b0d0",
   "metadata": {},
   "outputs": [],
   "source": [
    "#1.Write a Python program to check if the given number is a Disarium Number?"
   ]
  },
  {
   "cell_type": "code",
   "execution_count": 18,
   "id": "f2c10eed",
   "metadata": {},
   "outputs": [
    {
     "name": "stdout",
     "output_type": "stream",
     "text": [
      "Enter a number: 135\n",
      "135 is a Disarium number\n"
     ]
    }
   ],
   "source": [
    "def is_disarium(n):\n",
    "    num = n\n",
    "    sum = 0\n",
    "    length = len(str(n))\n",
    "    while n > 0:\n",
    "        r = n % 10\n",
    "        sum += r ** length\n",
    "        length -= 1\n",
    "        n //= 10\n",
    "    return sum == num\n",
    "\n",
    "num = int(input(\"Enter a number: \"))\n",
    "if is_disarium(num):\n",
    "    print(f\"{num} is a Disarium number\")\n",
    "else:\n",
    "    print(f\"{num} is not a Disarium number\")"
   ]
  },
  {
   "cell_type": "code",
   "execution_count": 2,
   "id": "3e126b32",
   "metadata": {},
   "outputs": [],
   "source": [
    "#2.Write a Python program to print all disarium numbers between 1 to 100?"
   ]
  },
  {
   "cell_type": "code",
   "execution_count": 21,
   "id": "7e98d043",
   "metadata": {},
   "outputs": [
    {
     "name": "stdout",
     "output_type": "stream",
     "text": [
      "1\n",
      "2\n",
      "3\n",
      "4\n",
      "5\n",
      "6\n",
      "7\n",
      "8\n",
      "9\n",
      "89\n"
     ]
    }
   ],
   "source": [
    "def cald(n):\n",
    "    length = 0\n",
    "    while n != 0:    \n",
    "        length = length + 1   \n",
    "        n = n // 10    \n",
    "    return length    \n",
    "     \n",
    "result = 0    \n",
    "for num in range(1,101):    \n",
    "    rem = sum = 0    \n",
    "    ln = cald(num)    \n",
    "    n = num    \n",
    "    while num > 0:    \n",
    "        rem = num % 10    \n",
    "        sum = sum + int(rem ** ln)   \n",
    "        num = num // 10   \n",
    "        ln = ln - 1    \n",
    "    if sum == n:    \n",
    "        result += 1\n",
    "        print(n)"
   ]
  },
  {
   "cell_type": "code",
   "execution_count": 3,
   "id": "279efd14",
   "metadata": {},
   "outputs": [],
   "source": [
    "#3.Write a Python program to check if the given number is Happy Number?"
   ]
  },
  {
   "cell_type": "code",
   "execution_count": 54,
   "id": "ef2033cc",
   "metadata": {
    "scrolled": true
   },
   "outputs": [
    {
     "name": "stdout",
     "output_type": "stream",
     "text": [
      "Yes\n"
     ]
    }
   ],
   "source": [
    "def ds(n) :\n",
    "    sq = 0\n",
    "    while (n) :\n",
    "        digit = n % 10\n",
    "        sq = sq + digit * digit\n",
    "        n = n // 10\n",
    "    return sq\n",
    "\n",
    "def isHappy(n) :\n",
    "    while (1) :\n",
    "        if (n == 1) :\n",
    "            return True\n",
    "        n = ds(n)\n",
    "        if (n == 4) :\n",
    "            return False\n",
    "     \n",
    "    return False\n",
    " \n",
    "# Driver code\n",
    "n = 23\n",
    "if (isHappy(n)) :\n",
    "    print(\"Yes\")\n",
    "else :\n",
    "    print(\"No\")"
   ]
  },
  {
   "cell_type": "code",
   "execution_count": 4,
   "id": "5de994b7",
   "metadata": {},
   "outputs": [],
   "source": [
    "#4.Write a Python program to print all happy numbers between 1 and 100?"
   ]
  },
  {
   "cell_type": "code",
   "execution_count": 61,
   "id": "d0d7bd14",
   "metadata": {},
   "outputs": [
    {
     "name": "stdout",
     "output_type": "stream",
     "text": [
      "ENTER LOWEST VALUE : 1\n",
      "ENTER HIGHEST VALUE : 100\n",
      "HAPPY NUMBERS WITHIN RANGE(1,100) ARE -\n",
      "7 10 13 19 23 28 31 32 44 49 68 70 79 82 86 91 94 97 100 "
     ]
    }
   ],
   "source": [
    "def check_happy(number):\n",
    "    remainder = 0\n",
    "    happy_num = 0;    \n",
    "    while(number > 0):\n",
    "        remainder = number%10;    \n",
    "        happy_num = happy_num + (remainder*remainder);    \n",
    "        number = number//10;\n",
    "    return happy_num;\n",
    "\n",
    "lower = int(input(\"ENTER LOWEST VALUE : \"))\n",
    "upper = int(input(\"ENTER HIGHEST VALUE : \"))\n",
    "print(\"HAPPY NUMBERS WITHIN RANGE({},{}) ARE -\".format(lower,upper))\n",
    "for i in range(lower,upper+1):\n",
    "    happy_num = i\n",
    "    while(happy_num != 1 and happy_num != 4):\n",
    "        happy_num = check_happy(happy_num)\n",
    "        if(happy_num == 1):\n",
    "            print(i,end=\" \")"
   ]
  },
  {
   "cell_type": "code",
   "execution_count": 5,
   "id": "be3a0922",
   "metadata": {},
   "outputs": [],
   "source": [
    "#5.Write a Python program to determine whether the given number is a Harshad Number?"
   ]
  },
  {
   "cell_type": "code",
   "execution_count": 64,
   "id": "a99be670",
   "metadata": {},
   "outputs": [
    {
     "name": "stdout",
     "output_type": "stream",
     "text": [
      "156 is a harshad number\n"
     ]
    }
   ],
   "source": [
    "num = 156  \n",
    "rem = sum = 0    \n",
    "n = num    \n",
    "while(num > 0):    \n",
    "    rem = num%10    \n",
    "    sum = sum + rem    \n",
    "    num = num//10    \n",
    "if(n%sum == 0):    \n",
    "    print(str(n) + \" is a harshad number\")   \n",
    "else:    \n",
    "    print(str(n) + \" is not a harshad number\")"
   ]
  },
  {
   "cell_type": "code",
   "execution_count": 6,
   "id": "320062d1",
   "metadata": {},
   "outputs": [],
   "source": [
    "#6.Write a Python program to print all pronic numbers between 1 and 100?"
   ]
  },
  {
   "cell_type": "code",
   "execution_count": 66,
   "id": "a1f1e43d",
   "metadata": {},
   "outputs": [
    {
     "name": "stdout",
     "output_type": "stream",
     "text": [
      "Pronic numbers between 1 and 100: \n",
      "2\n",
      " \n",
      "6\n",
      " \n",
      "12\n",
      " \n",
      "20\n",
      " \n",
      "30\n",
      " \n",
      "42\n",
      " \n",
      "56\n",
      " \n",
      "72\n",
      " \n",
      "90\n",
      " \n"
     ]
    }
   ],
   "source": [
    "def isPronicNumber(num):    \n",
    "    flag = False    \n",
    "        \n",
    "    for j in range(1, num+1):    \n",
    "        if((j*(j+1)) == num):    \n",
    "            flag = True   \n",
    "            break   \n",
    "    return flag \n",
    "     \n",
    "print(\"Pronic numbers between 1 and 100: \")   \n",
    "for i in range(1, 101):    \n",
    "    if(isPronicNumber(i)):    \n",
    "        print(i)   \n",
    "        print(\" \")"
   ]
  },
  {
   "cell_type": "code",
   "execution_count": null,
   "id": "b44471da",
   "metadata": {},
   "outputs": [],
   "source": []
  }
 ],
 "metadata": {
  "kernelspec": {
   "display_name": "Python 3 (ipykernel)",
   "language": "python",
   "name": "python3"
  },
  "language_info": {
   "codemirror_mode": {
    "name": "ipython",
    "version": 3
   },
   "file_extension": ".py",
   "mimetype": "text/x-python",
   "name": "python",
   "nbconvert_exporter": "python",
   "pygments_lexer": "ipython3",
   "version": "3.9.12"
  }
 },
 "nbformat": 4,
 "nbformat_minor": 5
}
