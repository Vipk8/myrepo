{
 "cells": [
  {
   "cell_type": "markdown",
   "id": "5a0fcb0b",
   "metadata": {},
   "source": [
    "1.What are the new features added in Python 3.8 version?"
   ]
  },
  {
   "cell_type": "markdown",
   "id": "3f20ae1c",
   "metadata": {},
   "source": [
    "Python 3.8 introduced several new features and improvements, including:\n",
    "\n",
    "1. **Assignment Expressions (The Walrus Operator)**: The introduction of the `:=` operator allows you to assign values to variables as part of an expression.\n",
    "\n",
    "2. **Positional-Only Parameters**: You can now specify parameters as positional-only using the `/` syntax in function definitions.\n",
    "\n",
    "3. **f-strings improvements**: f-strings gained support for the `=` specifier to display variable names and values.\n",
    "\n",
    "4. **__future__ Annotations**: You can use `from __future__ import annotations` to postpone evaluation of type annotations in function signatures.\n",
    "\n",
    "5. **New Syntax Features**: Several new syntax features like the `yield from` expression and the `__future__` module for feature annotations.\n",
    "\n",
    "6. **Math Functions**: Added new math functions like `math.prod()` and `math.isqrt()`.\n",
    "\n",
    "7. **Syntax Warning Framework**: Enhanced syntax warning framework for clearer and more detailed warnings.\n",
    "\n",
    "8. **Improved Performance**: Overall performance improvements and optimizations.\n",
    "\n",
    "9. **New Modules**: New modules like `zoneinfo` for time zone support and `importlib.metadata` for reading metadata from distribution packages.\n",
    "\n",
    "10. **Standard Library Enhancements**: Numerous improvements and additions to the standard library."
   ]
  },
  {
   "cell_type": "markdown",
   "id": "92b501f3",
   "metadata": {},
   "source": [
    "2.What is monkey patching in Python?"
   ]
  },
  {
   "cell_type": "markdown",
   "id": "29299fbf",
   "metadata": {},
   "source": [
    "Monkey patching in Python refers to the practice of dynamically modifying or extending the behavior of classes or modules at runtime. It involves making changes to existing code without altering the original source, often for quick fixes or adding features. While it can be useful in some situations, it can also lead to code maintainability issues and should be used cautiously."
   ]
  },
  {
   "cell_type": "markdown",
   "id": "4b9b4c4d",
   "metadata": {},
   "source": [
    "3.What is the difference between a shallow copy and deep copy?"
   ]
  },
  {
   "cell_type": "markdown",
   "id": "9ca5270a",
   "metadata": {},
   "source": [
    "A shallow copy and a deep copy are two methods of copying data in programming:\n",
    "\n",
    "1. **Shallow Copy**: It creates a new object but only copies references to the elements of the original data structure. If the original contains mutable objects (e.g., lists or dictionaries), they are shared between the original and the copy.\n",
    "\n",
    "2. **Deep Copy**: It creates a completely independent copy of the original data structure along with all nested objects, recursively. Changes in the copied structure won't affect the original."
   ]
  },
  {
   "cell_type": "markdown",
   "id": "3b8301e6",
   "metadata": {},
   "source": [
    "4.What is the maximum possible length of an identifier?"
   ]
  },
  {
   "cell_type": "markdown",
   "id": "79fada52",
   "metadata": {},
   "source": [
    "In Python, the maximum possible length of an identifier (variable, function, or class name) is not explicitly defined by the language specification. However, the practical limit is determined by the system's memory and the compiler or interpreter's implementation. Most systems can handle identifiers of considerable length, but excessively long identifiers may reduce code readability and maintainability, so it's best to keep them reasonably short and descriptive."
   ]
  },
  {
   "cell_type": "markdown",
   "id": "fd2378be",
   "metadata": {},
   "source": [
    "5.What is generator comprehension?"
   ]
  },
  {
   "cell_type": "markdown",
   "id": "e8001347",
   "metadata": {},
   "source": [
    "Generator comprehension is a concise way to create generator objects in Python. It uses a similar syntax to list comprehensions, but it produces an iterator instead of a list. This allows for lazy evaluation, where items are generated one at a time, conserving memory. Generator comprehensions use parentheses instead of square brackets and are created using expressions like `(expression for item in iterable)`."
   ]
  },
  {
   "cell_type": "code",
   "execution_count": null,
   "id": "cfb6eaeb",
   "metadata": {},
   "outputs": [],
   "source": []
  }
 ],
 "metadata": {
  "kernelspec": {
   "display_name": "Python 3 (ipykernel)",
   "language": "python",
   "name": "python3"
  },
  "language_info": {
   "codemirror_mode": {
    "name": "ipython",
    "version": 3
   },
   "file_extension": ".py",
   "mimetype": "text/x-python",
   "name": "python",
   "nbconvert_exporter": "python",
   "pygments_lexer": "ipython3",
   "version": "3.10.9"
  }
 },
 "nbformat": 4,
 "nbformat_minor": 5
}
