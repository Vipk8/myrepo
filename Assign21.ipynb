{
 "cells": [
  {
   "cell_type": "code",
   "execution_count": 1,
   "id": "3795f3b9",
   "metadata": {},
   "outputs": [],
   "source": [
    "#1. Add the current date to the text file today.txt as a string."
   ]
  },
  {
   "cell_type": "code",
   "execution_count": 1,
   "id": "a304f92b",
   "metadata": {},
   "outputs": [],
   "source": [
    "#Ans-\n",
    "from datetime import date\n",
    "today = date.today().strftime(\"%Y-%m-%d\")\n",
    "with open(\"today.txt\", \"a\") as file:\n",
    "    file.write(today + \"\\n\")"
   ]
  },
  {
   "cell_type": "code",
   "execution_count": null,
   "id": "e2ce13c1",
   "metadata": {},
   "outputs": [],
   "source": [
    "#2. Read the text file today.txt into the string today_string."
   ]
  },
  {
   "cell_type": "code",
   "execution_count": 2,
   "id": "b48896d9",
   "metadata": {},
   "outputs": [
    {
     "name": "stdout",
     "output_type": "stream",
     "text": [
      "2023-03-29\n",
      "\n"
     ]
    }
   ],
   "source": [
    "#Ans-\n",
    "with open(\"today.txt\", \"r\") as file:\n",
    "    today_string = file.read()\n",
    "print(today_string)"
   ]
  },
  {
   "cell_type": "code",
   "execution_count": null,
   "id": "58555e9e",
   "metadata": {},
   "outputs": [],
   "source": [
    "#3. Parse the date from today_string."
   ]
  },
  {
   "cell_type": "code",
   "execution_count": 3,
   "id": "a9b54450",
   "metadata": {},
   "outputs": [
    {
     "name": "stdout",
     "output_type": "stream",
     "text": [
      "2023-03-29\n"
     ]
    }
   ],
   "source": [
    "#Ans-\n",
    "from datetime import datetime\n",
    "date_format = \"%Y-%m-%d\"\n",
    "parsed_date = datetime.strptime(today_string.strip(), date_format).date()\n",
    "print(parsed_date)"
   ]
  },
  {
   "cell_type": "code",
   "execution_count": null,
   "id": "c82af2a6",
   "metadata": {},
   "outputs": [],
   "source": [
    "#4. List the files in your current directory"
   ]
  },
  {
   "cell_type": "code",
   "execution_count": 4,
   "id": "d6460ce0",
   "metadata": {},
   "outputs": [
    {
     "name": "stdout",
     "output_type": "stream",
     "text": [
      "Files in current directory:\n",
      ".ipynb_checkpoints\n",
      "Assign1.ipynb\n",
      "Assign10.ipynb\n",
      "Assign11.ipynb\n",
      "Assign12.ipynb\n",
      "Assign13.ipynb\n",
      "Assign14.ipynb\n",
      "Assign15.ipynb\n",
      "Assign16.ipynb\n",
      "Assign17.ipynb\n",
      "Assign18.ipynb\n",
      "Assign19.ipynb\n",
      "assign2.ipynb\n",
      "Assign20.ipynb\n",
      "Assign21.ipynb\n",
      "Assign22.ipynb\n",
      "Assign23.ipynb\n",
      "Assign24.ipynb\n",
      "Assign25.ipynb\n",
      "Assign3.ipynb\n",
      "Assign4.ipynb\n",
      "Assign5.ipynb\n",
      "Assign6.ipynb\n",
      "Assign7.ipynb\n",
      "Assign8.ipynb\n",
      "Assign9.ipynb\n",
      "books.csv\n",
      "books.db\n",
      "ml1.py\n",
      "ml2.py\n",
      "ml3.py\n",
      "mlfnnotebook.ipynb\n",
      "Passign1.ipynb\n",
      "Passign2.ipynb\n",
      "programLog.txt\n",
      "test.txt\n",
      "test1234\n",
      "today.txt\n",
      "zoo.py\n",
      "__pycache__\n"
     ]
    }
   ],
   "source": [
    "#Ans-\n",
    "import os\n",
    "current_directory = os.getcwd()\n",
    "files = os.listdir(current_directory)\n",
    "print(\"Files in current directory:\")\n",
    "for file in files:\n",
    "    print(file)"
   ]
  },
  {
   "cell_type": "code",
   "execution_count": null,
   "id": "4c859a5b",
   "metadata": {},
   "outputs": [],
   "source": [
    "#5. Create a list of all of the files in your parent directory (minimum five files should be available)."
   ]
  },
  {
   "cell_type": "code",
   "execution_count": 5,
   "id": "696ecfaf",
   "metadata": {},
   "outputs": [
    {
     "name": "stdout",
     "output_type": "stream",
     "text": [
      "Files in parent directory:\n",
      ".condarc\n",
      "Untitled.ipynb\n"
     ]
    }
   ],
   "source": [
    "#Ans-\n",
    "import os\n",
    "parent_directory = os.path.dirname(os.getcwd())\n",
    "files = os.listdir(parent_directory)\n",
    "files = [file for file in files if os.path.isfile(os.path.join(parent_directory, file))]\n",
    "print(\"Files in parent directory:\")\n",
    "for file in files:\n",
    "    print(file)"
   ]
  },
  {
   "cell_type": "code",
   "execution_count": null,
   "id": "fca0c9b2",
   "metadata": {},
   "outputs": [],
   "source": [
    "#6. Use multiprocessing to create three separate processes. Make each one wait a random number of seconds between one and five, print the current time, and then exit."
   ]
  },
  {
   "cell_type": "code",
   "execution_count": 6,
   "id": "2fe7443f",
   "metadata": {},
   "outputs": [],
   "source": [
    "#Ans-\n",
    "import multiprocessing\n",
    "import random\n",
    "import time\n",
    "from datetime import datetime\n",
    "def wait_and_print():\n",
    "    wait_time = random.randint(1, 5)\n",
    "    time.sleep(wait_time)\n",
    "    current_time = datetime.now().strftime(\"%H:%M:%S\")\n",
    "    print(f\"Process {multiprocessing.current_process().name} waited for {wait_time} seconds and finished at {current_time}\")\n",
    "processes = []\n",
    "for i in range(3):\n",
    "    p = multiprocessing.Process(target=wait_and_print, name=f\"Process-{i+1}\")\n",
    "    processes.append(p)\n",
    "    p.start()\n",
    "for p in processes:\n",
    "    p.join()"
   ]
  },
  {
   "cell_type": "code",
   "execution_count": 2,
   "id": "60c4bae0",
   "metadata": {},
   "outputs": [],
   "source": [
    "#7. Create a date object of your day of birth."
   ]
  },
  {
   "cell_type": "code",
   "execution_count": 14,
   "id": "bd987485",
   "metadata": {},
   "outputs": [
    {
     "name": "stdout",
     "output_type": "stream",
     "text": [
      "1995-11-23\n"
     ]
    }
   ],
   "source": [
    "#Ans-\n",
    "from datetime import date\n",
    "birth_date = date(1995,11,23)\n",
    "print(birth_date)"
   ]
  },
  {
   "cell_type": "code",
   "execution_count": 3,
   "id": "fa389fbc",
   "metadata": {},
   "outputs": [],
   "source": [
    "#8. What day of the week was your day of birth?"
   ]
  },
  {
   "cell_type": "code",
   "execution_count": 13,
   "id": "368a8c97",
   "metadata": {},
   "outputs": [
    {
     "name": "stdout",
     "output_type": "stream",
     "text": [
      "3\n"
     ]
    }
   ],
   "source": [
    "#Ans-\n",
    "from datetime import date\n",
    "birth_date = date(1995,11,23)\n",
    "day_of_week = birth_date.weekday()\n",
    "print(day_of_week)"
   ]
  },
  {
   "cell_type": "code",
   "execution_count": 4,
   "id": "42aa52aa",
   "metadata": {},
   "outputs": [],
   "source": [
    "#9. When will you be (or when were you) 10,000 days old?"
   ]
  },
  {
   "cell_type": "code",
   "execution_count": 12,
   "id": "eadd0d79",
   "metadata": {},
   "outputs": [
    {
     "name": "stdout",
     "output_type": "stream",
     "text": [
      "You will be (or were) 10,000 days old on: 2018-04-10\n"
     ]
    }
   ],
   "source": [
    "#Ans-\n",
    "from datetime import date, timedelta\n",
    "birthdate = date(1990,11,23)\n",
    "ten_thousand_days = timedelta(days=10000)\n",
    "ten_thousand_days_date = birthdate + ten_thousand_days\n",
    "print(\"You will be (or were) 10,000 days old on:\", ten_thousand_days_date)"
   ]
  }
 ],
 "metadata": {
  "kernelspec": {
   "display_name": "Python 3 (ipykernel)",
   "language": "python",
   "name": "python3"
  },
  "language_info": {
   "codemirror_mode": {
    "name": "ipython",
    "version": 3
   },
   "file_extension": ".py",
   "mimetype": "text/x-python",
   "name": "python",
   "nbconvert_exporter": "python",
   "pygments_lexer": "ipython3",
   "version": "3.9.12"
  }
 },
 "nbformat": 4,
 "nbformat_minor": 5
}
