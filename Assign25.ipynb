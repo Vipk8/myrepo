{
 "cells": [
  {
   "cell_type": "code",
   "execution_count": 1,
   "id": "088f8e81",
   "metadata": {},
   "outputs": [],
   "source": [
    "#1) What is the difference between enclosing a list comprehension in square brackets and parentheses?"
   ]
  },
  {
   "cell_type": "markdown",
   "id": "85b28436",
   "metadata": {},
   "source": [
    "Ans:-  list comprehension in square brackets [ ] creates a list, whereas enclosing it in parentheses ( ) creates a generator object."
   ]
  },
  {
   "cell_type": "code",
   "execution_count": 3,
   "id": "d6e1904a",
   "metadata": {},
   "outputs": [],
   "source": [
    "#2) What is the relationship between generators and iterators?"
   ]
  },
  {
   "cell_type": "markdown",
   "id": "02b8da55",
   "metadata": {},
   "source": [
    "Ans:- generators provide an easy and efficient way to implement iterators.An iterator is an object that implements the iterator protocol, which consists of the __iter__() and __next__() methods."
   ]
  },
  {
   "cell_type": "code",
   "execution_count": 5,
   "id": "264650e8",
   "metadata": {},
   "outputs": [],
   "source": [
    "#3) What are the signs that a function is a generator function?"
   ]
  },
  {
   "cell_type": "markdown",
   "id": "7aaf70fb",
   "metadata": {},
   "source": [
    "Ans:- it uses the yield keyword instead of return to send data back to the caller."
   ]
  },
  {
   "cell_type": "code",
   "execution_count": 7,
   "id": "a4c24089",
   "metadata": {},
   "outputs": [],
   "source": [
    "#4) What is the purpose of a yield statement?"
   ]
  },
  {
   "cell_type": "markdown",
   "id": "a96905b7",
   "metadata": {},
   "source": [
    "Ans:- the yield statement is used in the context of generator functions to produce a generator object."
   ]
  },
  {
   "cell_type": "code",
   "execution_count": 8,
   "id": "37e2b352",
   "metadata": {},
   "outputs": [],
   "source": [
    "#5) What is the relationship between map calls and list comprehensions? Make a comparison and contrast between the two."
   ]
  },
  {
   "cell_type": "markdown",
   "id": "8094a89b",
   "metadata": {},
   "source": [
    "Ans:- Both map calls and list comprehensions are used to transform a sequence of data into a new sequence.\n",
    "1. Map calls apply a given function to each element of a sequence and return a new sequence containing the results. In contrast, list comprehensions apply a given expression to each element of a sequence and return a new list containing the results.\n",
    "2. Map calls return an iterator, which generates the results on the fly as needed, while list comprehensions return a list, which is a complete sequence of results.\n",
    "3. Map calls can take any iterable as input, while list comprehensions can only be applied to sequences (lists, tuples, or strings).\n",
    "4. List comprehensions are generally more concise and easier to read, especially for simple transformations. However, map calls can be more efficient in some cases, particularly when working with large sequences or complex transformations."
   ]
  }
 ],
 "metadata": {
  "kernelspec": {
   "display_name": "Python 3 (ipykernel)",
   "language": "python",
   "name": "python3"
  },
  "language_info": {
   "codemirror_mode": {
    "name": "ipython",
    "version": 3
   },
   "file_extension": ".py",
   "mimetype": "text/x-python",
   "name": "python",
   "nbconvert_exporter": "python",
   "pygments_lexer": "ipython3",
   "version": "3.9.12"
  }
 },
 "nbformat": 4,
 "nbformat_minor": 5
}
