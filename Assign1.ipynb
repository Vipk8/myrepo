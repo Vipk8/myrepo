{
 "cells": [
  {
   "cell_type": "markdown",
   "id": "5f76ae38",
   "metadata": {},
   "source": [
    "1. In the below elements which of them are values or an expression? eg:- values can be integer or string and expressions will be mathematical operators.\n",
    "* \n",
    "'hello'\n",
    "-87.8\n",
    "- \n",
    "/ \n",
    "+\t\n",
    "6 \n",
    "\n",
    "Ans- Values are:- 'hello',-87.8,6\n",
    "    Expression are:-*,-,+,/"
   ]
  },
  {
   "cell_type": "markdown",
   "id": "da5e9810",
   "metadata": {},
   "source": [
    "2. What is the difference between string and variable?\n",
    "Ans- string is data that fill the variable.\n",
    "     variable is a box that store data."
   ]
  },
  {
   "cell_type": "markdown",
   "id": "facba1b0",
   "metadata": {},
   "source": [
    "3. Describe three different data types.\n",
    "Ans- three diffrent data type are:-\n",
    "    1. Numeric\n",
    "    2. Boolean\n",
    "    3. String"
   ]
  },
  {
   "cell_type": "markdown",
   "id": "7ae0aa4d",
   "metadata": {},
   "source": [
    "4. What is an expression made up of? What do all expressions do?\n",
    "Ans- Expression is a combination of values and function. It interpreted to perform a task."
   ]
  },
  {
   "cell_type": "markdown",
   "id": "0d6a288a",
   "metadata": {},
   "source": [
    "5. This assignment statements, like spam = 10. What is the difference between an expression and a statement?\n",
    "Ans- Expression is the combination of values and function that interpreted by complier to perform any task where as a statment is just unit of execution that doesn't return anything means that doesn't perform any task. "
   ]
  },
  {
   "cell_type": "markdown",
   "id": "5ec483b4",
   "metadata": {},
   "source": [
    "6. After running the following code, what does the variable bacon contain?\n",
    "bacon = 22\n",
    "bacon + 1\n",
    "Ans- bacon= 22, contain a positive numeric integer value. where as bacon + 1 also give a +ve numeric integer value that is 23."
   ]
  },
  {
   "cell_type": "markdown",
   "id": "7ab0824b",
   "metadata": {},
   "source": [
    "7. What should the values of the following two terms be?\n",
    "'spam' + 'spamspam'\n",
    "'spam' * 3\n",
    "\n",
    "Ans- 'spam' + 'spamspam' give 'spamspamspam'  and 'spam'*3 give   'spamspamspam'"
   ]
  },
  {
   "cell_type": "markdown",
   "id": "50d1c6da",
   "metadata": {},
   "source": [
    "8. Why is eggs a valid variable name while 100 is invalid?\n",
    "\n",
    "Ans- In python variable may be string or combination of sting + integer or combination of string,integer & _  . But it can't be only integer."
   ]
  },
  {
   "cell_type": "markdown",
   "id": "e8bb38a7",
   "metadata": {},
   "source": [
    "9. What three functions can be used to get the integer, floating-point number, or string version of a value?\n",
    "\n",
    "Ans- for integer use int , for floating-point number use float , for string use str."
   ]
  },
  {
   "cell_type": "markdown",
   "id": "fcff03fa",
   "metadata": {},
   "source": [
    "10. Why does this expression cause an error? How can you fix it?\n",
    "'I have eaten ' + 99 + ' burritos.'\n",
    "\n",
    "Ans- Because it's a combination of integer & string. This type of addation is not allowed in python. if some one want the output of this value for that type casting will be perform firstly and then addation will give the result as explain below:-"
   ]
  },
  {
   "cell_type": "code",
   "execution_count": 12,
   "id": "86d4d3d5",
   "metadata": {},
   "outputs": [
    {
     "ename": "TypeError",
     "evalue": "can only concatenate str (not \"int\") to str",
     "output_type": "error",
     "traceback": [
      "\u001b[1;31m---------------------------------------------------------------------------\u001b[0m",
      "\u001b[1;31mTypeError\u001b[0m                                 Traceback (most recent call last)",
      "Input \u001b[1;32mIn [12]\u001b[0m, in \u001b[0;36m<cell line: 1>\u001b[1;34m()\u001b[0m\n\u001b[1;32m----> 1\u001b[0m v\u001b[38;5;241m=\u001b[39m \u001b[38;5;124;43m'\u001b[39;49m\u001b[38;5;124;43mI have eaten \u001b[39;49m\u001b[38;5;124;43m'\u001b[39;49m\u001b[43m \u001b[49m\u001b[38;5;241;43m+\u001b[39;49m\u001b[43m \u001b[49m\u001b[38;5;241;43m99\u001b[39;49m \u001b[38;5;241m+\u001b[39m \u001b[38;5;124m'\u001b[39m\u001b[38;5;124m burritos.\u001b[39m\u001b[38;5;124m'\u001b[39m\n",
      "\u001b[1;31mTypeError\u001b[0m: can only concatenate str (not \"int\") to str"
     ]
    }
   ],
   "source": [
    "v= 'I have eaten ' + 99 + ' burritos.'"
   ]
  },
  {
   "cell_type": "code",
   "execution_count": 13,
   "id": "c4a4af80",
   "metadata": {},
   "outputs": [],
   "source": [
    "v= 'I have eaten ' + str(99) + ' burritos.'"
   ]
  },
  {
   "cell_type": "code",
   "execution_count": 14,
   "id": "088ee4f0",
   "metadata": {},
   "outputs": [
    {
     "data": {
      "text/plain": [
       "'I have eaten 99 burritos.'"
      ]
     },
     "execution_count": 14,
     "metadata": {},
     "output_type": "execute_result"
    }
   ],
   "source": [
    "v"
   ]
  }
 ],
 "metadata": {
  "kernelspec": {
   "display_name": "Python 3 (ipykernel)",
   "language": "python",
   "name": "python3"
  },
  "language_info": {
   "codemirror_mode": {
    "name": "ipython",
    "version": 3
   },
   "file_extension": ".py",
   "mimetype": "text/x-python",
   "name": "python",
   "nbconvert_exporter": "python",
   "pygments_lexer": "ipython3",
   "version": "3.9.12"
  }
 },
 "nbformat": 4,
 "nbformat_minor": 5
}
