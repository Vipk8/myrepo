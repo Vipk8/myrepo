{
 "cells": [
  {
   "cell_type": "code",
   "execution_count": 1,
   "id": "35a6a3b8",
   "metadata": {},
   "outputs": [],
   "source": [
    "#1. What exactly is []?"
   ]
  },
  {
   "cell_type": "markdown",
   "id": "906deb7e",
   "metadata": {},
   "source": [
    "Ans- this is square bracket used to store element for list."
   ]
  },
  {
   "cell_type": "code",
   "execution_count": 2,
   "id": "c2461b2d",
   "metadata": {},
   "outputs": [],
   "source": [
    "#2. In a list of values stored in a variable called spam, how would you assign the value 'hello' as the third value? (Assume [2, 4, 6, 8, 10] are in spam.)\n",
    "#Let's pretend the spam includes the list ['a', 'b', 'c', 'd'] for the next three queries."
   ]
  },
  {
   "cell_type": "code",
   "execution_count": 2,
   "id": "bedc37c0",
   "metadata": {},
   "outputs": [],
   "source": [
    "#Ans\n",
    "spam = [2,4,6,8,10]"
   ]
  },
  {
   "cell_type": "code",
   "execution_count": 3,
   "id": "b60f67bb",
   "metadata": {},
   "outputs": [],
   "source": [
    "spam[2]= \"hello\""
   ]
  },
  {
   "cell_type": "code",
   "execution_count": 4,
   "id": "b1c0fc1c",
   "metadata": {
    "scrolled": true
   },
   "outputs": [
    {
     "data": {
      "text/plain": [
       "[2, 4, 'hello', 8, 10]"
      ]
     },
     "execution_count": 4,
     "metadata": {},
     "output_type": "execute_result"
    }
   ],
   "source": [
    "spam"
   ]
  },
  {
   "cell_type": "code",
   "execution_count": 16,
   "id": "56f2b8be",
   "metadata": {},
   "outputs": [],
   "source": [
    "#Let's pretend the spam includes the list ['a', 'b', 'c', 'd'] for the next three queries.\n",
    "\n",
    "spam = ['a','b','c','d']"
   ]
  },
  {
   "cell_type": "code",
   "execution_count": null,
   "id": "10cfeca3",
   "metadata": {},
   "outputs": [],
   "source": [
    "#3.What is the value of spam[int(int('3' * 2) / 11)]?"
   ]
  },
  {
   "cell_type": "code",
   "execution_count": 17,
   "id": "93b3779a",
   "metadata": {},
   "outputs": [
    {
     "data": {
      "text/plain": [
       "'d'"
      ]
     },
     "execution_count": 17,
     "metadata": {},
     "output_type": "execute_result"
    }
   ],
   "source": [
    "spam[int(int('3' * 2) / 11)]"
   ]
  },
  {
   "cell_type": "code",
   "execution_count": 3,
   "id": "456b402b",
   "metadata": {},
   "outputs": [],
   "source": [
    "#4.What is the value of spam[-1]?"
   ]
  },
  {
   "cell_type": "code",
   "execution_count": 18,
   "id": "2903c5b3",
   "metadata": {},
   "outputs": [
    {
     "data": {
      "text/plain": [
       "'d'"
      ]
     },
     "execution_count": 18,
     "metadata": {},
     "output_type": "execute_result"
    }
   ],
   "source": [
    "spam[-1]"
   ]
  },
  {
   "cell_type": "code",
   "execution_count": 2,
   "id": "37827a82",
   "metadata": {},
   "outputs": [],
   "source": [
    "#5.What is the value of spam[:2]?"
   ]
  },
  {
   "cell_type": "code",
   "execution_count": 19,
   "id": "8b6e35be",
   "metadata": {},
   "outputs": [
    {
     "data": {
      "text/plain": [
       "['a', 'b']"
      ]
     },
     "execution_count": 19,
     "metadata": {},
     "output_type": "execute_result"
    }
   ],
   "source": [
    "spam[:2]"
   ]
  },
  {
   "cell_type": "markdown",
   "id": "4ee1cd9e",
   "metadata": {},
   "source": [
    "Let's pretend bacon has the list [3.14, 'cat,' 11, 'cat,' True] for the next three questions."
   ]
  },
  {
   "cell_type": "code",
   "execution_count": 22,
   "id": "9d89ac92",
   "metadata": {},
   "outputs": [],
   "source": [
    "bacon = [3.14, 'cat', 11, 'cat', True]"
   ]
  },
  {
   "cell_type": "code",
   "execution_count": null,
   "id": "2e90f99a",
   "metadata": {},
   "outputs": [],
   "source": [
    "#6.What is the value of bacon.index('cat')?"
   ]
  },
  {
   "cell_type": "code",
   "execution_count": 23,
   "id": "d0e8e395",
   "metadata": {},
   "outputs": [
    {
     "data": {
      "text/plain": [
       "1"
      ]
     },
     "execution_count": 23,
     "metadata": {},
     "output_type": "execute_result"
    }
   ],
   "source": [
    "bacon.index('cat')"
   ]
  },
  {
   "cell_type": "code",
   "execution_count": null,
   "id": "82aceef2",
   "metadata": {},
   "outputs": [],
   "source": [
    "#7.How does bacon.append(99) change the look of the list value in bacon?"
   ]
  },
  {
   "cell_type": "code",
   "execution_count": 28,
   "id": "b434bdfa",
   "metadata": {},
   "outputs": [],
   "source": [
    "bacon.append(99)"
   ]
  },
  {
   "cell_type": "code",
   "execution_count": 37,
   "id": "879a591e",
   "metadata": {},
   "outputs": [
    {
     "data": {
      "text/plain": [
       "[3.14, 'cat', 11, 'cat', True, 99]"
      ]
     },
     "execution_count": 37,
     "metadata": {},
     "output_type": "execute_result"
    }
   ],
   "source": [
    "bacon"
   ]
  },
  {
   "cell_type": "code",
   "execution_count": 1,
   "id": "b7e4e06c",
   "metadata": {},
   "outputs": [],
   "source": [
    "#8.How does bacon.remove('cat') change the look of the list in bacon?"
   ]
  },
  {
   "cell_type": "code",
   "execution_count": 38,
   "id": "c12532c7",
   "metadata": {},
   "outputs": [],
   "source": [
    "bacon.remove('cat')"
   ]
  },
  {
   "cell_type": "code",
   "execution_count": 39,
   "id": "822438ca",
   "metadata": {},
   "outputs": [
    {
     "data": {
      "text/plain": [
       "[3.14, 11, 'cat', True, 99]"
      ]
     },
     "execution_count": 39,
     "metadata": {},
     "output_type": "execute_result"
    }
   ],
   "source": [
    "bacon"
   ]
  },
  {
   "cell_type": "code",
   "execution_count": 3,
   "id": "108bd554",
   "metadata": {},
   "outputs": [],
   "source": [
    "#9. What are the list concatenation and list replication operators?"
   ]
  },
  {
   "cell_type": "markdown",
   "id": "917790a1",
   "metadata": {},
   "source": [
    "Ans- list concatenation operators join the provided list in a single list.\n",
    "Where as list repication operators________________the given list."
   ]
  },
  {
   "cell_type": "code",
   "execution_count": 5,
   "id": "752f6b31",
   "metadata": {},
   "outputs": [],
   "source": [
    "#10. What is difference between the list methods append() and insert()?"
   ]
  },
  {
   "cell_type": "markdown",
   "id": "45133519",
   "metadata": {},
   "source": [
    "Ans- append() always add an element at the end of the provided list. where as insert demand the index number to add an element."
   ]
  },
  {
   "cell_type": "code",
   "execution_count": 7,
   "id": "d69f9646",
   "metadata": {},
   "outputs": [],
   "source": [
    "#11. What are the two methods for removing items from a list?"
   ]
  },
  {
   "cell_type": "markdown",
   "id": "184b8ec7",
   "metadata": {},
   "source": [
    "Ans- the two method are 1. remove 2. delete"
   ]
  },
  {
   "cell_type": "code",
   "execution_count": 9,
   "id": "4d6a49ad",
   "metadata": {},
   "outputs": [],
   "source": [
    "#12. Describe how list values and string values are identical."
   ]
  },
  {
   "cell_type": "markdown",
   "id": "ae2a8de7",
   "metadata": {},
   "source": [
    "Ans- all operation performed by list is also performed by string so we can say list & string values are identical."
   ]
  },
  {
   "cell_type": "code",
   "execution_count": 11,
   "id": "a7697c5d",
   "metadata": {},
   "outputs": [],
   "source": [
    "#13. What's the difference between tuples and lists?"
   ]
  },
  {
   "cell_type": "markdown",
   "id": "8856b8f7",
   "metadata": {},
   "source": [
    "Ans- tuples are im-mutable where as list are mutable in nature."
   ]
  },
  {
   "cell_type": "code",
   "execution_count": 14,
   "id": "00126110",
   "metadata": {},
   "outputs": [],
   "source": [
    "#14. How do you type a tuple value that only contains the integer 42?"
   ]
  },
  {
   "cell_type": "code",
   "execution_count": 15,
   "id": "6ad35930",
   "metadata": {},
   "outputs": [
    {
     "data": {
      "text/plain": [
       "42"
      ]
     },
     "execution_count": 15,
     "metadata": {},
     "output_type": "execute_result"
    }
   ],
   "source": [
    "t = (42)\n",
    "t"
   ]
  },
  {
   "cell_type": "code",
   "execution_count": 16,
   "id": "7dd5989f",
   "metadata": {},
   "outputs": [],
   "source": [
    "#15. How do you get a list value's tuple form? How do you get a tuple value's list form?"
   ]
  },
  {
   "cell_type": "code",
   "execution_count": 53,
   "id": "feaf7f80",
   "metadata": {},
   "outputs": [
    {
     "data": {
      "text/plain": [
       "list"
      ]
     },
     "execution_count": 53,
     "metadata": {},
     "output_type": "execute_result"
    }
   ],
   "source": [
    "l = [1,2,3,4,5,6]\n",
    "type(l)"
   ]
  },
  {
   "cell_type": "code",
   "execution_count": 50,
   "id": "597dad87",
   "metadata": {},
   "outputs": [
    {
     "data": {
      "text/plain": [
       "(1, 2, 3, 4, 5, 6)"
      ]
     },
     "execution_count": 50,
     "metadata": {},
     "output_type": "execute_result"
    }
   ],
   "source": [
    "tuple(l)"
   ]
  },
  {
   "cell_type": "code",
   "execution_count": 56,
   "id": "7ccc7a40",
   "metadata": {
    "scrolled": false
   },
   "outputs": [
    {
     "data": {
      "text/plain": [
       "tuple"
      ]
     },
     "execution_count": 56,
     "metadata": {},
     "output_type": "execute_result"
    }
   ],
   "source": [
    "t = (9,8,7,6,5,4)\n",
    "type(t)"
   ]
  },
  {
   "cell_type": "code",
   "execution_count": 57,
   "id": "069df680",
   "metadata": {},
   "outputs": [
    {
     "data": {
      "text/plain": [
       "[9, 8, 7, 6, 5, 4]"
      ]
     },
     "execution_count": 57,
     "metadata": {},
     "output_type": "execute_result"
    }
   ],
   "source": [
    "list(t)"
   ]
  },
  {
   "cell_type": "code",
   "execution_count": 19,
   "id": "308ae9eb",
   "metadata": {},
   "outputs": [],
   "source": [
    "#16. Variables that \"contain\" list values are not necessarily lists themselves. Instead, what do they contain?"
   ]
  },
  {
   "cell_type": "markdown",
   "id": "054b4df1",
   "metadata": {},
   "source": [
    "Ans- They just conatian value only. It may any thing."
   ]
  },
  {
   "cell_type": "code",
   "execution_count": 17,
   "id": "b6966c14",
   "metadata": {},
   "outputs": [],
   "source": [
    "#17. How do you distinguish between copy.copy() and copy.deepcopy()?"
   ]
  },
  {
   "cell_type": "markdown",
   "id": "86c32e6a",
   "metadata": {},
   "source": [
    "Ans- copy.copy() works only at once after that it destroyed but copy.deepcopy() maintain the coppied item unless & until it not modified again."
   ]
  },
  {
   "cell_type": "code",
   "execution_count": null,
   "id": "115e3432",
   "metadata": {},
   "outputs": [],
   "source": []
  }
 ],
 "metadata": {
  "kernelspec": {
   "display_name": "Python 3 (ipykernel)",
   "language": "python",
   "name": "python3"
  },
  "language_info": {
   "codemirror_mode": {
    "name": "ipython",
    "version": 3
   },
   "file_extension": ".py",
   "mimetype": "text/x-python",
   "name": "python",
   "nbconvert_exporter": "python",
   "pygments_lexer": "ipython3",
   "version": "3.9.12"
  }
 },
 "nbformat": 4,
 "nbformat_minor": 5
}
