{
 "cells": [
  {
   "cell_type": "markdown",
   "id": "bb11139b",
   "metadata": {},
   "source": [
    "1. Compare and contrast the float and Decimal classes' benefits and drawbacks."
   ]
  },
  {
   "cell_type": "markdown",
   "id": "e4efb5e3",
   "metadata": {},
   "source": [
    "**Float:**\n",
    "\n",
    "Benefits:\n",
    "1. Efficiency: Floats are hardware-supported and generally faster for arithmetic operations.\n",
    "2. Standard: Floats conform to the IEEE 754 standard, ensuring consistency across platforms.\n",
    "3. Widespread Use: Floats are the default choice for real number representation in most programming languages.\n",
    "\n",
    "Drawbacks:\n",
    "1. Precision Issues: Limited precision can lead to rounding errors and inaccuracies, especially in financial or scientific applications.\n",
    "2. Inexact Representation: Some rational numbers cannot be precisely represented as floats, leading to approximation errors.\n",
    "\n",
    "**Decimal:**\n",
    "\n",
    "Benefits:\n",
    "1. Precision: Decimals offer arbitrary precision, allowing for exact representation of decimal numbers.\n",
    "2. Accuracy: They are suitable for financial, scientific, and critical applications where precision is paramount.\n",
    "3. Control: Decimals provide control over rounding and decimal places, reducing potential for rounding errors.\n",
    "\n",
    "Drawbacks:\n",
    "1. Performance: Decimal operations are slower than float operations due to software-based implementation.\n",
    "2. Storage: Decimals require more memory for storage, which can be an issue for large datasets.\n",
    "3. Not Default: They are not the default choice, so developers need to explicitly use the `decimal` module."
   ]
  },
  {
   "cell_type": "markdown",
   "id": "85afcea0",
   "metadata": {},
   "source": [
    "2. Decimal('1.200') and Decimal('1.2') are two objects to consider. In what sense are these the same object? Are these just two ways of representing the exact same value, or do they correspond to different internal states?"
   ]
  },
  {
   "cell_type": "code",
   "execution_count": 1,
   "id": "89dfa26d",
   "metadata": {},
   "outputs": [],
   "source": [
    "#Decimal('1.200')` and `Decimal('1.2')` are not the same object in Python. They correspond to different internal states in the `decimal` module.\n",
    "\n",
    "#While both representations ultimately represent the same mathematical value (1.2), they are distinct objects in memory because the `decimal` module preserves the exact representation you provide. This can be advantageous in situations where you need to distinguish between them based on their original representations or when you want to control the number of decimal places explicitly.\n",
    "\n",
    "from decimal import Decimal\n",
    "\n",
    "a = Decimal('1.200')\n",
    "b = Decimal('1.2')\n",
    "\n",
    "result = a + b"
   ]
  },
  {
   "cell_type": "markdown",
   "id": "30707c08",
   "metadata": {},
   "source": [
    "3. What happens if the equality of Decimal('1.200') and Decimal('1.2') is checked?"
   ]
  },
  {
   "cell_type": "code",
   "execution_count": 2,
   "id": "a4c83fd7",
   "metadata": {},
   "outputs": [
    {
     "name": "stdout",
     "output_type": "stream",
     "text": [
      "They are equal\n"
     ]
    }
   ],
   "source": [
    "from decimal import Decimal\n",
    "\n",
    "a = Decimal('1.200')\n",
    "b = Decimal('1.2')\n",
    "\n",
    "if a == b:\n",
    "    print(\"They are equal\")\n",
    "else:\n",
    "    print(\"They are not equal\")\n"
   ]
  },
  {
   "cell_type": "markdown",
   "id": "0db528eb",
   "metadata": {},
   "source": [
    "4. Why is it preferable to start a Decimal object with a string rather than a floating-point value?"
   ]
  },
  {
   "cell_type": "code",
   "execution_count": 3,
   "id": "4cb8762a",
   "metadata": {},
   "outputs": [],
   "source": [
    "# Starting a `Decimal` object with a string is preferable over using a floating-point value because it avoids potential precision issues associated with floating-point representations. Here's why:\n",
    "\n",
    "# 1. **Precision Preservation**: When you initialize a `Decimal` object with a string, you are providing an exact representation of the decimal number. The `Decimal` class retains this precision throughout calculations, ensuring that the number is stored and processed accurately.\n",
    "\n",
    "# 2. **Avoiding Floating-Point Approximations**: Floating-point numbers (floats) are inherently approximations of real numbers and can lead to rounding errors and inaccuracies in calculations, especially for values that cannot be represented exactly in binary.\n",
    "\n",
    "# 3. **Control over Precision**: Using a string allows you to specify the exact number of decimal places you want to work with, providing control over rounding and precision.\n",
    "\n",
    "from decimal import Decimal\n",
    "\n",
    "# Avoid floating-point approximation\n",
    "decimal_value = Decimal('0.1')\n",
    "\n",
    "# This may not be accurate due to binary approximation\n",
    "floating_point_value = 0.1"
   ]
  },
  {
   "cell_type": "markdown",
   "id": "30b0c269",
   "metadata": {},
   "source": [
    "5. In an arithmetic phrase, how simple is it to combine Decimal objects with integers?"
   ]
  },
  {
   "cell_type": "code",
   "execution_count": 13,
   "id": "58c39b78",
   "metadata": {},
   "outputs": [
    {
     "name": "stdout",
     "output_type": "stream",
     "text": [
      "7.5\n"
     ]
    }
   ],
   "source": [
    "from decimal import Decimal\n",
    "\n",
    "decimal_value = Decimal('2.5')\n",
    "integer_value = 3\n",
    "\n",
    "result = decimal_value * integer_value\n",
    "print(result)  # Outputs: Decimal('7.5')"
   ]
  },
  {
   "cell_type": "markdown",
   "id": "69eb7148",
   "metadata": {},
   "source": [
    "6. Can Decimal objects and floating-point values be combined easily?"
   ]
  },
  {
   "cell_type": "code",
   "execution_count": 18,
   "id": "3d96f2c2",
   "metadata": {},
   "outputs": [
    {
     "name": "stdout",
     "output_type": "stream",
     "text": [
      "7.5\n"
     ]
    }
   ],
   "source": [
    "from decimal import Decimal\n",
    "\n",
    "decimal_value = Decimal('2.5')\n",
    "floating_point_value = 3.0\n",
    "\n",
    "result = decimal_value * Decimal(floating_point_value)\n",
    "print(result)  # Outputs: Decimal('7.5')"
   ]
  },
  {
   "cell_type": "markdown",
   "id": "6cd0ea78",
   "metadata": {},
   "source": [
    "7. Using the Fraction class but not the Decimal class, give an example of a quantity that can be expressed with absolute precision."
   ]
  },
  {
   "cell_type": "code",
   "execution_count": 9,
   "id": "bf152275",
   "metadata": {},
   "outputs": [
    {
     "name": "stdout",
     "output_type": "stream",
     "text": [
      "1/3\n"
     ]
    }
   ],
   "source": [
    "from fractions import Fraction\n",
    "\n",
    "# Representing the quantity 1/3 with absolute precision\n",
    "fraction_value = Fraction(1, 3)\n",
    "\n",
    "print(fraction_value)  # Outputs: 1/3\n"
   ]
  },
  {
   "cell_type": "markdown",
   "id": "7302670e",
   "metadata": {},
   "source": [
    "8. Describe a quantity that can be accurately expressed by the Decimal or Fraction classes but not by a floating-point value."
   ]
  },
  {
   "cell_type": "code",
   "execution_count": 12,
   "id": "7b3f4fef",
   "metadata": {},
   "outputs": [],
   "source": [
    "from decimal import Decimal\n",
    "\n",
    "decimal_value = Decimal('0.3333333333333333333333333333333333333333333333333333333333333333')\n",
    "\n",
    "from fractions import Fraction\n",
    "\n",
    "fraction_value = Fraction(1, 3)"
   ]
  },
  {
   "cell_type": "markdown",
   "id": "9d5b4639",
   "metadata": {},
   "source": [
    "9.Consider the following two fraction objects: Fraction(1, 2) and Fraction(1, 2). (5, 10). Is the internal state of these two objects the same? Why do you think that is?"
   ]
  },
  {
   "cell_type": "markdown",
   "id": "e9c33eac",
   "metadata": {},
   "source": [
    "Yes, the internal state of the two `Fraction` objects `Fraction(1, 2)` and `Fraction(5, 10)` is the same. Both represent the fraction 1/2. \n",
    "\n",
    "The `Fraction` class simplifies fractions to their simplest form when you create an instance. In this case, `Fraction(5, 10)` is automatically simplified to `Fraction(1, 2)` because both the numerator and denominator share a common factor of 5. This simplification ensures that the internal state of the objects remains the same, representing the fraction in its simplest form."
   ]
  },
  {
   "cell_type": "markdown",
   "id": "d7f3bcec",
   "metadata": {},
   "source": [
    "10. How do the Fraction class and the integer type (int) relate to each other? Containment or inheritance?"
   ]
  },
  {
   "cell_type": "markdown",
   "id": "501e4300",
   "metadata": {},
   "source": [
    "The `Fraction` class and the integer type (`int`) in Python do not have a direct inheritance or containment relationship. They are two distinct numeric types with different behaviors and use cases.\n",
    "\n",
    "The `Fraction` class is designed to represent rational numbers as fractions, allowing for arbitrary precision and exact representation of fractional values. It provides methods for performing arithmetic with fractions and mixed-type arithmetic involving integers, floats, and other `Fraction` objects.\n",
    "\n",
    "On the other hand, the integer type (`int`) represents whole numbers, both positive and negative, without fractional or decimal parts. While you can use integers in arithmetic operations involving `Fraction` objects, they are separate numeric types.\n",
    "\n",
    "In summary, the `Fraction` class and the integer type (`int`) coexist as distinct numeric types in Python, with no inheritance or containment relationship between them."
   ]
  },
  {
   "cell_type": "code",
   "execution_count": null,
   "id": "be4f1ee7",
   "metadata": {},
   "outputs": [],
   "source": []
  }
 ],
 "metadata": {
  "kernelspec": {
   "display_name": "Python 3 (ipykernel)",
   "language": "python",
   "name": "python3"
  },
  "language_info": {
   "codemirror_mode": {
    "name": "ipython",
    "version": 3
   },
   "file_extension": ".py",
   "mimetype": "text/x-python",
   "name": "python",
   "nbconvert_exporter": "python",
   "pygments_lexer": "ipython3",
   "version": "3.10.9"
  }
 },
 "nbformat": 4,
 "nbformat_minor": 5
}
