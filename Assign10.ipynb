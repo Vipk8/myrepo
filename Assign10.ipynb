{
 "cells": [
  {
   "cell_type": "code",
   "execution_count": 1,
   "id": "0ad5abea",
   "metadata": {},
   "outputs": [],
   "source": [
    "#1. How do you distinguish between shutil.copy() and shutil.copytree()?"
   ]
  },
  {
   "cell_type": "markdown",
   "id": "0a41eb12",
   "metadata": {},
   "source": [
    "Ans- shutil.copy() is used to copy a single file, while shutil.copytree() is used to copy an entire directory tree."
   ]
  },
  {
   "cell_type": "code",
   "execution_count": 2,
   "id": "a58a4e7e",
   "metadata": {},
   "outputs": [],
   "source": [
    "#2. What function is used to rename files??"
   ]
  },
  {
   "cell_type": "markdown",
   "id": "42fb2a7b",
   "metadata": {},
   "source": [
    "Ana- os.rename() function is used to rename files."
   ]
  },
  {
   "cell_type": "code",
   "execution_count": 3,
   "id": "5518a988",
   "metadata": {},
   "outputs": [],
   "source": [
    "#3. What is the difference between the delete functions in the send2trash and shutil modules?"
   ]
  },
  {
   "cell_type": "markdown",
   "id": "b017c4c1",
   "metadata": {},
   "source": [
    "Ans- if you want to delete files and directories and want to make sure that they can be recovered if needed, we can use the send2trash module. If we want to permanently delete files and directories in Python, we can use the shutil module."
   ]
  },
  {
   "cell_type": "code",
   "execution_count": 4,
   "id": "451f2c46",
   "metadata": {},
   "outputs": [],
   "source": [
    "#4.ZipFile objects have a close() method just like File objects’ close() method. What ZipFile method is equivalent to File objects’ open() method?\n"
   ]
  },
  {
   "cell_type": "markdown",
   "id": "d57d772d",
   "metadata": {},
   "source": [
    "Ans- The equivalent of File objects' open() method for ZipFile objects is the ZipFile() method.  "
   ]
  },
  {
   "cell_type": "code",
   "execution_count": 5,
   "id": "bae7b8f2",
   "metadata": {},
   "outputs": [],
   "source": [
    "#5. Create a programme that searches a folder tree for files with a certain file extension (such as .pdf or .jpg). Copy these files from whatever location they are in to a new folder."
   ]
  },
  {
   "cell_type": "code",
   "execution_count": 1,
   "id": "4e4c1925",
   "metadata": {},
   "outputs": [],
   "source": [
    "#Ans- \n",
    "import os\n",
    "import shutil\n",
    "\n",
    "\n",
    "source_directory = \"/path/to/source/directory\"\n",
    "target_directory = \"/path/to/target/directory\"\n",
    "file_extension = \".pdf\"\n",
    "for root, directories, files in os.walk(source_directory):\n",
    "    for filename in files:\n",
    "        if filename.endswith(file_extension):\n",
    "            source_file_path = os.path.join(root, filename)\n",
    "            target_file_path = os.path.join(target_directory, filename)\n",
    "            shutil.copy(source_file_path, target_file_path)"
   ]
  }
 ],
 "metadata": {
  "kernelspec": {
   "display_name": "Python 3 (ipykernel)",
   "language": "python",
   "name": "python3"
  },
  "language_info": {
   "codemirror_mode": {
    "name": "ipython",
    "version": 3
   },
   "file_extension": ".py",
   "mimetype": "text/x-python",
   "name": "python",
   "nbconvert_exporter": "python",
   "pygments_lexer": "ipython3",
   "version": "3.9.12"
  }
 },
 "nbformat": 4,
 "nbformat_minor": 5
}
