{
 "cells": [
  {
   "cell_type": "code",
   "execution_count": null,
   "id": "6be3cce4",
   "metadata": {},
   "outputs": [],
   "source": [
    "\"\"\"1. What is the result of the code, and why?\n",
    ">>> def func(a, b=6, c=8):\n",
    "print(a, b, c)\n",
    ">>> func(1, 2)\n",
    "2. What is the result of this code, and why?\n",
    ">>> def func(a, b, c=5):\n",
    "print(a, b, c)\n",
    ">>> func(1, c=3, b=2)\n",
    "3. How about this code: what is its result, and why?\n",
    ">>> def func(a, *pargs):\n",
    "print(a, pargs)\n",
    ">>> func(1, 2, 3)\n",
    "4. What does this code print, and why?\n",
    ">>> def func(a, **kargs):\n",
    "print(a, kargs)\n",
    ">>> func(a=1, c=3, b=2)\n",
    "5. What gets printed by this, and explain?\n",
    ">>> def func(a, b, c=8, d=5): print(a, b, c, d)\n",
    ">>> func(1, *(5, 6))\n",
    "6. what is the result of this, and explain?\n",
    ">>> def func(a, b, c): a = 2; b[0] = 'x'; c['a'] = 'y'\n",
    ">>> l=1; m=[1]; n={'a':0}\n",
    ">>> func(l, m, n)\n",
    ">>> l, m, n\n",
    "\"\"\""
   ]
  },
  {
   "cell_type": "code",
   "execution_count": 6,
   "id": "e0a71403",
   "metadata": {},
   "outputs": [
    {
     "name": "stdout",
     "output_type": "stream",
     "text": [
      "1 2 8\n"
     ]
    }
   ],
   "source": [
    "#1. What is the result of the code, and why?\n",
    "def func(a, b=6, c=8):\n",
    "    print(a, b, c)\n",
    "func(1, 2)  # #In this function 3 arugment a,b,c provided in which b & c have value but a is without value when we apply the \"func\" function with 2 argument it return the 3 value as print statment already have 3 element of the \"func\" function."
   ]
  },
  {
   "cell_type": "code",
   "execution_count": 8,
   "id": "d944500c",
   "metadata": {},
   "outputs": [
    {
     "name": "stdout",
     "output_type": "stream",
     "text": [
      "1 2 3\n"
     ]
    }
   ],
   "source": [
    "#2. What is the result of this code, and why?\n",
    "def func(a, b, c=5):\n",
    "    print(a, b, c)\n",
    "func(1, c=3, b=2)   # in this function 3 arugment(a,b,c) provided c with value & a,b without value but print retun all the three arugment. When we apply function with 3 argument it retun the all the 3 value considering \"func\" function."
   ]
  },
  {
   "cell_type": "code",
   "execution_count": 1,
   "id": "45f9ecd8",
   "metadata": {},
   "outputs": [
    {
     "name": "stdout",
     "output_type": "stream",
     "text": [
      "1 (2, 3)\n"
     ]
    }
   ],
   "source": [
    "#3. How about this code: what is its result, and why?\n",
    "def func(a, *pargs):\n",
    "    print(a, pargs)\n",
    "func(1, 2, 3)"
   ]
  },
  {
   "cell_type": "markdown",
   "id": "d44fca22",
   "metadata": {},
   "source": [
    "This function have arugment a & staric arugment with Parentheses.\n",
    "This function print the value against a & other value within Parentheses.  "
   ]
  },
  {
   "cell_type": "code",
   "execution_count": 13,
   "id": "79357752",
   "metadata": {},
   "outputs": [
    {
     "name": "stdout",
     "output_type": "stream",
     "text": [
      "1 {'c': 3, 'b': 2}\n"
     ]
    }
   ],
   "source": [
    "#4. What does this code print, and why?\n",
    "def func(a, **kargs):\n",
    "    print(a, kargs)\n",
    "func(a=1, c=3, b=2)"
   ]
  },
  {
   "cell_type": "markdown",
   "id": "08f9f54a",
   "metadata": {},
   "source": [
    "This function have single argumnet & a key-value argument.\n",
    "When this function run it return the value against a & a dict aganist *kargs."
   ]
  },
  {
   "cell_type": "code",
   "execution_count": 17,
   "id": "16766a46",
   "metadata": {},
   "outputs": [
    {
     "name": "stdout",
     "output_type": "stream",
     "text": [
      "1 5 6 5\n"
     ]
    }
   ],
   "source": [
    "#5. What gets printed by this, and explain?\n",
    "def func(a, b, c=8, d=5): print(a, b, c, d)\n",
    "func(1, *(5, 6))"
   ]
  },
  {
   "cell_type": "markdown",
   "id": "a04f9231",
   "metadata": {},
   "source": [
    "This is because the func() function is defined to take four arguments, with the last two having default values of 8 and 5."
   ]
  },
  {
   "cell_type": "code",
   "execution_count": 23,
   "id": "78f2f115",
   "metadata": {},
   "outputs": [
    {
     "data": {
      "text/plain": [
       "(1, ['x'], {'a': 'y'})"
      ]
     },
     "execution_count": 23,
     "metadata": {},
     "output_type": "execute_result"
    }
   ],
   "source": [
    "#6. what is the result of this, and explain?\n",
    "def func(a, b, c): a = 2; b[0] = 'x'; c['a'] = 'y'\n",
    "l=1; m=[1]; n={'a':0}\n",
    "func(l, m, n)\n",
    "l, m, n"
   ]
  },
  {
   "cell_type": "markdown",
   "id": "5c4114c0",
   "metadata": {},
   "source": [
    "When this code is executed, the values of l, m, and n will be changed.\n",
    "l is an integer, which is an immutable.\n",
    "m is a list, which is a mutable.\n",
    "n is a dictionary, which is also a mutable. So value of b & c will change but a remains stable."
   ]
  }
 ],
 "metadata": {
  "kernelspec": {
   "display_name": "Python 3 (ipykernel)",
   "language": "python",
   "name": "python3"
  },
  "language_info": {
   "codemirror_mode": {
    "name": "ipython",
    "version": 3
   },
   "file_extension": ".py",
   "mimetype": "text/x-python",
   "name": "python",
   "nbconvert_exporter": "python",
   "pygments_lexer": "ipython3",
   "version": "3.9.12"
  }
 },
 "nbformat": 4,
 "nbformat_minor": 5
}
