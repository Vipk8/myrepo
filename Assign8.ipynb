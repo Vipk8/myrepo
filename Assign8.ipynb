{
 "cells": [
  {
   "cell_type": "code",
   "execution_count": 1,
   "id": "20df6041",
   "metadata": {},
   "outputs": [],
   "source": [
    "#1. Is the Python Standard Library included with PyInputPlus?"
   ]
  },
  {
   "cell_type": "markdown",
   "id": "1a128293",
   "metadata": {},
   "source": [
    "Ans- yes"
   ]
  },
  {
   "cell_type": "code",
   "execution_count": 2,
   "id": "42914618",
   "metadata": {},
   "outputs": [],
   "source": [
    "#2. Why is PyInputPlus commonly imported with import pyinputplus as pypi?"
   ]
  },
  {
   "cell_type": "markdown",
   "id": "c645c89e",
   "metadata": {},
   "source": [
    "Ans- PyInputPlus is commonly imported with the alias pypi as a for convention or personal preference. "
   ]
  },
  {
   "cell_type": "code",
   "execution_count": 3,
   "id": "1b9b531b",
   "metadata": {},
   "outputs": [],
   "source": [
    "#3. How do you distinguish between inputInt() and inputFloat()?"
   ]
  },
  {
   "cell_type": "markdown",
   "id": "39ab6525",
   "metadata": {},
   "source": [
    "Ans- inputInt() means enter integer only.  inpuFloat() means float only."
   ]
  },
  {
   "cell_type": "code",
   "execution_count": 5,
   "id": "8d91b2ab",
   "metadata": {},
   "outputs": [],
   "source": [
    "#4. Using PyInputPlus, how do you ensure that the user enters a whole number between 0 and 99?"
   ]
  },
  {
   "cell_type": "markdown",
   "id": "03c2e8a0",
   "metadata": {},
   "source": [
    "Ans- To ensure that the user enters a whole number between 0 and 99 using PyInputPlus, we can use the inputInt() function with the min and max arguments set to 0 and 99, respectively. "
   ]
  },
  {
   "cell_type": "code",
   "execution_count": 6,
   "id": "4c6184d7",
   "metadata": {},
   "outputs": [],
   "source": [
    "#5. What is transferred to the keyword arguments allowRegexes and blockRegexes?"
   ]
  },
  {
   "cell_type": "markdown",
   "id": "1d689505",
   "metadata": {},
   "source": [
    "Ans- allowRegexes: stand for list of regular expressions that are allowed for user input. Where as blockRegexes: A list of regular expressions that are not allowed for user input."
   ]
  },
  {
   "cell_type": "code",
   "execution_count": 7,
   "id": "904c214f",
   "metadata": {},
   "outputs": [],
   "source": [
    "#6. If a blank input is entered three times, what does inputStr(limit=3) do?"
   ]
  },
  {
   "cell_type": "markdown",
   "id": "33b0804b",
   "metadata": {},
   "source": [
    "Ans- it will raise a TimeoutException after the third attempt."
   ]
  },
  {
   "cell_type": "code",
   "execution_count": 3,
   "id": "6f2e2330",
   "metadata": {},
   "outputs": [],
   "source": [
    "#7. If blank input is entered three times, what does inputStr(limit=3, default='hello') do?"
   ]
  },
  {
   "cell_type": "markdown",
   "id": "10f26b10",
   "metadata": {},
   "source": [
    "Ans- It will return the default value \"hello\" after third time."
   ]
  }
 ],
 "metadata": {
  "kernelspec": {
   "display_name": "Python 3 (ipykernel)",
   "language": "python",
   "name": "python3"
  },
  "language_info": {
   "codemirror_mode": {
    "name": "ipython",
    "version": 3
   },
   "file_extension": ".py",
   "mimetype": "text/x-python",
   "name": "python",
   "nbconvert_exporter": "python",
   "pygments_lexer": "ipython3",
   "version": "3.9.12"
  }
 },
 "nbformat": 4,
 "nbformat_minor": 5
}
