{
 "cells": [
  {
   "cell_type": "markdown",
   "id": "2c727985",
   "metadata": {},
   "source": [
    "1.\tWrite a Python program to print \"Hello Python\"?"
   ]
  },
  {
   "cell_type": "code",
   "execution_count": 1,
   "id": "24a527f9",
   "metadata": {},
   "outputs": [
    {
     "name": "stdout",
     "output_type": "stream",
     "text": [
      "Hello Python\n"
     ]
    }
   ],
   "source": [
    "# Ans:-\n",
    "print(\"Hello Python\")"
   ]
  },
  {
   "cell_type": "markdown",
   "id": "e4f9a567",
   "metadata": {},
   "source": [
    "2.\tWrite a Python program to do arithmetical operations addition and division.?"
   ]
  },
  {
   "cell_type": "code",
   "execution_count": 2,
   "id": "3073ab57",
   "metadata": {},
   "outputs": [],
   "source": [
    "#Ans:-\n",
    "def math(x,y):\n",
    "    add = x+y\n",
    "    div = y/x    \n",
    "    return  (add,div)"
   ]
  },
  {
   "cell_type": "markdown",
   "id": "daf4a027",
   "metadata": {},
   "source": [
    "3.\tWrite a Python program to find the area of a triangle?"
   ]
  },
  {
   "cell_type": "code",
   "execution_count": 3,
   "id": "1dddd031",
   "metadata": {},
   "outputs": [],
   "source": [
    "# Ans:-\n",
    "def triangle_area(b,h):\n",
    "    return b*h*1/2"
   ]
  },
  {
   "cell_type": "markdown",
   "id": "2b411e86",
   "metadata": {},
   "source": [
    "4.\tWrite a Python program to swap two variables?"
   ]
  },
  {
   "cell_type": "code",
   "execution_count": 4,
   "id": "15ec9787",
   "metadata": {},
   "outputs": [],
   "source": [
    "#Ans:-\n",
    "def swap(a,b):\n",
    "    c = a\n",
    "    a = b\n",
    "    b = c\n",
    "    return (a,b)"
   ]
  },
  {
   "cell_type": "markdown",
   "id": "6bfc85ff",
   "metadata": {},
   "source": [
    "5.Write a Python program to generate a random number?"
   ]
  },
  {
   "cell_type": "code",
   "execution_count": 6,
   "id": "ef9e0998",
   "metadata": {},
   "outputs": [
    {
     "name": "stdout",
     "output_type": "stream",
     "text": [
      "0.8709946124914617\n"
     ]
    }
   ],
   "source": [
    "#Ans:-\n",
    "import random\n",
    "a = random.random()\n",
    "print(a)"
   ]
  }
 ],
 "metadata": {
  "kernelspec": {
   "display_name": "Python 3 (ipykernel)",
   "language": "python",
   "name": "python3"
  },
  "language_info": {
   "codemirror_mode": {
    "name": "ipython",
    "version": 3
   },
   "file_extension": ".py",
   "mimetype": "text/x-python",
   "name": "python",
   "nbconvert_exporter": "python",
   "pygments_lexer": "ipython3",
   "version": "3.9.12"
  }
 },
 "nbformat": 4,
 "nbformat_minor": 5
}
