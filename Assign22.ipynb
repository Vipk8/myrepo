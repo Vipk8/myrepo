{
 "cells": [
  {
   "cell_type": "code",
   "execution_count": 2,
   "id": "6c68c753",
   "metadata": {},
   "outputs": [
    {
     "name": "stdout",
     "output_type": "stream",
     "text": [
      "iNeuron\n"
     ]
    }
   ],
   "source": [
    "#1. What is the result of the code, and explain?\n",
    "\n",
    "X = 'iNeuron'\n",
    "def func():\n",
    "    print(X)\n",
    "\n",
    "func() # It is a function that print the given input. Here input is iNeuron."
   ]
  },
  {
   "cell_type": "code",
   "execution_count": null,
   "id": "1f453bd7",
   "metadata": {},
   "outputs": [],
   "source": [
    "# Here X is a globle veriable & it accessible with \"func\" function."
   ]
  },
  {
   "cell_type": "code",
   "execution_count": 5,
   "id": "c7a270af",
   "metadata": {},
   "outputs": [
    {
     "name": "stdout",
     "output_type": "stream",
     "text": [
      "iNeuron\n"
     ]
    }
   ],
   "source": [
    "#2. What is the result of the code, and explain?\n",
    "\n",
    "\n",
    "X = 'iNeuron'\n",
    "def func():\n",
    "    X = 'NI!'\n",
    "\n",
    "func()\n",
    "print(X) # Here global variable X with a value of 'iNeuron'. \n",
    "         #Then, we have defined a function func() which also defines a variable X with a value of 'NI!'.\n",
    "         #but this variable is local to the function and does not affect the global variable."
   ]
  },
  {
   "cell_type": "code",
   "execution_count": 6,
   "id": "9ecae8d6",
   "metadata": {},
   "outputs": [],
   "source": [
    "# here X is globle veriable & in any function always globle veriable printed. "
   ]
  },
  {
   "cell_type": "code",
   "execution_count": 1,
   "id": "d7c35c48",
   "metadata": {},
   "outputs": [
    {
     "name": "stdout",
     "output_type": "stream",
     "text": [
      "iNeuron\n",
      "iNeuron\n"
     ]
    }
   ],
   "source": [
    "#3. What does this code print, and why?\n",
    "\n",
    "X = 'iNeuron'\n",
    "def func():\n",
    "    X = 'NI'\n",
    "print(X)\n",
    "\n",
    "func()\n",
    "print(X) # here X is a global variable and print(x) called two times calling func() does not affect the value of the global X."
   ]
  },
  {
   "cell_type": "code",
   "execution_count": 2,
   "id": "3a8d6aa9",
   "metadata": {},
   "outputs": [
    {
     "name": "stdout",
     "output_type": "stream",
     "text": [
      "NI\n"
     ]
    }
   ],
   "source": [
    "#4. What output does this code produce? Why?\n",
    "\n",
    "\n",
    "X = 'iNeuron'\n",
    "def func():\n",
    "    global X\n",
    "    X = 'NI'\n",
    "\n",
    "func()\n",
    "print(X)  # here X which globle veriable become local veriable so the result is \"NI\""
   ]
  },
  {
   "cell_type": "code",
   "execution_count": 4,
   "id": "d4111618",
   "metadata": {},
   "outputs": [
    {
     "data": {
      "text/plain": [
       "'iNeuron'"
      ]
     },
     "execution_count": 4,
     "metadata": {},
     "output_type": "execute_result"
    }
   ],
   "source": [
    "#5. What about this code—what’s the output, and why?\n",
    "\n",
    "\n",
    "X = 'iNeuron'   \n",
    "def func():\n",
    "    X = 'NI'\n",
    "def nested():\n",
    "    print(X)\n",
    "    nested()\n",
    "\n",
    "\n",
    "func()\n",
    "X           #When the program starts, X is set to 'iNeuron'. Then, the func and nested functions are defined, but none of them are actually called.\n",
    "            #However, the nested() function then calls itself recursively, leading to an infinite loop of function calls that eventually raises a RecursionError."
   ]
  },
  {
   "cell_type": "code",
   "execution_count": 19,
   "id": "fb205a7d",
   "metadata": {},
   "outputs": [
    {
     "name": "stdout",
     "output_type": "stream",
     "text": [
      "Spam\n"
     ]
    }
   ],
   "source": [
    "#6. How about this code: what is its output in Python 3, and explain?\n",
    "\n",
    "\n",
    "def func():\n",
    "    X = 'NI'\n",
    "    def nested():\n",
    "        nonlocal X\n",
    "        X = 'Spam'\n",
    "    nested()\n",
    "    print(X)\n",
    "\n",
    "func()"
   ]
  },
  {
   "cell_type": "markdown",
   "id": "0de5ec90",
   "metadata": {},
   "source": [
    "When func() is called, it creates a local variable X= 'NI'. Then, it defines a nested function nested(), which uses the nonlocal keyword it wants to modify the X variable from the enclosing func function.\n",
    "When nested() is called, it modifies the value of X to 'Spam'. Since X is a nonlocal variable, this change affects the value of the X variable in the enclosing func function as well.\n",
    "Finally, func() prints the value of X, which is now 'Spam'."
   ]
  },
  {
   "cell_type": "code",
   "execution_count": null,
   "id": "2efd4173",
   "metadata": {},
   "outputs": [],
   "source": []
  }
 ],
 "metadata": {
  "kernelspec": {
   "display_name": "Python 3 (ipykernel)",
   "language": "python",
   "name": "python3"
  },
  "language_info": {
   "codemirror_mode": {
    "name": "ipython",
    "version": 3
   },
   "file_extension": ".py",
   "mimetype": "text/x-python",
   "name": "python",
   "nbconvert_exporter": "python",
   "pygments_lexer": "ipython3",
   "version": "3.9.12"
  }
 },
 "nbformat": 4,
 "nbformat_minor": 5
}
