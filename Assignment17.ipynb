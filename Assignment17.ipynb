{
 "cells": [
  {
   "cell_type": "markdown",
   "id": "912493fe",
   "metadata": {},
   "source": [
    "1. Explain the difference between greedy and non-greedy syntax with visual terms in as few words as possible. What is the bare minimum effort required to transform a greedy pattern into a non-greedy one? What characters or characters can you introduce or change?"
   ]
  },
  {
   "cell_type": "markdown",
   "id": "8dc608d9",
   "metadata": {},
   "source": [
    "Greedy syntax in regex matches as much as possible, while non-greedy matches as little as possible. Transforming a greedy pattern into a non-greedy one in Python is straightforward: simply add a \"?\" after the quantifier in the regex pattern. For example, the greedy pattern \".*\" (matching any characters) becomes non-greedy \".*?\". This minimal change alters the behavior of the pattern to match the shortest possible substring instead of the longest.\n",
    "\n",
    "In visual terms, imagine a string \"ABCDE\" and a greedy pattern \"A.*C\" will match the whole string \"ABCDE\". On the other hand, the non-greedy pattern \"A.*?C\" will only match \"ABC\" as it stops at the first occurrence of \"C\", matching the minimum characters needed.\n",
    "\n",
    "In summary, appending \"?\" after a quantifier changes a greedy pattern to non-greedy, making it match the shortest instead of the longest substring."
   ]
  },
  {
   "cell_type": "markdown",
   "id": "6e146fbf",
   "metadata": {},
   "source": [
    "2. When exactly does greedy versus non-greedy make a difference?  What if you're looking for a non-greedy match but the only one available is greedy?"
   ]
  },
  {
   "cell_type": "markdown",
   "id": "036b8089",
   "metadata": {},
   "source": [
    "Greedy versus non-greedy makes a difference when using regex quantifiers like \"*\", \"+\", or \"?\". In cases where the pattern is ambiguous and can match multiple substrings, the choice between greedy and non-greedy can affect the result.\n",
    "\n",
    "If you are looking for a non-greedy match, but only a greedy one is available, it might lead to unexpected behavior. The regex engine will try to match as much as possible, which could result in capturing more text than desired. To ensure a non-greedy match, you can modify the greedy quantifier by appending \"?\" to it, allowing it to match the shortest possible substring instead."
   ]
  },
  {
   "cell_type": "markdown",
   "id": "9217beae",
   "metadata": {},
   "source": [
    "3. In a simple match of a string, which looks only for one match and does not do any replacement, is the use of a nontagged group likely to make any practical difference?"
   ]
  },
  {
   "cell_type": "markdown",
   "id": "90258dff",
   "metadata": {},
   "source": [
    "In a simple match of a string that looks for only one match and does not involve any replacement, the use of a non-capturing group (nontagged group) is unlikely to make any practical difference. Non-capturing groups are primarily used to control the scope of quantifiers or to improve performance, but they do not affect the overall matching behavior. Since the match is not captured or used in any further operations, whether the group is tagged or non-tagged won't have any noticeable impact on the outcome of the match."
   ]
  },
  {
   "cell_type": "markdown",
   "id": "9acb2bc2",
   "metadata": {},
   "source": [
    "4. Describe a scenario in which using a nontagged category would have a significant impact on the program's outcomes."
   ]
  },
  {
   "cell_type": "markdown",
   "id": "e7677e5c",
   "metadata": {},
   "source": [
    "Suppose you are processing a large text file and need to extract specific patterns using regex. If the regex pattern involves multiple complex capturing groups for extracting different information, using non-tagged (non-capturing) groups in places where capturing is unnecessary can significantly improve performance. This optimization prevents unnecessary memory allocation and storage of capturing group results, resulting in a faster and more efficient regex matching process, especially when dealing with large datasets."
   ]
  },
  {
   "cell_type": "markdown",
   "id": "a9e4fd21",
   "metadata": {},
   "source": [
    "5. Unlike a normal regex pattern, a look-ahead condition does not consume the characters it examines. Describe a situation in which this could make a difference in the results of your programme."
   ]
  },
  {
   "cell_type": "markdown",
   "id": "08008448",
   "metadata": {},
   "source": [
    "Let's consider a scenario where we have a list of email addresses, and we want to match those addresses that end with \"@company.com\" but should not contain the word \"admin\" before the domain.\n",
    "\n",
    "Using a look-ahead condition in the regex pattern, we can achieve this. For example, the pattern `^(?!.*admin)\\\\S+@company\\\\.com$` will match email addresses like \"john.doe@company.com\" but will not match \"admin@company.com\" because the look-ahead assertion `(?!.*admin)` prevents the match if \"admin\" is found before \"@company.com\", while not consuming the characters it examines, allowing for accurate filtering based on the given condition."
   ]
  },
  {
   "cell_type": "markdown",
   "id": "32ada548",
   "metadata": {},
   "source": [
    "6. In standard expressions, what is the difference between positive look-ahead and negative look-ahead?"
   ]
  },
  {
   "cell_type": "markdown",
   "id": "d53d7448",
   "metadata": {},
   "source": [
    "Positive look-ahead and negative look-ahead are both types of look-ahead assertions in regular expressions. \n",
    "\n",
    "Positive look-ahead (`(?=...)`) asserts that a specific pattern must be followed by the main expression for a match to occur, but it doesn't consume the characters it examines.\n",
    "\n",
    "Negative look-ahead (`(?!...)`) asserts that a specific pattern must not be followed by the main expression for a match to occur, and it also doesn't consume the characters it examines."
   ]
  },
  {
   "cell_type": "markdown",
   "id": "d4892c37",
   "metadata": {},
   "source": [
    "7. What is the benefit of referring to groups by name rather than by number in a standard expression?"
   ]
  },
  {
   "cell_type": "markdown",
   "id": "38d46eec",
   "metadata": {},
   "source": [
    "Referring to groups by name in a standard expression provides several benefits:\n",
    "\n",
    "1. Improved Readability: Named groups make the regex pattern more understandable as the purpose of each group is explicitly labeled.\n",
    "2. Self-Documenting: By using descriptive names, the regex becomes self-documenting, making it easier for others to comprehend the pattern's intent.\n",
    "3. Flexibility: If the order of the groups changes, named references ensure that the code remains unaffected, increasing code flexibility and maintainability."
   ]
  },
  {
   "cell_type": "markdown",
   "id": "8c3a6d3b",
   "metadata": {},
   "source": [
    "8. Can you identify repeated items within a target string using named groups, as in \"The cow jumped over the moon\"?"
   ]
  },
  {
   "cell_type": "markdown",
   "id": "2f54feae",
   "metadata": {},
   "source": [
    "Yes, you can identify repeated items within a target string using named groups in regular expressions. For example, in the string \"The cow jumped over the moon\", you can use the pattern `(?P<word>\\b\\w+\\b).*\\b\\g<word>\\b` to match and capture any repeated word. This pattern uses a named group \"word\" to capture the first word, and then uses a backreference `\\g<word>` to find subsequent occurrences of the same word."
   ]
  },
  {
   "cell_type": "markdown",
   "id": "4d874037",
   "metadata": {},
   "source": [
    "9. When parsing a string, what is at least one thing that the Scanner interface does for you that the re.findall feature does not?"
   ]
  },
  {
   "cell_type": "markdown",
   "id": "a1790e86",
   "metadata": {},
   "source": [
    "The Scanner interface in Python's `re` module is designed for iterative parsing of a string, and it provides more control over the matching process compared to `re.findall`. One key advantage is that the Scanner allows you to process the string incrementally, stopping at each match, rather than returning all matches at once like `re.findall`. This can be beneficial when dealing with large strings or when you need to perform additional actions or decisions based on each individual match before proceeding to the next one."
   ]
  },
  {
   "cell_type": "markdown",
   "id": "887db054",
   "metadata": {},
   "source": [
    "10. Does a scanner object have to be named scanner?"
   ]
  },
  {
   "cell_type": "markdown",
   "id": "40fb767c",
   "metadata": {},
   "source": [
    "No, a scanner object can have any valid variable name."
   ]
  },
  {
   "cell_type": "code",
   "execution_count": null,
   "id": "a39ebc59",
   "metadata": {},
   "outputs": [],
   "source": []
  }
 ],
 "metadata": {
  "kernelspec": {
   "display_name": "Python 3 (ipykernel)",
   "language": "python",
   "name": "python3"
  },
  "language_info": {
   "codemirror_mode": {
    "name": "ipython",
    "version": 3
   },
   "file_extension": ".py",
   "mimetype": "text/x-python",
   "name": "python",
   "nbconvert_exporter": "python",
   "pygments_lexer": "ipython3",
   "version": "3.10.9"
  }
 },
 "nbformat": 4,
 "nbformat_minor": 5
}
