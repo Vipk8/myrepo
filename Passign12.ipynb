{
 "cells": [
  {
   "cell_type": "code",
   "execution_count": 1,
   "id": "e258b389",
   "metadata": {},
   "outputs": [],
   "source": [
    "#1.Write a Python program to Extract Unique values dictionary values?"
   ]
  },
  {
   "cell_type": "code",
   "execution_count": 5,
   "id": "20ef7b34",
   "metadata": {},
   "outputs": [
    {
     "name": "stdout",
     "output_type": "stream",
     "text": [
      "{120, 450}\n"
     ]
    }
   ],
   "source": [
    "def unicd(d):\n",
    "    s = set()\n",
    "    for x in d.values():\n",
    "        s.add(x)\n",
    "    print(s)\n",
    "unicd({1:120,2:450,3:120,4:450})"
   ]
  },
  {
   "cell_type": "code",
   "execution_count": 2,
   "id": "fedaf00f",
   "metadata": {},
   "outputs": [],
   "source": [
    "#2.Write a Python program to find the sum of all items in a dictionary?"
   ]
  },
  {
   "cell_type": "code",
   "execution_count": 22,
   "id": "29f237d7",
   "metadata": {},
   "outputs": [
    {
     "data": {
      "text/plain": [
       "1140"
      ]
     },
     "execution_count": 22,
     "metadata": {},
     "output_type": "execute_result"
    }
   ],
   "source": [
    "def sum_item(d):\n",
    "    return sum(d.values())\n",
    "sum_item({1:120,2:450,3:120,4:450})"
   ]
  },
  {
   "cell_type": "code",
   "execution_count": 3,
   "id": "a9ca405e",
   "metadata": {},
   "outputs": [],
   "source": [
    "#3.Write a Python program to Merging two Dictionaries?"
   ]
  },
  {
   "cell_type": "code",
   "execution_count": 23,
   "id": "d5febb72",
   "metadata": {},
   "outputs": [
    {
     "name": "stdout",
     "output_type": "stream",
     "text": [
      "{1: 120, 4: 450, 2: 123, 5: 780}\n"
     ]
    }
   ],
   "source": [
    "d1 = {1:120,4:450}\n",
    "d2 = {2:123,5:780}\n",
    "merge_d = {**d1,**d2}\n",
    "print(merge_d)"
   ]
  },
  {
   "cell_type": "code",
   "execution_count": 4,
   "id": "aebb8185",
   "metadata": {},
   "outputs": [],
   "source": [
    "#4.Write a Python program to convert key-values list to flat dictionary?"
   ]
  },
  {
   "cell_type": "code",
   "execution_count": 34,
   "id": "38682e52",
   "metadata": {},
   "outputs": [
    {
     "name": "stdout",
     "output_type": "stream",
     "text": [
      "{1: 120, 5: 450, 'a': 130}\n"
     ]
    }
   ],
   "source": [
    "def list2dict(l):\n",
    "    d = dict(l)\n",
    "    print(d)\n",
    "list2dict([(1,120),(5,450),(\"a\",130)])"
   ]
  },
  {
   "cell_type": "code",
   "execution_count": 5,
   "id": "45c066ab",
   "metadata": {},
   "outputs": [],
   "source": [
    "#5.Write a Python program to insertion at the beginning in OrderedDict?"
   ]
  },
  {
   "cell_type": "code",
   "execution_count": 36,
   "id": "bd2d9a12",
   "metadata": {},
   "outputs": [
    {
     "name": "stdout",
     "output_type": "stream",
     "text": [
      "Original OrderedDict: OrderedDict([('a', 1), ('b', 2)])\n",
      "Updated OrderedDict: OrderedDict([('c', 3), ('a', 1), ('b', 2)])\n"
     ]
    }
   ],
   "source": [
    "from collections import OrderedDict\n",
    "\n",
    "def insert_at_beginning(d, key, value):\n",
    "    d.update({key: value})\n",
    "    d.move_to_end(key, last=False)\n",
    "\n",
    "d = OrderedDict([('a', 1), ('b', 2)])\n",
    "print(\"Original OrderedDict:\", d)\n",
    "\n",
    "insert_at_beginning(d, 'c', 3)\n",
    "print(\"Updated OrderedDict:\", d)"
   ]
  },
  {
   "cell_type": "code",
   "execution_count": 6,
   "id": "6c652109",
   "metadata": {},
   "outputs": [],
   "source": [
    "#6.Write a Python program to check order of character in string using OrderedDict()?"
   ]
  },
  {
   "cell_type": "code",
   "execution_count": 38,
   "id": "d7eb0b7e",
   "metadata": {},
   "outputs": [
    {
     "name": "stdout",
     "output_type": "stream",
     "text": [
      "True\n"
     ]
    }
   ],
   "source": [
    "from collections import OrderedDict\n",
    "\n",
    "def check_order(string, pattern):\n",
    "    d = OrderedDict.fromkeys(string)\n",
    "    ptrlen = 0\n",
    "    for key, value in d.items():\n",
    "        if key == pattern[ptrlen]:\n",
    "            ptrlen += 1\n",
    "        if ptrlen == len(pattern):\n",
    "            return True\n",
    "    return False\n",
    "\n",
    "string = 'engineers rock'\n",
    "pattern = 'egr'\n",
    "print(check_order(string, pattern))"
   ]
  },
  {
   "cell_type": "code",
   "execution_count": 7,
   "id": "3c6942b4",
   "metadata": {},
   "outputs": [],
   "source": [
    "#7.Write a Python program to sort Python Dictionaries by Key or Value?"
   ]
  },
  {
   "cell_type": "code",
   "execution_count": 37,
   "id": "61c9ab8e",
   "metadata": {},
   "outputs": [
    {
     "name": "stdout",
     "output_type": "stream",
     "text": [
      "Sorted by key: {'a': 1, 'b': 2, 'c': 3}\n",
      "Sorted by value: {'a': 1, 'b': 2, 'c': 3}\n"
     ]
    }
   ],
   "source": [
    "def sort_dict(d, by='key'):\n",
    "    if by == 'key':\n",
    "        return dict(sorted(d.items(), key=lambda x: x[0]))\n",
    "    elif by == 'value':\n",
    "        return dict(sorted(d.items(), key=lambda x: x[1]))\n",
    "\n",
    "my_dict = {'c': 3, 'a': 1, 'b': 2}\n",
    "\n",
    "result = sort_dict(my_dict, by='key')\n",
    "print(f\"Sorted by key: {result}\")\n",
    "\n",
    "result = sort_dict(my_dict, by='value')\n",
    "print(f\"Sorted by value: {result}\")"
   ]
  },
  {
   "cell_type": "code",
   "execution_count": null,
   "id": "eff5c03c",
   "metadata": {},
   "outputs": [],
   "source": []
  }
 ],
 "metadata": {
  "kernelspec": {
   "display_name": "Python 3 (ipykernel)",
   "language": "python",
   "name": "python3"
  },
  "language_info": {
   "codemirror_mode": {
    "name": "ipython",
    "version": 3
   },
   "file_extension": ".py",
   "mimetype": "text/x-python",
   "name": "python",
   "nbconvert_exporter": "python",
   "pygments_lexer": "ipython3",
   "version": "3.9.12"
  }
 },
 "nbformat": 4,
 "nbformat_minor": 5
}
