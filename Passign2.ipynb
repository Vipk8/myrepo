{
 "cells": [
  {
   "cell_type": "code",
   "execution_count": 1,
   "id": "c837aa93",
   "metadata": {},
   "outputs": [],
   "source": [
    "#1.Write a Python program to convert kilometers to miles?"
   ]
  },
  {
   "cell_type": "code",
   "execution_count": 2,
   "id": "096c1e53",
   "metadata": {},
   "outputs": [
    {
     "name": "stdout",
     "output_type": "stream",
     "text": [
      "The ouput in mile is: 6.2139999999999995\n"
     ]
    }
   ],
   "source": [
    "def kilo_mil(x):\n",
    "    print(\"The ouput in mile is:\",x*0.6214)\n",
    "\n",
    "kilo_mil(10)"
   ]
  },
  {
   "cell_type": "code",
   "execution_count": 3,
   "id": "806b3eeb",
   "metadata": {},
   "outputs": [],
   "source": [
    "#2.Write a Python program to convert Celsius to Fahrenheit?"
   ]
  },
  {
   "cell_type": "code",
   "execution_count": 14,
   "id": "82f38248",
   "metadata": {},
   "outputs": [
    {
     "data": {
      "text/plain": [
       "'the output in Fahrenhite is: x*9/5+32'"
      ]
     },
     "execution_count": 14,
     "metadata": {},
     "output_type": "execute_result"
    }
   ],
   "source": [
    "def cel_fah(x):\n",
    "    return f\"the output in Fahrenhite is: x*9/5+32\"\n",
    "\n",
    "cel_fah(1)"
   ]
  },
  {
   "cell_type": "code",
   "execution_count": 5,
   "id": "9af35e00",
   "metadata": {},
   "outputs": [],
   "source": [
    "#3.Write a Python program to display calendar?"
   ]
  },
  {
   "cell_type": "code",
   "execution_count": 36,
   "id": "3588b8c4",
   "metadata": {},
   "outputs": [
    {
     "name": "stdout",
     "output_type": "stream",
     "text": [
      "                                  2023\n",
      "\n",
      "      January                   February                   March\n",
      "Mo Tu We Th Fr Sa Su      Mo Tu We Th Fr Sa Su      Mo Tu We Th Fr Sa Su\n",
      "                   1             1  2  3  4  5             1  2  3  4  5\n",
      " 2  3  4  5  6  7  8       6  7  8  9 10 11 12       6  7  8  9 10 11 12\n",
      " 9 10 11 12 13 14 15      13 14 15 16 17 18 19      13 14 15 16 17 18 19\n",
      "16 17 18 19 20 21 22      20 21 22 23 24 25 26      20 21 22 23 24 25 26\n",
      "23 24 25 26 27 28 29      27 28                     27 28 29 30 31\n",
      "30 31\n",
      "\n",
      "       April                      May                       June\n",
      "Mo Tu We Th Fr Sa Su      Mo Tu We Th Fr Sa Su      Mo Tu We Th Fr Sa Su\n",
      "                1  2       1  2  3  4  5  6  7                1  2  3  4\n",
      " 3  4  5  6  7  8  9       8  9 10 11 12 13 14       5  6  7  8  9 10 11\n",
      "10 11 12 13 14 15 16      15 16 17 18 19 20 21      12 13 14 15 16 17 18\n",
      "17 18 19 20 21 22 23      22 23 24 25 26 27 28      19 20 21 22 23 24 25\n",
      "24 25 26 27 28 29 30      29 30 31                  26 27 28 29 30\n",
      "\n",
      "        July                     August                  September\n",
      "Mo Tu We Th Fr Sa Su      Mo Tu We Th Fr Sa Su      Mo Tu We Th Fr Sa Su\n",
      "                1  2          1  2  3  4  5  6                   1  2  3\n",
      " 3  4  5  6  7  8  9       7  8  9 10 11 12 13       4  5  6  7  8  9 10\n",
      "10 11 12 13 14 15 16      14 15 16 17 18 19 20      11 12 13 14 15 16 17\n",
      "17 18 19 20 21 22 23      21 22 23 24 25 26 27      18 19 20 21 22 23 24\n",
      "24 25 26 27 28 29 30      28 29 30 31               25 26 27 28 29 30\n",
      "31\n",
      "\n",
      "      October                   November                  December\n",
      "Mo Tu We Th Fr Sa Su      Mo Tu We Th Fr Sa Su      Mo Tu We Th Fr Sa Su\n",
      "                   1             1  2  3  4  5                   1  2  3\n",
      " 2  3  4  5  6  7  8       6  7  8  9 10 11 12       4  5  6  7  8  9 10\n",
      " 9 10 11 12 13 14 15      13 14 15 16 17 18 19      11 12 13 14 15 16 17\n",
      "16 17 18 19 20 21 22      20 21 22 23 24 25 26      18 19 20 21 22 23 24\n",
      "23 24 25 26 27 28 29      27 28 29 30               25 26 27 28 29 30 31\n",
      "30 31\n",
      "\n"
     ]
    }
   ],
   "source": [
    "import calendar\n",
    "def cal(month,year):\n",
    "    print(calendar.calendar(year,month))\n",
    "    \n",
    "cal(1,2023)"
   ]
  },
  {
   "cell_type": "code",
   "execution_count": 6,
   "id": "5881444a",
   "metadata": {},
   "outputs": [],
   "source": [
    "#4.Write a Python program to solve quadratic equation?"
   ]
  },
  {
   "cell_type": "code",
   "execution_count": 72,
   "id": "583e22b4",
   "metadata": {},
   "outputs": [
    {
     "name": "stdout",
     "output_type": "stream",
     "text": [
      "Complex Roots\n",
      "-0.5  + i 7.745966692414834\n",
      "-0.5  - i 7.745966692414834\n"
     ]
    }
   ],
   "source": [
    "import math\n",
    "def quadeq(a,b,c):\n",
    "    if a != 0:\n",
    "        D = b**2-4*a*c\n",
    "        sqrt_val = math.sqrt(abs(D))\n",
    "# checking condition for discriminant\n",
    "        if D > 0:   \n",
    "            print(\" real and different roots \")\n",
    "            print((-b + sqrt_val)/(2*a))\n",
    "            print((-b - sqrt_val)/(2*a))\n",
    "        elif D == 0:    \n",
    "            print(\" real and same roots\")\n",
    "            print(-b / (2*a))\n",
    "        else:\n",
    "            print(\"Complex Roots\")\n",
    "            print(- b / (2*a), \" + i\", sqrt_val)\n",
    "            print(- b / (2*a), \" - i\", sqrt_val)\n",
    "    else:\n",
    "        print(\"Again attempt with a not equal to 0.\")\n",
    "        \n",
    "quadeq(10,10,4)"
   ]
  },
  {
   "cell_type": "code",
   "execution_count": 7,
   "id": "e5afed84",
   "metadata": {},
   "outputs": [],
   "source": [
    "#5.Write a Python program to swap two variables without temp variable?"
   ]
  },
  {
   "cell_type": "code",
   "execution_count": 74,
   "id": "36add56b",
   "metadata": {},
   "outputs": [
    {
     "data": {
      "text/plain": [
       "(2, 1)"
      ]
     },
     "execution_count": 74,
     "metadata": {},
     "output_type": "execute_result"
    }
   ],
   "source": [
    "def swp(x,y):\n",
    "    return y,x\n",
    "swp(1,2)"
   ]
  }
 ],
 "metadata": {
  "kernelspec": {
   "display_name": "Python 3 (ipykernel)",
   "language": "python",
   "name": "python3"
  },
  "language_info": {
   "codemirror_mode": {
    "name": "ipython",
    "version": 3
   },
   "file_extension": ".py",
   "mimetype": "text/x-python",
   "name": "python",
   "nbconvert_exporter": "python",
   "pygments_lexer": "ipython3",
   "version": "3.9.12"
  }
 },
 "nbformat": 4,
 "nbformat_minor": 5
}
