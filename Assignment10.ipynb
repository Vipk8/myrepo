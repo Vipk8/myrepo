{
 "cells": [
  {
   "cell_type": "markdown",
   "id": "73ce85cc",
   "metadata": {},
   "source": [
    "1. What is the difference between __getattr__ and __getattribute__?"
   ]
  },
  {
   "cell_type": "markdown",
   "id": "22aa4fea",
   "metadata": {},
   "source": [
    "The main difference between `__getattr__` and `__getattribute__` in Python is their behavior when accessing attributes. `__getattr__` is called when an attribute is not found in the usual way, allowing you to dynamically provide the value. On the other hand, `__getattribute__` is called for every attribute access, whether the attribute exists or not, giving you more control but requiring caution to avoid infinite recursion."
   ]
  },
  {
   "cell_type": "markdown",
   "id": "4981e2f6",
   "metadata": {},
   "source": [
    "2. What is the difference between properties and descriptors?"
   ]
  },
  {
   "cell_type": "markdown",
   "id": "0cc9c871",
   "metadata": {},
   "source": [
    "Properties and descriptors both allow you to customize attribute access. The key difference is that properties are bound to a specific class attribute and are defined using the `@property` decorator, whereas descriptors are reusable and can be shared across multiple attributes. Descriptors are defined by creating a class with `__get__`, `__set__`, or `__delete__` methods, enabling more fine-grained control over attribute access and manipulation."
   ]
  },
  {
   "cell_type": "markdown",
   "id": "25f5ab28",
   "metadata": {},
   "source": [
    "3. What are the key differences in functionality between __getattr__ and __getattribute__, as well as properties and descriptors?"
   ]
  },
  {
   "cell_type": "markdown",
   "id": "ff4ac174",
   "metadata": {},
   "source": [
    "The key differences between `__getattr__` and `__getattribute__` are that `__getattr__` is called only when an attribute is not found, while `__getattribute__` is called for all attribute accesses. Properties use `@property` to customize attribute access for specific attributes, whereas descriptors, implemented through `__get__`, `__set__`, or `__delete__` methods, offer more control and can be shared across multiple attributes."
   ]
  },
  {
   "cell_type": "code",
   "execution_count": null,
   "id": "91dd47a3",
   "metadata": {},
   "outputs": [],
   "source": []
  }
 ],
 "metadata": {
  "kernelspec": {
   "display_name": "Python 3 (ipykernel)",
   "language": "python",
   "name": "python3"
  },
  "language_info": {
   "codemirror_mode": {
    "name": "ipython",
    "version": 3
   },
   "file_extension": ".py",
   "mimetype": "text/x-python",
   "name": "python",
   "nbconvert_exporter": "python",
   "pygments_lexer": "ipython3",
   "version": "3.10.9"
  }
 },
 "nbformat": 4,
 "nbformat_minor": 5
}
