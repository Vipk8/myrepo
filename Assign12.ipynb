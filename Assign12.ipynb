{
 "cells": [
  {
   "cell_type": "code",
   "execution_count": 2,
   "id": "a43e2227",
   "metadata": {},
   "outputs": [],
   "source": [
    "#1. In what modes should the PdfFileReader() and PdfFileWriter() File objects will be opened?"
   ]
  },
  {
   "cell_type": "code",
   "execution_count": 28,
   "id": "e4aec9d7",
   "metadata": {},
   "outputs": [],
   "source": [
    "#Ans-\n",
    "pdf_file = open('example.pdf', 'rb')\n",
    "pdf_reader = PyPDF2.PdfFileReader(pdf_file)\n",
    "\n",
    "pdf_file = open('example.pdf','wb')\n",
    "pdf_write = PyPDF2.PdfFilewriter()"
   ]
  },
  {
   "cell_type": "code",
   "execution_count": 5,
   "id": "37719ea4",
   "metadata": {},
   "outputs": [],
   "source": [
    "#2. From a PdfFileReader object, how do you get a Page object for page 5?"
   ]
  },
  {
   "cell_type": "code",
   "execution_count": 41,
   "id": "f9c16256",
   "metadata": {},
   "outputs": [],
   "source": [
    "#Ans-\n",
    "import PyPDF2\n",
    "\n",
    "with open('example.pdf', 'rb') as pdf_file:\n",
    "    pdf_reader = PyPDF2.PdfFileReader(pdf_file)\n",
    "    page_5 = pdf_reader.getPage(4)"
   ]
  },
  {
   "cell_type": "code",
   "execution_count": 7,
   "id": "5ba9a03f",
   "metadata": {},
   "outputs": [],
   "source": [
    "#3. What PdfFileReader variable stores the number of pages in the PDF document?"
   ]
  },
  {
   "cell_type": "code",
   "execution_count": 40,
   "id": "e3d6c64f",
   "metadata": {},
   "outputs": [],
   "source": [
    "#Ans-\n",
    "import PyPDF2\n",
    "\n",
    "with open('example.pdf', 'rb') as pdf_file:\n",
    "    pdf_reader = PyPDF2.PdfFileReader(pdf_file)\n",
    "    num_pages = pdf_reader.getNumPages()"
   ]
  },
  {
   "cell_type": "code",
   "execution_count": 9,
   "id": "929ed085",
   "metadata": {},
   "outputs": [],
   "source": [
    "#4. If a PdfFileReader object’s PDF is encrypted with the password swordfish, what must you do before you can obtain Page objects from it?"
   ]
  },
  {
   "cell_type": "code",
   "execution_count": 39,
   "id": "1334b91b",
   "metadata": {},
   "outputs": [],
   "source": [
    "#Ans-\n",
    "import PyPDF2\n",
    "\n",
    "with open('encrypted.pdf', 'rb') as pdf_file:\n",
    "    pdf_reader = PyPDF2.PdfFileReader(pdf_file)\n",
    "    pdf_reader.decrypt('swordfish')\n",
    "    num_pages = pdf_reader.getNumPages()\n",
    "    page_1 = pdf_reader.getPage(0)"
   ]
  },
  {
   "cell_type": "code",
   "execution_count": 5,
   "id": "4ddba263",
   "metadata": {},
   "outputs": [],
   "source": [
    "#5. What methods do you use to rotate a page?"
   ]
  },
  {
   "cell_type": "code",
   "execution_count": 38,
   "id": "6993a145",
   "metadata": {},
   "outputs": [],
   "source": [
    "#Ans-\n",
    "import PyPDF2\n",
    "\n",
    "with open('example.pdf', 'rb') as pdf_file:\n",
    "    pdf_reader = PyPDF2.PdfFileReader(pdf_file)\n",
    "    page_1 = pdf_reader.getPage(0)\n",
    "    page_1.rotateClockwise(90)"
   ]
  },
  {
   "cell_type": "code",
   "execution_count": 6,
   "id": "2759ffc4",
   "metadata": {},
   "outputs": [],
   "source": [
    "#6. What is the difference between a Run object and a Paragraph object?"
   ]
  },
  {
   "cell_type": "markdown",
   "id": "de0cab80",
   "metadata": {},
   "source": [
    "Ans-\n",
    "a Paragraph object represents a single paragraph of text in a Word document, while a Run object represents a contiguous run of characters within a paragraph that all share the same formatting.\n"
   ]
  },
  {
   "cell_type": "code",
   "execution_count": 7,
   "id": "77e2ee21",
   "metadata": {},
   "outputs": [],
   "source": [
    "#7. How do you obtain a list of Paragraph objects for a Document object that’s stored in a variable named doc?"
   ]
  },
  {
   "cell_type": "markdown",
   "id": "9c4d1459",
   "metadata": {},
   "source": [
    "Ans-\n",
    "To obtain a list of Paragraph objects for a Document object that's stored in a variable named doc, we can use the paragraphs attribute of the Document object. "
   ]
  },
  {
   "cell_type": "code",
   "execution_count": 8,
   "id": "e793881c",
   "metadata": {},
   "outputs": [],
   "source": [
    "#8. What type of object has bold, underline, italic, strike, and outline variables?"
   ]
  },
  {
   "cell_type": "markdown",
   "id": "852ae9ae",
   "metadata": {},
   "source": [
    "Ans- \n",
    "In Python's python-docx library, the Run object has the bold, underline, italic, strike, and outline variables."
   ]
  },
  {
   "cell_type": "code",
   "execution_count": 9,
   "id": "f6013532",
   "metadata": {},
   "outputs": [],
   "source": [
    "#9. What is the difference between False, True, and None for the bold variable?"
   ]
  },
  {
   "cell_type": "markdown",
   "id": "994344f3",
   "metadata": {},
   "source": [
    "Ans-\n",
    "If bold is True, the text in the Run object will be displayed in bold.\n",
    "If bold is False, the text in the Run object will not be displayed in bold.\n",
    "If bold is None, the text in the Run object will inherit the bold setting from its style. If the style has bold turned on, the text will be displayed in bold; if the style has bold turned off, the text will not be displayed in bold."
   ]
  },
  {
   "cell_type": "code",
   "execution_count": 10,
   "id": "0532005a",
   "metadata": {},
   "outputs": [],
   "source": [
    "#10. How do you create a Document object for a new Word document?"
   ]
  },
  {
   "cell_type": "code",
   "execution_count": 35,
   "id": "4c21e2b7",
   "metadata": {},
   "outputs": [],
   "source": [
    "#Ans-\n",
    "import docx\n",
    "\n",
    "doc = docx.Document()"
   ]
  },
  {
   "cell_type": "code",
   "execution_count": 11,
   "id": "8279e2b4",
   "metadata": {},
   "outputs": [],
   "source": [
    "#11. How do you add a paragraph with the text 'Hello, there!' to a Document object stored in a variable named doc?"
   ]
  },
  {
   "cell_type": "code",
   "execution_count": 36,
   "id": "5ed4eb8c",
   "metadata": {},
   "outputs": [],
   "source": [
    "#Ans-\n",
    "import docx\n",
    "\n",
    "doc = docx.Document()\n",
    "paragraph = doc.add_paragraph('Hello, there!')"
   ]
  },
  {
   "cell_type": "code",
   "execution_count": 18,
   "id": "4664520c",
   "metadata": {},
   "outputs": [],
   "source": [
    "#12. What integers represent the levels of headings available in Word documents?"
   ]
  },
  {
   "cell_type": "code",
   "execution_count": 37,
   "id": "bf9cb640",
   "metadata": {},
   "outputs": [],
   "source": [
    "#Ans-\n",
    "import docx\n",
    "\n",
    "doc = docx.Document()\n",
    "paragraph = doc.add_paragraph('This is a heading', style='Heading 2')"
   ]
  }
 ],
 "metadata": {
  "kernelspec": {
   "display_name": "Python 3 (ipykernel)",
   "language": "python",
   "name": "python3"
  },
  "language_info": {
   "codemirror_mode": {
    "name": "ipython",
    "version": 3
   },
   "file_extension": ".py",
   "mimetype": "text/x-python",
   "name": "python",
   "nbconvert_exporter": "python",
   "pygments_lexer": "ipython3",
   "version": "3.9.12"
  }
 },
 "nbformat": 4,
 "nbformat_minor": 5
}
