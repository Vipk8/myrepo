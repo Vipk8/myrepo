{
 "cells": [
  {
   "cell_type": "code",
   "execution_count": 1,
   "id": "4c6f9bf6",
   "metadata": {},
   "outputs": [],
   "source": [
    "#1.Write a Python program to find sum of elements in list?"
   ]
  },
  {
   "cell_type": "code",
   "execution_count": 2,
   "id": "d444fdb1",
   "metadata": {},
   "outputs": [
    {
     "name": "stdout",
     "output_type": "stream",
     "text": [
      "Enter your list element : 12345\n",
      "The sum of all element of given list is :  15\n"
     ]
    }
   ],
   "source": [
    "def sum_ele():\n",
    "    x = input(\"Enter your list element : \",   )\n",
    "    l = []\n",
    "    for i in x:\n",
    "        l.append(int(i))\n",
    "        m = sum(l)\n",
    "    print(\"The sum of all element of given list is : \",m)\n",
    "    \n",
    "sum_ele()"
   ]
  },
  {
   "cell_type": "code",
   "execution_count": 3,
   "id": "0f466f17",
   "metadata": {},
   "outputs": [],
   "source": [
    "#2.Write a Python program to  Multiply all numbers in the list?"
   ]
  },
  {
   "cell_type": "code",
   "execution_count": 4,
   "id": "07bf2b88",
   "metadata": {},
   "outputs": [
    {
     "name": "stdout",
     "output_type": "stream",
     "text": [
      "enter your list element : 12345\n",
      "120\n"
     ]
    }
   ],
   "source": [
    "def product_list(l):\n",
    "    x = input(\"enter your list element : \",  )\n",
    "    l = []\n",
    "    m = 1\n",
    "    for i in x:\n",
    "        l.append(int(i))\n",
    "    for j in l:\n",
    "        m = m * j\n",
    "    print(m)\n",
    "l = [1,2,3,4,5,6]\n",
    "product_list(l)"
   ]
  },
  {
   "cell_type": "code",
   "execution_count": 5,
   "id": "80cdf005",
   "metadata": {},
   "outputs": [],
   "source": [
    "#3.Write a Python program to find smallest number in a list?"
   ]
  },
  {
   "cell_type": "code",
   "execution_count": 6,
   "id": "4446d993",
   "metadata": {},
   "outputs": [
    {
     "name": "stdout",
     "output_type": "stream",
     "text": [
      "1\n"
     ]
    }
   ],
   "source": [
    "def min_ele(l):\n",
    "    if type(l)==list:\n",
    "        print(min(l))\n",
    "    \n",
    "l = [1,2,3,4]\n",
    "min_ele(l)"
   ]
  },
  {
   "cell_type": "code",
   "execution_count": 7,
   "id": "1d16690d",
   "metadata": {},
   "outputs": [],
   "source": [
    "#4.Write a Python program to find largest number in a list?"
   ]
  },
  {
   "cell_type": "code",
   "execution_count": 8,
   "id": "37c0773c",
   "metadata": {},
   "outputs": [
    {
     "name": "stdout",
     "output_type": "stream",
     "text": [
      "The greatest num of the list is :  29\n"
     ]
    }
   ],
   "source": [
    "l = [1,4,7,8,5,29]\n",
    "max_ele = max(l)\n",
    "print(\"The greatest num of the list is : \", max_ele)"
   ]
  },
  {
   "cell_type": "code",
   "execution_count": 9,
   "id": "160fea9d",
   "metadata": {},
   "outputs": [],
   "source": [
    "#5.Write a Python program to find second largest number in a list?"
   ]
  },
  {
   "cell_type": "code",
   "execution_count": 10,
   "id": "e60d9bc6",
   "metadata": {},
   "outputs": [
    {
     "name": "stdout",
     "output_type": "stream",
     "text": [
      "The second largest number in the list is :  3\n"
     ]
    }
   ],
   "source": [
    "l = [1,2,3,5]\n",
    "m = sorted(l)\n",
    "print(\"The second largest number in the list is : \",m[-2])"
   ]
  },
  {
   "cell_type": "code",
   "execution_count": 11,
   "id": "46151845",
   "metadata": {},
   "outputs": [],
   "source": [
    "#6.Write a Python program to find N largest elements from a list?"
   ]
  },
  {
   "cell_type": "code",
   "execution_count": 12,
   "id": "b6397165",
   "metadata": {},
   "outputs": [
    {
     "name": "stdout",
     "output_type": "stream",
     "text": [
      "2\n",
      "The N largest number is  :  [9, 22]\n"
     ]
    }
   ],
   "source": [
    "l = [1,5,9,8,7,4,22]\n",
    "m = sorted(l)\n",
    "N = int(input())\n",
    "print(\"The N largest number is  : \",m[-N:])"
   ]
  },
  {
   "cell_type": "code",
   "execution_count": 13,
   "id": "211837f8",
   "metadata": {},
   "outputs": [],
   "source": [
    "#7.Write a Python program to print even numbers in a list?"
   ]
  },
  {
   "cell_type": "code",
   "execution_count": 14,
   "id": "af600080",
   "metadata": {},
   "outputs": [
    {
     "name": "stdout",
     "output_type": "stream",
     "text": [
      "Enter element of the list : 12345\n",
      "The even number is :  2\n",
      "The even number is :  4\n"
     ]
    }
   ],
   "source": [
    "def odd_even():\n",
    "    x = input(\"Enter element of the list : \", )\n",
    "    l = list(x)\n",
    "    for i in l:\n",
    "        if int(i)%2==0:\n",
    "            print(\"The even number is : \", i)\n",
    "odd_even()"
   ]
  },
  {
   "cell_type": "code",
   "execution_count": 15,
   "id": "43d4616e",
   "metadata": {},
   "outputs": [],
   "source": [
    "#8.Write a Python program to print odd numbers in a List?"
   ]
  },
  {
   "cell_type": "code",
   "execution_count": 16,
   "id": "1e255983",
   "metadata": {},
   "outputs": [
    {
     "name": "stdout",
     "output_type": "stream",
     "text": [
      "Enter element of the list : 123456\n",
      "The odd number is :  1\n",
      "The odd number is :  3\n",
      "The odd number is :  5\n"
     ]
    }
   ],
   "source": [
    "def odd_even():\n",
    "    x = input(\"Enter element of the list : \", )\n",
    "    l = list(x)\n",
    "    for i in l:\n",
    "        if int(i)%2!=0:\n",
    "            print(\"The odd number is : \", i)\n",
    "odd_even()"
   ]
  },
  {
   "cell_type": "code",
   "execution_count": 17,
   "id": "1e47d0f2",
   "metadata": {},
   "outputs": [],
   "source": [
    "#9.Write a Python program to Remove empty List from List?"
   ]
  },
  {
   "cell_type": "code",
   "execution_count": 18,
   "id": "9f6f0622",
   "metadata": {},
   "outputs": [
    {
     "data": {
      "text/plain": [
       "[1, 2, 3, 45, 5, 45, 55, 65, 75]"
      ]
     },
     "execution_count": 18,
     "metadata": {},
     "output_type": "execute_result"
    }
   ],
   "source": [
    "l = [1,2,3,[],45,5,[],[],[],45,55,[],65,[],75,[]]\n",
    "m = list(filter(lambda a: a!=[],l))\n",
    "m"
   ]
  },
  {
   "cell_type": "code",
   "execution_count": 19,
   "id": "9cc6afd3",
   "metadata": {},
   "outputs": [],
   "source": [
    "#10.Write a Python program to Cloning or Copying a list?"
   ]
  },
  {
   "cell_type": "code",
   "execution_count": 20,
   "id": "dd983e93",
   "metadata": {},
   "outputs": [
    {
     "name": "stdout",
     "output_type": "stream",
     "text": [
      "Original list: [1, 2, 3, 4, 5]\n",
      "Copied list: [1, 2, 3, 4, 5]\n"
     ]
    }
   ],
   "source": [
    "my_list = [1, 2, 3, 4, 5]\n",
    "new_list = my_list.copy()\n",
    "print(f\"Original list: {my_list}\")\n",
    "print(f\"Copied list: {new_list}\")"
   ]
  },
  {
   "cell_type": "code",
   "execution_count": 21,
   "id": "35380e31",
   "metadata": {},
   "outputs": [],
   "source": [
    "#11.Write a Python program to Count occurrences of an element in a list?"
   ]
  },
  {
   "cell_type": "code",
   "execution_count": 22,
   "id": "15f496ab",
   "metadata": {},
   "outputs": [
    {
     "name": "stdout",
     "output_type": "stream",
     "text": [
      "enter the element : 1\n",
      "The occurrences of 1 in this list is :  3\n"
     ]
    }
   ],
   "source": [
    "l = [1,1,1,2,3,4,4,5,6,7,7,8,9,10]\n",
    "n = int(input(\"enter the element : \", ))\n",
    "print(f\"The occurrences of {n} in this list is : \", l.count(n))"
   ]
  }
 ],
 "metadata": {
  "kernelspec": {
   "display_name": "Python 3 (ipykernel)",
   "language": "python",
   "name": "python3"
  },
  "language_info": {
   "codemirror_mode": {
    "name": "ipython",
    "version": 3
   },
   "file_extension": ".py",
   "mimetype": "text/x-python",
   "name": "python",
   "nbconvert_exporter": "python",
   "pygments_lexer": "ipython3",
   "version": "3.9.12"
  }
 },
 "nbformat": 4,
 "nbformat_minor": 5
}
