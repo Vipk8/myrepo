{
 "cells": [
  {
   "cell_type": "code",
   "execution_count": 1,
   "id": "b2070067",
   "metadata": {},
   "outputs": [],
   "source": [
    "#1. What is the relationship between def statements and lambda expressions ?"
   ]
  },
  {
   "cell_type": "markdown",
   "id": "b4391fb8",
   "metadata": {},
   "source": [
    "Ans:- Both are function but Lambda is uni expression function or a single line function where def hold multiple expression."
   ]
  },
  {
   "cell_type": "code",
   "execution_count": 2,
   "id": "5d91da5e",
   "metadata": {},
   "outputs": [],
   "source": [
    "#2. What is the benefit of lambda?"
   ]
  },
  {
   "cell_type": "markdown",
   "id": "d3ce603d",
   "metadata": {},
   "source": [
    "Ans:-lambda return the result in a single line of code & it's a nameless function."
   ]
  },
  {
   "cell_type": "code",
   "execution_count": 4,
   "id": "2c0a27d9",
   "metadata": {},
   "outputs": [],
   "source": [
    "#3. Compare and contrast map, filter, and reduce?"
   ]
  },
  {
   "cell_type": "markdown",
   "id": "0f8ea172",
   "metadata": {},
   "source": [
    "Ans:- map() transforms each element of an iterable, filter() selects elements from an iterable based on a condition, and reduce() aggregates elements of an iterable to a single value."
   ]
  },
  {
   "cell_type": "code",
   "execution_count": 6,
   "id": "1edce463",
   "metadata": {},
   "outputs": [],
   "source": [
    "#4. What are function annotations, and how are they used?"
   ]
  },
  {
   "cell_type": "markdown",
   "id": "446b60e6",
   "metadata": {},
   "source": [
    "Ans:- Function annotations are a feature in Python that allow you to attach arbitrary metadata to the parameters and return value of a function. "
   ]
  },
  {
   "cell_type": "code",
   "execution_count": 8,
   "id": "6f5758a4",
   "metadata": {},
   "outputs": [],
   "source": [
    "#5. What are recursive functions, and how are they used?"
   ]
  },
  {
   "cell_type": "markdown",
   "id": "c2fe058c",
   "metadata": {},
   "source": [
    "Ans:- Recursive functions are functions that call themselves within their own body. They are used to solve problems that can be broken down into smaller, similar problems, and are particularly useful for tasks such as traversing tree structures or searching through nested data."
   ]
  },
  {
   "cell_type": "code",
   "execution_count": 10,
   "id": "d64c8b52",
   "metadata": {},
   "outputs": [],
   "source": [
    "#6. What are some general design guidelines for coding functions?"
   ]
  },
  {
   "cell_type": "markdown",
   "id": "21f7f4a8",
   "metadata": {},
   "source": [
    "Ans:- Functions should be small and do one thing well.\n",
    "Functions should have descriptive names that reflect their purpose.\n",
    "Functions should have a clear and consistent interface (i.e., the inputs and outputs should be well-defined).\n",
    "Functions should have clear and concise documentation, including what they do, what their inputs are, what their outputs are, and any other relevant information.\n",
    "Functions should be modular and reusable, meaning they can be called from other parts of the program."
   ]
  },
  {
   "cell_type": "code",
   "execution_count": 3,
   "id": "0b36683e",
   "metadata": {},
   "outputs": [],
   "source": [
    "#7. Name three or more ways that functions can communicate results to a caller."
   ]
  },
  {
   "cell_type": "markdown",
   "id": "a9f02be0",
   "metadata": {},
   "source": [
    "Ans:- Return statements: A function can use the return keyword to return a value to the caller.\n",
    "Global variables: Functions can modify global variables to communicate results to the caller.\n",
    "Print statements: A function can use print statements to output results to the console."
   ]
  }
 ],
 "metadata": {
  "kernelspec": {
   "display_name": "Python 3 (ipykernel)",
   "language": "python",
   "name": "python3"
  },
  "language_info": {
   "codemirror_mode": {
    "name": "ipython",
    "version": 3
   },
   "file_extension": ".py",
   "mimetype": "text/x-python",
   "name": "python",
   "nbconvert_exporter": "python",
   "pygments_lexer": "ipython3",
   "version": "3.9.12"
  }
 },
 "nbformat": 4,
 "nbformat_minor": 5
}
