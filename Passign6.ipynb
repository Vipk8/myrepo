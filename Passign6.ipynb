{
 "cells": [
  {
   "cell_type": "code",
   "execution_count": 1,
   "id": "4938bd19",
   "metadata": {},
   "outputs": [],
   "source": [
    "#1.Write a Python Program to Display Fibonacci Sequence Using Recursion?"
   ]
  },
  {
   "cell_type": "code",
   "execution_count": 5,
   "id": "52ed2aac",
   "metadata": {},
   "outputs": [
    {
     "name": "stdout",
     "output_type": "stream",
     "text": [
      "Enter the number of terms: 12\n",
      "Fibonacci sequence:\n",
      "0\n",
      "1\n",
      "1\n",
      "2\n",
      "3\n",
      "5\n",
      "8\n",
      "13\n",
      "21\n",
      "34\n",
      "55\n",
      "89\n"
     ]
    }
   ],
   "source": [
    "def fibonacci(n):\n",
    "    if n <= 0:\n",
    "        print(\"Incorrect input\")\n",
    "    elif n == 1:\n",
    "        return 0\n",
    "    elif n == 2:\n",
    "        return 1\n",
    "    else:\n",
    "        return fibonacci(n-1) + fibonacci(n-2)\n",
    "\n",
    "n = int(input(\"Enter the number of terms: \"))\n",
    "print(\"Fibonacci sequence:\")\n",
    "for i in range(1, n+1):\n",
    "    print(fibonacci(i))"
   ]
  },
  {
   "cell_type": "code",
   "execution_count": 2,
   "id": "dba98562",
   "metadata": {},
   "outputs": [],
   "source": [
    "#2.Write a Python Program to Find Factorial of Number Using Recursion?"
   ]
  },
  {
   "cell_type": "code",
   "execution_count": 10,
   "id": "2986ba79",
   "metadata": {},
   "outputs": [
    {
     "name": "stdout",
     "output_type": "stream",
     "text": [
      "Enter a number: 5\n",
      "Factorial of 5 is 120\n"
     ]
    }
   ],
   "source": [
    "def factorial(n):\n",
    "    if n == 0:\n",
    "        return 1\n",
    "    else:\n",
    "        return n * factorial(n-1)\n",
    "\n",
    "n = int(input(\"Enter a number: \"))\n",
    "print(\"Factorial of\", n, \"is\", factorial(n))"
   ]
  },
  {
   "cell_type": "code",
   "execution_count": 3,
   "id": "efc05f81",
   "metadata": {},
   "outputs": [],
   "source": [
    "#3.Write a Python Program to calculate your Body Mass Index?"
   ]
  },
  {
   "cell_type": "code",
   "execution_count": 11,
   "id": "1527e3e5",
   "metadata": {},
   "outputs": [
    {
     "name": "stdout",
     "output_type": "stream",
     "text": [
      "Enter your height in meters: 5\n",
      "Enter your weight in kilograms: 73\n",
      "Your BMI is: 2.92\n"
     ]
    }
   ],
   "source": [
    "def bmi():\n",
    "    height = float(input(\"Enter your height in meters: \"))\n",
    "    weight = float(input(\"Enter your weight in kilograms: \"))\n",
    "    bmi = weight / (height ** 2)\n",
    "    print(\"Your BMI is:\", bmi)\n",
    "bmi()"
   ]
  },
  {
   "cell_type": "code",
   "execution_count": 4,
   "id": "d0735996",
   "metadata": {},
   "outputs": [],
   "source": [
    "#4.Write a Python Program to calculate the natural logarithm of any number?"
   ]
  },
  {
   "cell_type": "code",
   "execution_count": 12,
   "id": "ed9845c3",
   "metadata": {},
   "outputs": [
    {
     "name": "stdout",
     "output_type": "stream",
     "text": [
      "Enter a number: 12\n",
      "Natural logarithm of 12.0 is 2.4849066497880004\n"
     ]
    }
   ],
   "source": [
    "import math\n",
    "\n",
    "num = float(input(\"Enter a number: \"))\n",
    "\n",
    "result = math.log(num)\n",
    "\n",
    "print(\"Natural logarithm of\", num, \"is\", result)"
   ]
  },
  {
   "cell_type": "code",
   "execution_count": 5,
   "id": "4491830c",
   "metadata": {},
   "outputs": [],
   "source": [
    "#5.Write a Python Program for cube sum of first n natural numbers?"
   ]
  },
  {
   "cell_type": "code",
   "execution_count": 4,
   "id": "9f0a065f",
   "metadata": {},
   "outputs": [
    {
     "data": {
      "text/plain": [
       "225"
      ]
     },
     "execution_count": 4,
     "metadata": {},
     "output_type": "execute_result"
    }
   ],
   "source": [
    "def cubesum(x):\n",
    "    a = 0\n",
    "    if x!=0:\n",
    "        for i in range(1,x+1):\n",
    "            a += i**3\n",
    "        return a\n",
    "cubesum(5)"
   ]
  }
 ],
 "metadata": {
  "kernelspec": {
   "display_name": "Python 3 (ipykernel)",
   "language": "python",
   "name": "python3"
  },
  "language_info": {
   "codemirror_mode": {
    "name": "ipython",
    "version": 3
   },
   "file_extension": ".py",
   "mimetype": "text/x-python",
   "name": "python",
   "nbconvert_exporter": "python",
   "pygments_lexer": "ipython3",
   "version": "3.9.12"
  }
 },
 "nbformat": 4,
 "nbformat_minor": 5
}
