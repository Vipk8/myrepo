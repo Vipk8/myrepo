{
 "cells": [
  {
   "cell_type": "markdown",
   "id": "e738a293",
   "metadata": {},
   "source": [
    "1. What is the concept of an abstract superclass?"
   ]
  },
  {
   "cell_type": "markdown",
   "id": "b0d35615",
   "metadata": {},
   "source": [
    "An abstract superclass is a class that cannot be instantiated and serves as a blueprint for its subclasses. It defines common attributes and behaviors that subclasses can inherit and override."
   ]
  },
  {
   "cell_type": "markdown",
   "id": "a5e40cc9",
   "metadata": {},
   "source": [
    "2. What happens when a class statement's top level contains a basic assignment statement?"
   ]
  },
  {
   "cell_type": "markdown",
   "id": "b394c650",
   "metadata": {},
   "source": [
    "When a class statement's top level contains a basic assignment statement, it creates a class variable. This variable is shared among all instances of the class and can be accessed and modified by both the class itself and its instances."
   ]
  },
  {
   "cell_type": "markdown",
   "id": "aa7f172c",
   "metadata": {},
   "source": [
    "3. Why does a class need to manually call a superclass's __init__ method?"
   ]
  },
  {
   "cell_type": "markdown",
   "id": "276a92dc",
   "metadata": {},
   "source": [
    "A class needs to manually call a superclass's `__init__` method to ensure that the superclass's initialization code is executed. By calling the superclass's `__init__` method explicitly, the subclass can inherit and initialize any attributes or behaviors defined in the superclass, establishing a proper inheritance hierarchy."
   ]
  },
  {
   "cell_type": "markdown",
   "id": "1fd12973",
   "metadata": {},
   "source": [
    "4. How can you augment, instead of completely replacing, an inherited method?"
   ]
  },
  {
   "cell_type": "markdown",
   "id": "f844932a",
   "metadata": {},
   "source": [
    "To augment an inherited method without completely replacing it, you can use method overriding. In the subclass, define a method with the same name as the superclass's method. Inside the subclass method, you can call the superclass's method using the `super()` function and then add any additional functionality before or after the superclass method call. This way, you can extend or modify the behavior of the inherited method while still retaining its original implementation."
   ]
  },
  {
   "cell_type": "markdown",
   "id": "1cf5f1c5",
   "metadata": {},
   "source": [
    "5. How is the local scope of a class different from that of a function?"
   ]
  },
  {
   "cell_type": "markdown",
   "id": "5f292389",
   "metadata": {},
   "source": [
    "The local scope of a class and a function differs in terms of accessibility and lifespan. In a class, variables defined within methods are accessible throughout the class, allowing them to be accessed by other methods within the class. Additionally, class variables have a longer lifespan, persisting as long as the class exists. On the other hand, in a function, variables defined within the function are only accessible within that specific function and have a shorter lifespan, existing only for the duration of the function's execution."
   ]
  },
  {
   "cell_type": "code",
   "execution_count": null,
   "id": "adaab670",
   "metadata": {},
   "outputs": [],
   "source": []
  }
 ],
 "metadata": {
  "kernelspec": {
   "display_name": "Python 3 (ipykernel)",
   "language": "python",
   "name": "python3"
  },
  "language_info": {
   "codemirror_mode": {
    "name": "ipython",
    "version": 3
   },
   "file_extension": ".py",
   "mimetype": "text/x-python",
   "name": "python",
   "nbconvert_exporter": "python",
   "pygments_lexer": "ipython3",
   "version": "3.10.9"
  }
 },
 "nbformat": 4,
 "nbformat_minor": 5
}
