{
 "cells": [
  {
   "cell_type": "code",
   "execution_count": null,
   "id": "80a826a8",
   "metadata": {},
   "outputs": [],
   "source": [
    "1. Can you create a programme or function that employs both positive and negative indexing? Is there any repercussion if you do so?"
   ]
  },
  {
   "cell_type": "code",
   "execution_count": null,
   "id": "4a7f6e81",
   "metadata": {},
   "outputs": [],
   "source": [
    "Yes, you can create a Python function using both positive and negative indexing to access elements in a sequence like a list or string. Positive indexing starts from 0 (e.g., sequence[0]), while negative indexing starts from -1 (e.g., sequence[-1]). The repercussion of using both is that it may lead to confusion and make the code less readable, so it's essential to use them judiciously and clearly document their purpose."
   ]
  },
  {
   "cell_type": "code",
   "execution_count": null,
   "id": "c53375a2",
   "metadata": {},
   "outputs": [],
   "source": [
    "2. What is the most effective way of starting with 1,000 elements in a Python list? Assume that all elements should be set to the same value."
   ]
  },
  {
   "cell_type": "code",
   "execution_count": null,
   "id": "f7fbdf0a",
   "metadata": {},
   "outputs": [],
   "source": [
    "The most effective way to create a Python list with 1,000 elements set to the same value is to use list comprehension"
   ]
  },
  {
   "cell_type": "code",
   "execution_count": null,
   "id": "1a9e91ed",
   "metadata": {},
   "outputs": [],
   "source": [
    "3. How do you slice a list to get any other part while missing the rest? (For example, suppose you want to make a new list with the elements first, third, fifth, seventh, and so on.)"
   ]
  },
  {
   "cell_type": "code",
   "execution_count": null,
   "id": "8d6d9502",
   "metadata": {},
   "outputs": [],
   "source": [
    "We can achieve this by using slice notation with a step value. To create a new list with elements at odd indices (first, third, fifth, etc.).\n",
    "original_list = [1, 2, 3, 4, 5, 6, 7, 8, 9, 10]\n",
    "new_list = original_list[::2]"
   ]
  },
  {
   "cell_type": "code",
   "execution_count": null,
   "id": "a5812af3",
   "metadata": {},
   "outputs": [],
   "source": [
    "4. Explain the distinctions between indexing and slicing."
   ]
  },
  {
   "cell_type": "code",
   "execution_count": null,
   "id": "752d0745",
   "metadata": {},
   "outputs": [],
   "source": [
    "Indexing in Python refers to accessing a single element in a sequence, such as a list or string, using its position (e.g., my_list[0] or my_string[3]). Slicing, on the other hand, allows you to extract a portion of the sequence by specifying a start, stop, and optional step (e.g., my_list[1:4] or my_string[::2])."
   ]
  },
  {
   "cell_type": "code",
   "execution_count": null,
   "id": "50760061",
   "metadata": {},
   "outputs": [],
   "source": [
    "5. What happens if one of the slicing expression's indexes is out of range?"
   ]
  },
  {
   "cell_type": "code",
   "execution_count": null,
   "id": "f61f8482",
   "metadata": {},
   "outputs": [],
   "source": [
    "If one of the slicing expression's indexes is out of range, Python will not raise an error. Instead, it will automatically adjust the index to the nearest valid value. For example, if the start index is larger than the sequence's length, the slice will start from the beginning. If the stop index is larger than the sequence's length, the slice will end at the last element. This behavior helps prevent index errors and makes slicing more robust."
   ]
  },
  {
   "cell_type": "code",
   "execution_count": null,
   "id": "5cc43ed3",
   "metadata": {},
   "outputs": [],
   "source": [
    "6. If you pass a list to a function, and if you want the function to be able to change the values of the list—so that the list is different after the function returns—what action should you avoid?"
   ]
  },
  {
   "cell_type": "code",
   "execution_count": null,
   "id": "62c9e890",
   "metadata": {},
   "outputs": [],
   "source": [
    "To allow a function to modify the original list, avoid reassigning the list variable within the function using the assignment operator (=). This would create a new local reference, and changes won't affect the original list. Instead, directly modify the list using its methods or modify its elements in place."
   ]
  },
  {
   "cell_type": "code",
   "execution_count": null,
   "id": "ce0cb903",
   "metadata": {},
   "outputs": [],
   "source": [
    "7. What is the concept of an unbalanced matrix?"
   ]
  },
  {
   "cell_type": "code",
   "execution_count": null,
   "id": "9b9b5d8b",
   "metadata": {},
   "outputs": [],
   "source": [
    "An unbalanced matrix, often referred to as an unbalanced panel or unbalanced panel data, is a type of data structure used in statistics and econometrics. It represents data in a tabular format, where rows correspond to different entities or units (e.g., individuals, companies), and columns represent time periods or observations. Unlike a balanced matrix, where each entity has the same number of observations, an unbalanced matrix has varying observation counts for each entity. This occurs when some entities have missing data or data at irregular time intervals, making the data unevenly distributed across the matrix, which can present challenges in data analysis and modeling."
   ]
  },
  {
   "cell_type": "code",
   "execution_count": null,
   "id": "74dab6b8",
   "metadata": {},
   "outputs": [],
   "source": [
    "8. Why is it necessary to use either list comprehension or a loop to create arbitrarily large matrices?"
   ]
  },
  {
   "cell_type": "code",
   "execution_count": null,
   "id": "45558d2a",
   "metadata": {},
   "outputs": [],
   "source": [
    "When creating arbitrarily large matrices, using either list comprehension or a loop is necessary because it allows for efficient memory allocation and element population. These methods generate elements on-the-fly, which avoids the need to store the entire matrix in memory at once. Without these techniques, attempting to create a large matrix using direct assignment or multiplication may lead to memory overflow and performance issues. List comprehension and loops enable the matrix to be constructed incrementally, accommodating any size matrix without overwhelming the system's memory resources."
   ]
  },
  {
   "cell_type": "code",
   "execution_count": null,
   "id": "25235b58",
   "metadata": {},
   "outputs": [],
   "source": []
  }
 ],
 "metadata": {
  "kernelspec": {
   "display_name": "Python 3 (ipykernel)",
   "language": "python",
   "name": "python3"
  },
  "language_info": {
   "codemirror_mode": {
    "name": "ipython",
    "version": 3
   },
   "file_extension": ".py",
   "mimetype": "text/x-python",
   "name": "python",
   "nbconvert_exporter": "python",
   "pygments_lexer": "ipython3",
   "version": "3.10.9"
  }
 },
 "nbformat": 4,
 "nbformat_minor": 5
}
