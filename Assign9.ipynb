{
 "cells": [
  {
   "cell_type": "code",
   "execution_count": 1,
   "id": "68c7fa4b",
   "metadata": {},
   "outputs": [],
   "source": [
    "#1. To what does a relative path refer?"
   ]
  },
  {
   "cell_type": "markdown",
   "id": "ff069291",
   "metadata": {},
   "source": [
    "Ans- In Python, a relative path refers to a file or directory location that is relative to the current working directory of the program. "
   ]
  },
  {
   "cell_type": "code",
   "execution_count": 2,
   "id": "680abe48",
   "metadata": {},
   "outputs": [],
   "source": [
    "#2. What does an absolute path start with your operating system?"
   ]
  },
  {
   "cell_type": "markdown",
   "id": "d445139e",
   "metadata": {},
   "source": [
    "Ans- An absolute path specifies the complete location of a file or directory, starting from the root directory and following the path down to the specific file or directory being accessed."
   ]
  },
  {
   "cell_type": "code",
   "execution_count": 3,
   "id": "cddd4ef1",
   "metadata": {},
   "outputs": [],
   "source": [
    "#3. What do the functions os.getcwd() and os.chdir() do?"
   ]
  },
  {
   "cell_type": "markdown",
   "id": "91dbaed1",
   "metadata": {},
   "source": [
    "Ans- os.getcwd() means get current working directory & os.chdir() means change the current directory by specified path."
   ]
  },
  {
   "cell_type": "code",
   "execution_count": 6,
   "id": "6ff9980b",
   "metadata": {},
   "outputs": [],
   "source": [
    "#4. What are the . and .. folders?"
   ]
  },
  {
   "cell_type": "markdown",
   "id": "7421dd2e",
   "metadata": {},
   "source": [
    "Ans- '.' represents the current directory. Whereas '..' represents the parent directory."
   ]
  },
  {
   "cell_type": "code",
   "execution_count": 2,
   "id": "58d683b1",
   "metadata": {},
   "outputs": [],
   "source": [
    "#5. In C:\\bacon\\eggs\\spam.txt, which part is the dir name, and which part is the base name?"
   ]
  },
  {
   "cell_type": "markdown",
   "id": "161fe71f",
   "metadata": {},
   "source": [
    "Ans- dir name is C:\\bacon\\eggs and base name is spam.txt."
   ]
  },
  {
   "cell_type": "code",
   "execution_count": 9,
   "id": "a12fd28f",
   "metadata": {},
   "outputs": [],
   "source": [
    "#6. What are the three “mode” arguments that can be passed to the open() function?"
   ]
  },
  {
   "cell_type": "markdown",
   "id": "0356fca6",
   "metadata": {},
   "source": [
    "Ans- The Three mode are:-\n",
    "'r': read mode, for reading the contents of an existing file (default).  'w': write mode, for writing new content to a file or overwriting existing content.  'a': append mode, for adding new content to the end of an existing file."
   ]
  },
  {
   "cell_type": "code",
   "execution_count": 4,
   "id": "91c2cb0a",
   "metadata": {},
   "outputs": [],
   "source": [
    "#7. What happens if an existing file is opened in write mode?"
   ]
  },
  {
   "cell_type": "markdown",
   "id": "c190fb94",
   "metadata": {},
   "source": [
    "Ans- it writes the file and erase the existing material."
   ]
  },
  {
   "cell_type": "code",
   "execution_count": 6,
   "id": "1a9f6a48",
   "metadata": {},
   "outputs": [],
   "source": [
    "#8. How do you tell the difference between read() and readlines()?"
   ]
  },
  {
   "cell_type": "markdown",
   "id": "1982c6c5",
   "metadata": {},
   "source": [
    "Ans- read() returns a single string containing the entire contents of the file, while readlines() returns a list of strings, where each string is a line from the file."
   ]
  },
  {
   "cell_type": "code",
   "execution_count": 15,
   "id": "f78eb60e",
   "metadata": {},
   "outputs": [],
   "source": [
    "#9. What data structure does a shelf value resemble?"
   ]
  },
  {
   "cell_type": "markdown",
   "id": "946fdb74",
   "metadata": {},
   "source": [
    "Ans- In Python, a shelf value resembles a dictionary."
   ]
  }
 ],
 "metadata": {
  "kernelspec": {
   "display_name": "Python 3 (ipykernel)",
   "language": "python",
   "name": "python3"
  },
  "language_info": {
   "codemirror_mode": {
    "name": "ipython",
    "version": 3
   },
   "file_extension": ".py",
   "mimetype": "text/x-python",
   "name": "python",
   "nbconvert_exporter": "python",
   "pygments_lexer": "ipython3",
   "version": "3.9.12"
  }
 },
 "nbformat": 4,
 "nbformat_minor": 5
}
