{
 "cells": [
  {
   "cell_type": "code",
   "execution_count": 1,
   "id": "9f8b4201",
   "metadata": {},
   "outputs": [],
   "source": [
    "#1. What does RGBA stand for?"
   ]
  },
  {
   "cell_type": "markdown",
   "id": "604b0543",
   "metadata": {},
   "source": [
    "Ans- RGBA stands for \"Red Green Blue Alpha\", which are the four color channels used to represent a color in computer graphics. The Red, Green, and Blue channels determine the color, and the Alpha channel represents the level of transparency or opacity."
   ]
  },
  {
   "cell_type": "code",
   "execution_count": 2,
   "id": "437e4e12",
   "metadata": {},
   "outputs": [],
   "source": [
    "#2. From the Pillow module, how do you get the RGBA value of any images?"
   ]
  },
  {
   "cell_type": "markdown",
   "id": "f403ce99",
   "metadata": {},
   "source": [
    "Ans- 'getpixel()'"
   ]
  },
  {
   "cell_type": "code",
   "execution_count": 3,
   "id": "95033146",
   "metadata": {},
   "outputs": [],
   "source": [
    "#3. What is a box tuple, and how does it work?"
   ]
  },
  {
   "cell_type": "markdown",
   "id": "6d4ca415",
   "metadata": {},
   "source": [
    "Ans- In Pillow module of python, a box tuple is a tuple containing four integer values, representing the left, upper, right, and lower pixel coordinates. "
   ]
  },
  {
   "cell_type": "code",
   "execution_count": 4,
   "id": "b1aa360a",
   "metadata": {},
   "outputs": [],
   "source": [
    "#4. Use your image and load in notebook then, How can you find out the width and height of an Image object?"
   ]
  },
  {
   "cell_type": "markdown",
   "id": "0f92d594",
   "metadata": {},
   "source": [
    "Ans- To find out the width and height of an Image object, we can use the size attribute of the Image object."
   ]
  },
  {
   "cell_type": "code",
   "execution_count": 5,
   "id": "9887ad44",
   "metadata": {},
   "outputs": [],
   "source": [
    "#5. What method would you call to get Image object for a 100×100 image, excluding the lower-left quarter of it?"
   ]
  },
  {
   "cell_type": "markdown",
   "id": "9dd34add",
   "metadata": {},
   "source": [
    "Ans- To get an Image object for a 100x100 image excluding the lower-left quarter of it, we can use the crop() method of the Image object."
   ]
  },
  {
   "cell_type": "code",
   "execution_count": 6,
   "id": "1c015909",
   "metadata": {},
   "outputs": [],
   "source": [
    "#6. After making changes to an Image object, how could you save it as an image file?"
   ]
  },
  {
   "cell_type": "markdown",
   "id": "964dd966",
   "metadata": {},
   "source": [
    "Ans- img.save('output.jpg', 'JPEG')"
   ]
  },
  {
   "cell_type": "code",
   "execution_count": 7,
   "id": "5663a1c5",
   "metadata": {},
   "outputs": [],
   "source": [
    "#7. What module contains Pillow’s shape-drawing code?"
   ]
  },
  {
   "cell_type": "markdown",
   "id": "31a853ca",
   "metadata": {},
   "source": [
    "Ans- ImageDraw module in Pillow can be used to draw shapes on an Image object. "
   ]
  },
  {
   "cell_type": "code",
   "execution_count": 8,
   "id": "b7a7bf44",
   "metadata": {},
   "outputs": [],
   "source": [
    "#8. Image objects do not have drawing methods. What kind of object does? How do you get this kind of object?"
   ]
  },
  {
   "cell_type": "code",
   "execution_count": 9,
   "id": "e68ad4f4",
   "metadata": {},
   "outputs": [],
   "source": [
    "Ans-\n",
    "Pillow’s ImageDraw module contains the shape-drawing code.import the module and then call the ImageDraw.Draw() function, passing the Image object we want to draw on as an argument.\n",
    "\n",
    "from PIL import Image, ImageDraw\n",
    "image = Image.open('my_image.jpg')\n",
    "draw = ImageDraw.Draw(image)\n",
    "draw.line((0, 0, 100, 100), fill='red', width=5)\n",
    "image.save('modified_image.jpg')"
   ]
  }
 ],
 "metadata": {
  "kernelspec": {
   "display_name": "Python 3 (ipykernel)",
   "language": "python",
   "name": "python3"
  },
  "language_info": {
   "codemirror_mode": {
    "name": "ipython",
    "version": 3
   },
   "file_extension": ".py",
   "mimetype": "text/x-python",
   "name": "python",
   "nbconvert_exporter": "python",
   "pygments_lexer": "ipython3",
   "version": "3.9.12"
  }
 },
 "nbformat": 4,
 "nbformat_minor": 5
}
