{
 "cells": [
  {
   "cell_type": "markdown",
   "id": "969d6b9b",
   "metadata": {},
   "source": [
    "1. Why are functions advantageous to have in your programs?\n",
    "\n",
    "Ans- Because it's improve the useability of of the code. Function reduce the time of codeing."
   ]
  },
  {
   "cell_type": "markdown",
   "id": "a1e4f498",
   "metadata": {},
   "source": [
    "2. When does the code in a function run: when it's specified or when it's called?\n",
    "\n",
    "Ans- when the function called the code inside the function starts working."
   ]
  },
  {
   "cell_type": "markdown",
   "id": "03323f0d",
   "metadata": {},
   "source": [
    "3. What statement creates a function?\n",
    "\n",
    "Ans- def"
   ]
  },
  {
   "cell_type": "markdown",
   "id": "487b89cf",
   "metadata": {},
   "source": [
    "4. What is the difference between a function and a function call?\n",
    "\n",
    "Ans- function is a set of algoritham where as function call use the these algorith."
   ]
  },
  {
   "cell_type": "markdown",
   "id": "c212a93a",
   "metadata": {},
   "source": [
    "5. How many global scopes are there in a Python program? How many local scopes?\n",
    "\n",
    "Ans- there is only one global veriable & two local veriable."
   ]
  },
  {
   "cell_type": "markdown",
   "id": "8477b560",
   "metadata": {},
   "source": [
    "6. What happens to variables in a local scope when the function call returns?\n",
    "\n",
    "Ans- when thefunction call returns local veriable get excuated at that time only and after they destroyed."
   ]
  },
  {
   "cell_type": "markdown",
   "id": "8f8d8d4b",
   "metadata": {},
   "source": [
    "7. What is the concept of a return value? Is it possible to have a return value in an expression?\n",
    "\n",
    "Ans- return provides the specific value of the variable from the function. Yes it is possible to have a return value in an expression."
   ]
  },
  {
   "cell_type": "markdown",
   "id": "aa408274",
   "metadata": {},
   "source": [
    "8. If a function does not have a return statement, what is the return value of a call to that function?\n",
    "\n",
    "Ans- None"
   ]
  },
  {
   "cell_type": "markdown",
   "id": "e561be5a",
   "metadata": {},
   "source": [
    "9. How do you make a function variable refer to the global variable?\n",
    "\n",
    "Ans- make a veriable before start of function or write global before veriable then it become global veriable."
   ]
  },
  {
   "cell_type": "markdown",
   "id": "11f9701f",
   "metadata": {},
   "source": [
    "10. What is the data type of None?\n",
    "\n",
    "Ans- None type"
   ]
  },
  {
   "cell_type": "markdown",
   "id": "9bbcab23",
   "metadata": {},
   "source": [
    "11. What does the sentence import are allyourpetsnamederic do?\n",
    "\n",
    "Ans- import keywords import a module."
   ]
  },
  {
   "cell_type": "markdown",
   "id": "e8c8a5f6",
   "metadata": {},
   "source": [
    "12. If you had a bacon() feature in a spam module, what would you call it after importing spam?\n",
    "\n",
    "Ans- bacon()"
   ]
  },
  {
   "cell_type": "markdown",
   "id": "68e61cbb",
   "metadata": {},
   "source": [
    "13. What can you do to save a programme from crashing if it encounters an error?\n",
    "\n",
    "Ans- By using try & except method."
   ]
  },
  {
   "cell_type": "markdown",
   "id": "3c2d0e87",
   "metadata": {},
   "source": [
    "14. What is the purpose of the try clause? What is the purpose of the except clause?\n",
    "\n",
    "Ans- try use for a suspected function and except allow if the suspected function is true."
   ]
  }
 ],
 "metadata": {
  "kernelspec": {
   "display_name": "Python 3 (ipykernel)",
   "language": "python",
   "name": "python3"
  },
  "language_info": {
   "codemirror_mode": {
    "name": "ipython",
    "version": 3
   },
   "file_extension": ".py",
   "mimetype": "text/x-python",
   "name": "python",
   "nbconvert_exporter": "python",
   "pygments_lexer": "ipython3",
   "version": "3.9.12"
  }
 },
 "nbformat": 4,
 "nbformat_minor": 5
}
