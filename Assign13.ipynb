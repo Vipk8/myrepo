{
 "cells": [
  {
   "cell_type": "code",
   "execution_count": 2,
   "id": "4619181b",
   "metadata": {},
   "outputs": [],
   "source": [
    "#1. What advantages do Excel spreadsheets have over CSV spreadsheets?"
   ]
  },
  {
   "cell_type": "markdown",
   "id": "339ad9c1",
   "metadata": {},
   "source": [
    "Ans- \n",
    "Excel spreadsheets offer more functionality and flexibility than CSV files, like Formatting, Calculations, Graphs and Charts, Multiple sheets, Data Validation.\n",
    "However, CSV files are often used for simple data storage and transfer because they are lightweight and widely supported by different software applications."
   ]
  },
  {
   "cell_type": "code",
   "execution_count": 3,
   "id": "ffba796a",
   "metadata": {},
   "outputs": [],
   "source": [
    "#2.What do you pass to csv.reader() and csv.writer() to create reader and writer objects?"
   ]
  },
  {
   "cell_type": "code",
   "execution_count": 4,
   "id": "80293e71",
   "metadata": {},
   "outputs": [],
   "source": [
    "#Ans- \n",
    "import csv\n",
    "\n",
    "with open('example.csv', 'r') as file:\n",
    "    reader = csv.reader(file)\n",
    "#and\n",
    "\n",
    "import csv\n",
    "\n",
    "with open('example.csv', 'w', newline='') as file:\n",
    "    writer = csv.writer(file)"
   ]
  },
  {
   "cell_type": "code",
   "execution_count": 10,
   "id": "bde4611a",
   "metadata": {},
   "outputs": [],
   "source": [
    "#3. What modes do File objects for reader and writer objects need to be opened in?"
   ]
  },
  {
   "cell_type": "markdown",
   "id": "8825345d",
   "metadata": {},
   "source": [
    "Ans- for reader mode \"r\" and for writer mode \"w\"."
   ]
  },
  {
   "cell_type": "code",
   "execution_count": 12,
   "id": "f5dd445a",
   "metadata": {},
   "outputs": [],
   "source": [
    "#4. What method takes a list argument and writes it to a CSV file?"
   ]
  },
  {
   "cell_type": "markdown",
   "id": "e2909bba",
   "metadata": {},
   "source": [
    "Ans- In Python's csv module, we can use the writerow() method to write a single row (as a list) to a CSV file using a csv.writer object."
   ]
  },
  {
   "cell_type": "code",
   "execution_count": 14,
   "id": "346d49c8",
   "metadata": {},
   "outputs": [],
   "source": [
    "#5. What do the keyword arguments delimiter and line terminator do?"
   ]
  },
  {
   "cell_type": "markdown",
   "id": "79f11d42",
   "metadata": {},
   "source": [
    "Ans- the delimiter keyword argument is used to specify the character used to separate fields in a CSV file. Whereas the lineterminator keyword argument is used to specify the character(s) used to terminate each line in a CSV file."
   ]
  },
  {
   "cell_type": "code",
   "execution_count": 16,
   "id": "06786eb6",
   "metadata": {},
   "outputs": [],
   "source": [
    "#6. What function takes a string of JSON data and returns a Python data structure?"
   ]
  },
  {
   "cell_type": "markdown",
   "id": "e7016953",
   "metadata": {},
   "source": [
    "Ans- 'json.loads()'"
   ]
  },
  {
   "cell_type": "code",
   "execution_count": 18,
   "id": "e42def22",
   "metadata": {},
   "outputs": [],
   "source": [
    "#7. What function takes a Python data structure and returns a string of JSON data?"
   ]
  },
  {
   "cell_type": "markdown",
   "id": "b634ba37",
   "metadata": {},
   "source": [
    "Ans- 'json.dumps()'"
   ]
  }
 ],
 "metadata": {
  "kernelspec": {
   "display_name": "Python 3 (ipykernel)",
   "language": "python",
   "name": "python3"
  },
  "language_info": {
   "codemirror_mode": {
    "name": "ipython",
    "version": 3
   },
   "file_extension": ".py",
   "mimetype": "text/x-python",
   "name": "python",
   "nbconvert_exporter": "python",
   "pygments_lexer": "ipython3",
   "version": "3.9.12"
  }
 },
 "nbformat": 4,
 "nbformat_minor": 5
}
