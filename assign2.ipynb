{
 "cells": [
  {
   "cell_type": "code",
   "execution_count": null,
   "id": "3fbced52",
   "metadata": {},
   "outputs": [],
   "source": [
    "#1.What are the two values of the Boolean data type? How do you write them?\n",
    "\n",
    "#Ans- the two values are True & False. They are used to check the expression."
   ]
  },
  {
   "cell_type": "code",
   "execution_count": 1,
   "id": "ce128895",
   "metadata": {},
   "outputs": [
    {
     "data": {
      "text/plain": [
       "True"
      ]
     },
     "execution_count": 1,
     "metadata": {},
     "output_type": "execute_result"
    }
   ],
   "source": [
    " a= [10,1,2,3,4]\n",
    " 10 in a"
   ]
  },
  {
   "cell_type": "markdown",
   "id": "d1426b05",
   "metadata": {},
   "source": [
    "2. What are the three different types of Boolean operators?\n",
    "\n",
    "Ans- AND OR NOT these three are Boolean operators. "
   ]
  },
  {
   "cell_type": "markdown",
   "id": "52cd74df",
   "metadata": {},
   "source": [
    "3. Make a list of each Boolean operator's truth tables (i.e. every possible combination of Boolean values for the operator and what it evaluate ).\n",
    "\n",
    "Ans- T and T = T\n",
    "     T and F = F\n",
    "     F and F = F\n",
    "     F and T = F\n",
    "     \n",
    "     T or T = T\n",
    "     T or F = T\n",
    "     F or T = T\n",
    "     F or F = F\n",
    "     \n",
    "     not T = F\n",
    "     not F = T\n",
    "     \n",
    "     \n",
    "T = True\n",
    "F = False"
   ]
  },
  {
   "cell_type": "markdown",
   "id": "5ba42f9d",
   "metadata": {},
   "source": [
    "4. What are the values of the following expressions?\n",
    "(5 > 4) and (3 == 5)\n",
    "not (5 > 4)\n",
    "(5 > 4) or (3 == 5)\n",
    "not ((5 > 4) or (3 == 5))\n",
    "(True and True) and (True == False)\n",
    "(not False) or (not True)\n",
    "\n",
    "Ans- (5 > 4) and (3 == 5) = False\n",
    "     not (5 > 4)          = False\n",
    "     (5 > 4) or (3 == 5)  = True\n",
    "not ((5 > 4) or (3 == 5)) = False\n",
    "(True and True) and (True == False) = False\n",
    "(not False) or (not True)           = True"
   ]
  },
  {
   "cell_type": "markdown",
   "id": "ffcf056d",
   "metadata": {},
   "source": [
    "5. What are the six comparison operators?\n",
    "\n",
    "Ans- The six comparison operators are:-\n",
    "     ==, !=, >=, <=, <, >"
   ]
  },
  {
   "cell_type": "markdown",
   "id": "137c9d5a",
   "metadata": {},
   "source": [
    "6. How do you tell the difference between the equal to and assignment operators?Describe a condition and when you would use one.\n",
    "\n",
    "Ans- Equal to shows a relation between operators and operands where as assignment operator is only used to assign a value only.\n",
    "     equal to used to chaeck wheather the given two operands are equals or not where as assignment is used to provide a value to a veriable."
   ]
  },
  {
   "cell_type": "markdown",
   "id": "ad0e5a50",
   "metadata": {},
   "source": [
    "7. Identify the three blocks in this code:\n",
    "spam = 0\n",
    "if spam == 10:\n",
    "    print('eggs')\n",
    "if spam > 5:\n",
    "    print('bacon')\n",
    "else:\n",
    "    print('ham')\n",
    "    print('spam')\n",
    "    print('spam')\n",
    "    \n",
    "Ans- the outcome is 'ham' , 'spam' , 'spam' and the three blocks are if , if , else and these are conditional block."
   ]
  },
  {
   "cell_type": "code",
   "execution_count": 4,
   "id": "9387c2d3",
   "metadata": {},
   "outputs": [
    {
     "name": "stdout",
     "output_type": "stream",
     "text": [
      "enter the integer 5\n",
      "Greetings!\n"
     ]
    }
   ],
   "source": [
    "#8. Write code that prints Hello if 1 is stored in spam, prints Howdy if 2 is stored in spam, and prints Greetings! \n",
    "#if anything else is stored in spam.\n",
    "\n",
    "spam = int(input(\"enter the integer \"))\n",
    "if spam==1:\n",
    "    print(\"Hello\")\n",
    "elif spam==2:\n",
    "    print(\"Howdy\")\n",
    "else:\n",
    "    print(\"Greetings!\")"
   ]
  },
  {
   "cell_type": "markdown",
   "id": "e7ec4abc",
   "metadata": {},
   "source": [
    "9.If your programme is stuck in an endless loop, what keys you’ll press?\n",
    "\n",
    "Ans- I will go to Kernal and Restart it."
   ]
  },
  {
   "cell_type": "markdown",
   "id": "3a5aa0f1",
   "metadata": {},
   "source": [
    "10. How can you tell the difference between break and continue?\n",
    "\n",
    "Ans- Break stop the loop when it will called where as continue will let go the current loop when it will called. "
   ]
  },
  {
   "cell_type": "markdown",
   "id": "080432eb",
   "metadata": {},
   "source": [
    "11. In a for loop, what is the difference between range(10), range(0, 10), and range(0, 10, 1)?\n",
    "\n",
    "Ans- In a for loop range(10) & range(0,10) both are same but in range(0,10,1) means loop will go from 0 to 9 exculding 9 with a step size of 1."
   ]
  },
  {
   "cell_type": "markdown",
   "id": "2df15e6c",
   "metadata": {},
   "source": [
    "12. Write a short program that prints the numbers 1 to 10 using a for loop. Then write an equivalent program that prints the numbers 1 to 10 using a while loop."
   ]
  },
  {
   "cell_type": "code",
   "execution_count": 5,
   "id": "f473d41e",
   "metadata": {
    "scrolled": true
   },
   "outputs": [
    {
     "name": "stdout",
     "output_type": "stream",
     "text": [
      "0\n",
      "1\n",
      "2\n",
      "3\n",
      "4\n",
      "5\n",
      "6\n",
      "7\n",
      "8\n",
      "9\n"
     ]
    }
   ],
   "source": [
    "range(10)\n",
    "for i in range(10):\n",
    "    print(i)"
   ]
  },
  {
   "cell_type": "code",
   "execution_count": 1,
   "id": "3ec9489a",
   "metadata": {},
   "outputs": [
    {
     "name": "stdout",
     "output_type": "stream",
     "text": [
      "1\n",
      "2\n",
      "3\n",
      "4\n",
      "5\n",
      "6\n",
      "7\n",
      "8\n",
      "9\n",
      "10\n"
     ]
    }
   ],
   "source": [
    "n = 1\n",
    "while n<=10:\n",
    "    print(n)\n",
    "    n += 1"
   ]
  },
  {
   "cell_type": "code",
   "execution_count": null,
   "id": "3f71695e",
   "metadata": {},
   "outputs": [],
   "source": [
    "13. If you had a function named bacon() inside a module named spam, how would you call it after importing spam?\n",
    "\n",
    "Ans- from spam import bacon()"
   ]
  }
 ],
 "metadata": {
  "kernelspec": {
   "display_name": "Python 3 (ipykernel)",
   "language": "python",
   "name": "python3"
  },
  "language_info": {
   "codemirror_mode": {
    "name": "ipython",
    "version": 3
   },
   "file_extension": ".py",
   "mimetype": "text/x-python",
   "name": "python",
   "nbconvert_exporter": "python",
   "pygments_lexer": "ipython3",
   "version": "3.9.12"
  }
 },
 "nbformat": 4,
 "nbformat_minor": 5
}
