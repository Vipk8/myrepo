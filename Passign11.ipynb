{
 "cells": [
  {
   "cell_type": "code",
   "execution_count": 1,
   "id": "aa632637",
   "metadata": {},
   "outputs": [],
   "source": [
    "#1.Write a Python program to find words which are greater than given length k?"
   ]
  },
  {
   "cell_type": "code",
   "execution_count": 14,
   "id": "ff7c2fe4",
   "metadata": {},
   "outputs": [
    {
     "name": "stdout",
     "output_type": "stream",
     "text": [
      "apple\n",
      "elephant\n"
     ]
    }
   ],
   "source": [
    "def words_longer_then_k(w,n):\n",
    "    for i in w:\n",
    "        if len(i) > n:\n",
    "            print(i)\n",
    "            \n",
    "words_longer_then_k([\"apple\",\"cat\",\"rat\",\"elephant\"],3)      "
   ]
  },
  {
   "cell_type": "code",
   "execution_count": 2,
   "id": "01d725ba",
   "metadata": {},
   "outputs": [],
   "source": [
    "#2.Write a Python program for removing i-th character from a string?"
   ]
  },
  {
   "cell_type": "code",
   "execution_count": 36,
   "id": "7175eecf",
   "metadata": {},
   "outputs": [
    {
     "data": {
      "text/plain": [
       "'aple'"
      ]
     },
     "execution_count": 36,
     "metadata": {},
     "output_type": "execute_result"
    }
   ],
   "source": [
    "def rm_str(w,n):\n",
    "    return w[:n] + w[n+1:]\n",
    "rm_str(\"apple\",2)"
   ]
  },
  {
   "cell_type": "code",
   "execution_count": 3,
   "id": "fb139652",
   "metadata": {},
   "outputs": [],
   "source": [
    "#3.Write a Python program to split and join a string?"
   ]
  },
  {
   "cell_type": "code",
   "execution_count": 66,
   "id": "849a54fc",
   "metadata": {},
   "outputs": [
    {
     "data": {
      "text/plain": [
       "'this*is*a*pen'"
      ]
     },
     "execution_count": 66,
     "metadata": {},
     "output_type": "execute_result"
    }
   ],
   "source": [
    "def spj(w,s):\n",
    "    m = w.split()\n",
    "    j = s.join(m)\n",
    "    return j\n",
    "spj(\"this is a pen\",'*')"
   ]
  },
  {
   "cell_type": "code",
   "execution_count": 4,
   "id": "4029d0b0",
   "metadata": {},
   "outputs": [],
   "source": [
    "#4.Write a Python to check if a given string is binary string or not?"
   ]
  },
  {
   "cell_type": "code",
   "execution_count": 85,
   "id": "48b5b3c9",
   "metadata": {},
   "outputs": [
    {
     "data": {
      "text/plain": [
       "False"
      ]
     },
     "execution_count": 85,
     "metadata": {},
     "output_type": "execute_result"
    }
   ],
   "source": [
    "def bi_str(w):\n",
    "    for i in w:\n",
    "        if i!=\"0\" and i!=\"1\":\n",
    "            return False\n",
    "    else:\n",
    "        return True\n",
    "bi_str(\"123456\")"
   ]
  },
  {
   "cell_type": "code",
   "execution_count": 5,
   "id": "0d095d6e",
   "metadata": {},
   "outputs": [],
   "source": [
    "#5.Write a Python program to find uncommon words from two Strings?"
   ]
  },
  {
   "cell_type": "code",
   "execution_count": 88,
   "id": "89990a08",
   "metadata": {},
   "outputs": [
    {
     "data": {
      "text/plain": [
       "['this', 'book', 'that', 'pen']"
      ]
     },
     "execution_count": 88,
     "metadata": {},
     "output_type": "execute_result"
    }
   ],
   "source": [
    "def uncommon_words(s1, s2):\n",
    "    w1 = set(s1.split())\n",
    "    w2 = set(s2.split())\n",
    "    return list(w1.symmetric_difference(w2))\n",
    "uncommon_words(\"this is a pen\",\"that is a book\")"
   ]
  },
  {
   "cell_type": "code",
   "execution_count": 93,
   "id": "3c1c57ef",
   "metadata": {},
   "outputs": [],
   "source": [
    "#6.Write a Python to find all duplicate characters in string?"
   ]
  },
  {
   "cell_type": "code",
   "execution_count": 95,
   "id": "aba87e4d",
   "metadata": {},
   "outputs": [
    {
     "data": {
      "text/plain": [
       "['i', 's', ' ']"
      ]
     },
     "execution_count": 95,
     "metadata": {},
     "output_type": "execute_result"
    }
   ],
   "source": [
    "def find_duplicates(string):\n",
    "    duplicates = []\n",
    "    for char in string:\n",
    "        if string.count(char) > 1 and char not in duplicates:\n",
    "            duplicates.append(char)\n",
    "    return duplicates\n",
    "find_duplicates(\"this is a pen.\")"
   ]
  },
  {
   "cell_type": "code",
   "execution_count": 7,
   "id": "3a4dfe80",
   "metadata": {},
   "outputs": [],
   "source": [
    "#7.Write a Python Program to check if a string contains any special character?"
   ]
  },
  {
   "cell_type": "code",
   "execution_count": 92,
   "id": "5a185e69",
   "metadata": {},
   "outputs": [],
   "source": [
    "x = \"this is @ pen\"\n",
    "for i in x:\n",
    "    if i==\"!@#$%^&*<>?|/\\*.\":\n",
    "        print(i)"
   ]
  },
  {
   "cell_type": "code",
   "execution_count": 102,
   "id": "57302f1c",
   "metadata": {},
   "outputs": [
    {
     "data": {
      "text/plain": [
       "True"
      ]
     },
     "execution_count": 102,
     "metadata": {},
     "output_type": "execute_result"
    }
   ],
   "source": [
    "import string\n",
    "\n",
    "def sp_characters(s):\n",
    "    for i in s:\n",
    "        if i not in string.ascii_letters and i not in string.digits:\n",
    "            return True\n",
    "    return False\n",
    "contains_special_characters(\"this$apple\")"
   ]
  }
 ],
 "metadata": {
  "kernelspec": {
   "display_name": "Python 3 (ipykernel)",
   "language": "python",
   "name": "python3"
  },
  "language_info": {
   "codemirror_mode": {
    "name": "ipython",
    "version": 3
   },
   "file_extension": ".py",
   "mimetype": "text/x-python",
   "name": "python",
   "nbconvert_exporter": "python",
   "pygments_lexer": "ipython3",
   "version": "3.9.12"
  }
 },
 "nbformat": 4,
 "nbformat_minor": 5
}
